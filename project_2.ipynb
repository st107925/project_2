{
 "cells": [
  {
   "cell_type": "markdown",
   "metadata": {},
   "source": [
    "# Прогнозирование оттока клиентов в сети отелей «Как в гостях»"
   ]
  },
  {
   "cell_type": "markdown",
   "metadata": {},
   "source": [
    "Проект: прогнозирование оттока клиентов в сети отелей \"Как в гостях\"\n",
    "\n",
    "Цель проекта: разработать систему, которая будет прогнозировать отмену бронирования клиентом\n",
    "\n",
    "План работы: \n",
    "- провести предобработку данных\n",
    "- сформулировать задачу машинного обучения, на основе бизнес-задачи\n",
    "- создать наиболее подходящую для этой задачи модель машинного обучения\n",
    "- получить прогноз прибыли с внедрением данной системы, на ее основе сделать вывод о рентабельности вложений в систему депозитов\n",
    "- провести исследовательский анализ данных, на его основе выделить отличительные признаки \"ненадежного\" клинта"
   ]
  },
  {
   "cell_type": "code",
   "execution_count": 1,
   "metadata": {},
   "outputs": [],
   "source": [
    "import pandas as pd\n",
    "import numpy as np\n",
    "import matplotlib.pyplot as plt\n",
    "import seaborn as sns\n",
    "from sklearn.preprocessing import OneHotEncoder\n",
    "from sklearn.compose import make_column_transformer\n",
    "from sklearn.model_selection import train_test_split\n",
    "from sklearn.model_selection import cross_val_score\n",
    "from sklearn.tree import DecisionTreeClassifier\n",
    "from sklearn.linear_model import LogisticRegression\n",
    "from sklearn.ensemble import RandomForestClassifier\n",
    "import warnings\n",
    "from sklearn.metrics import f1_score\n",
    "from sklearn.metrics import roc_auc_score\n",
    "import random\n",
    "import matplotlib.pyplot as plt\n",
    "from sklearn.metrics import precision_score"
   ]
  },
  {
   "cell_type": "markdown",
   "metadata": {},
   "source": [
    "### Шаг 1. Откройте файлы с данными"
   ]
  },
  {
   "cell_type": "markdown",
   "metadata": {},
   "source": [
    "Откроем файлы данных, поместим их в два разных датафрейма"
   ]
  },
  {
   "cell_type": "code",
   "execution_count": 2,
   "metadata": {},
   "outputs": [],
   "source": [
    "df_train = pd.read_csv('/datasets/hotel_train.csv')\n",
    "df_test = pd.read_csv('/datasets/hotel_test.csv')\n"
   ]
  },
  {
   "cell_type": "markdown",
   "metadata": {},
   "source": [
    "### Шаг 2. Предобработка и исследовательский анализ данных"
   ]
  },
  {
   "cell_type": "markdown",
   "metadata": {},
   "source": [
    "В обоих датафрейме пропусков нет, тренировочный в два раза больше тестового."
   ]
  },
  {
   "cell_type": "code",
   "execution_count": 3,
   "metadata": {
    "scrolled": true
   },
   "outputs": [
    {
     "name": "stdout",
     "output_type": "stream",
     "text": [
      "<class 'pandas.core.frame.DataFrame'>\n",
      "RangeIndex: 65229 entries, 0 to 65228\n",
      "Data columns (total 25 columns):\n",
      " #   Column                          Non-Null Count  Dtype  \n",
      "---  ------                          --------------  -----  \n",
      " 0   id                              65229 non-null  int64  \n",
      " 1   is_canceled                     65229 non-null  int64  \n",
      " 2   lead_time                       65229 non-null  float64\n",
      " 3   arrival_date_year               65229 non-null  int64  \n",
      " 4   arrival_date_month              65229 non-null  object \n",
      " 5   arrival_date_week_number        65229 non-null  int64  \n",
      " 6   arrival_date_day_of_month       65229 non-null  int64  \n",
      " 7   stays_in_weekend_nights         65229 non-null  int64  \n",
      " 8   stays_in_week_nights            65229 non-null  int64  \n",
      " 9   adults                          65229 non-null  float64\n",
      " 10  children                        65229 non-null  float64\n",
      " 11  babies                          65229 non-null  float64\n",
      " 12  meal                            65229 non-null  object \n",
      " 13  country                         65229 non-null  object \n",
      " 14  distribution_channel            65229 non-null  object \n",
      " 15  is_repeated_guest               65229 non-null  int64  \n",
      " 16  previous_cancellations          65229 non-null  int64  \n",
      " 17  previous_bookings_not_canceled  65229 non-null  int64  \n",
      " 18  reserved_room_type              65229 non-null  object \n",
      " 19  booking_changes                 65229 non-null  int64  \n",
      " 20  days_in_waiting_list            65229 non-null  int64  \n",
      " 21  customer_type                   65229 non-null  object \n",
      " 22  required_car_parking_spaces     65229 non-null  int64  \n",
      " 23  total_of_special_requests       65229 non-null  int64  \n",
      " 24  total_nights                    65229 non-null  int64  \n",
      "dtypes: float64(4), int64(15), object(6)\n",
      "memory usage: 12.4+ MB\n"
     ]
    }
   ],
   "source": [
    "df_train.info()"
   ]
  },
  {
   "cell_type": "code",
   "execution_count": 4,
   "metadata": {
    "scrolled": true
   },
   "outputs": [
    {
     "name": "stdout",
     "output_type": "stream",
     "text": [
      "<class 'pandas.core.frame.DataFrame'>\n",
      "RangeIndex: 32412 entries, 0 to 32411\n",
      "Data columns (total 25 columns):\n",
      " #   Column                          Non-Null Count  Dtype  \n",
      "---  ------                          --------------  -----  \n",
      " 0   id                              32412 non-null  int64  \n",
      " 1   is_canceled                     32412 non-null  int64  \n",
      " 2   lead_time                       32412 non-null  float64\n",
      " 3   arrival_date_year               32412 non-null  int64  \n",
      " 4   arrival_date_month              32412 non-null  object \n",
      " 5   arrival_date_week_number        32412 non-null  int64  \n",
      " 6   arrival_date_day_of_month       32412 non-null  int64  \n",
      " 7   stays_in_weekend_nights         32412 non-null  int64  \n",
      " 8   stays_in_week_nights            32412 non-null  int64  \n",
      " 9   adults                          32412 non-null  float64\n",
      " 10  children                        32412 non-null  float64\n",
      " 11  babies                          32412 non-null  float64\n",
      " 12  meal                            32412 non-null  object \n",
      " 13  country                         32412 non-null  object \n",
      " 14  distribution_channel            32412 non-null  object \n",
      " 15  is_repeated_guest               32412 non-null  int64  \n",
      " 16  previous_cancellations          32412 non-null  int64  \n",
      " 17  previous_bookings_not_canceled  32412 non-null  int64  \n",
      " 18  reserved_room_type              32412 non-null  object \n",
      " 19  booking_changes                 32412 non-null  int64  \n",
      " 20  days_in_waiting_list            32412 non-null  int64  \n",
      " 21  customer_type                   32412 non-null  object \n",
      " 22  required_car_parking_spaces     32412 non-null  int64  \n",
      " 23  total_of_special_requests       32412 non-null  int64  \n",
      " 24  total_nights                    32412 non-null  int64  \n",
      "dtypes: float64(4), int64(15), object(6)\n",
      "memory usage: 6.2+ MB\n"
     ]
    }
   ],
   "source": [
    "df_test.info()"
   ]
  },
  {
   "cell_type": "markdown",
   "metadata": {},
   "source": [
    "Удалим лишнее пропуски в ячейках столбцах meal и reserved_room_type в обоих наборах данных"
   ]
  },
  {
   "cell_type": "code",
   "execution_count": 5,
   "metadata": {},
   "outputs": [],
   "source": [
    "df_train['meal'] = df_train['meal'].str[:2]\n",
    "df_test['meal'] = df_test['meal'].str[:2]\n"
   ]
  },
  {
   "cell_type": "code",
   "execution_count": 6,
   "metadata": {},
   "outputs": [],
   "source": [
    "df_train['reserved_room_type'] = df_train['reserved_room_type'].str[:1]\n",
    "df_test['reserved_room_type'] = df_test['reserved_room_type'].str[:1]"
   ]
  },
  {
   "cell_type": "markdown",
   "metadata": {},
   "source": [
    "Проверим наличие пропусков в обоих датафреймах"
   ]
  },
  {
   "cell_type": "code",
   "execution_count": 7,
   "metadata": {},
   "outputs": [
    {
     "name": "stdout",
     "output_type": "stream",
     "text": [
      "0\n"
     ]
    },
    {
     "data": {
      "text/plain": [
       "0"
      ]
     },
     "execution_count": 7,
     "metadata": {},
     "output_type": "execute_result"
    }
   ],
   "source": [
    "print(df_test.isna().sum().sum())\n",
    "df_train.isna().sum().sum()"
   ]
  },
  {
   "cell_type": "markdown",
   "metadata": {},
   "source": [
    "В столбце id нет дубликатов, следовательно, все опреации бронирования различны"
   ]
  },
  {
   "cell_type": "code",
   "execution_count": 8,
   "metadata": {},
   "outputs": [
    {
     "name": "stdout",
     "output_type": "stream",
     "text": [
      "65229\n",
      "32412\n"
     ]
    }
   ],
   "source": [
    "print(len(pd.unique(df_train['id'])))\n",
    "print(len(pd.unique(df_test['id'])))"
   ]
  },
  {
   "cell_type": "markdown",
   "metadata": {},
   "source": [
    "Удалим столбец id из обоих датафреймов, для последующей работы он не пригодится"
   ]
  },
  {
   "cell_type": "code",
   "execution_count": 9,
   "metadata": {},
   "outputs": [],
   "source": [
    "df_train = df_train.drop('id', axis = 1)\n",
    "df_test = df_test.drop('id', axis = 1)"
   ]
  },
  {
   "cell_type": "markdown",
   "metadata": {},
   "source": [
    "В тренировочном датафрейме около 30% полных дубликатов, а в тестовом около 20%. Удалять такой объем данных неккоректно, а обработать их без связи с поставщиками данных не представляется возможным- оставим их в датафреймах. А еще такое количество дубликатов можно объяснить особенностями бизнеса: люди стараются останавливаться в \"проверенных\" отелях, а следовательно и параметры заказа зачастую не изменяются."
   ]
  },
  {
   "cell_type": "code",
   "execution_count": 10,
   "metadata": {},
   "outputs": [
    {
     "name": "stdout",
     "output_type": "stream",
     "text": [
      "21377\n",
      "7717\n"
     ]
    }
   ],
   "source": [
    "print(df_train.duplicated().sum())\n",
    "print(df_test.duplicated().sum())"
   ]
  },
  {
   "cell_type": "markdown",
   "metadata": {},
   "source": [
    "Бронирование 8 парковочных мест, скорее всего, выброс, поэтому удалим такие ячейки (их всего 2)"
   ]
  },
  {
   "cell_type": "code",
   "execution_count": 11,
   "metadata": {},
   "outputs": [
    {
     "name": "stdout",
     "output_type": "stream",
     "text": [
      "2\n"
     ]
    }
   ],
   "source": [
    "print(len(df_test[df_test['required_car_parking_spaces'] == 8]))\n",
    "df_test = df_test[df_test['required_car_parking_spaces'] != 8]\n"
   ]
  },
  {
   "cell_type": "code",
   "execution_count": 12,
   "metadata": {},
   "outputs": [
    {
     "name": "stdout",
     "output_type": "stream",
     "text": [
      "[0. 2. 1. 3.]\n",
      "[0. 1. 2. 3.]\n"
     ]
    }
   ],
   "source": [
    "print(df_test['children'].unique())\n",
    "print(df_train['children'].unique())"
   ]
  },
  {
   "cell_type": "markdown",
   "metadata": {},
   "source": [
    "По тем же причинам, удалим все бронирования с 9 и 10 младенцами (всего 2)"
   ]
  },
  {
   "cell_type": "code",
   "execution_count": 13,
   "metadata": {},
   "outputs": [
    {
     "name": "stdout",
     "output_type": "stream",
     "text": [
      "[0. 1. 2.]\n",
      "[ 0.  1.  2. 10.  9.]\n",
      "1\n",
      "1\n"
     ]
    }
   ],
   "source": [
    "print(df_test['babies'].unique())\n",
    "print(df_train['babies'].unique())\n",
    "print(len(df_train[df_train['babies'] == 9]))\n",
    "print(len(df_train[df_train['babies'] == 10]))\n",
    "df_train = df_train[df_train['babies'] != 9]\n",
    "df_train = df_train[df_train['babies'] != 10]"
   ]
  },
  {
   "cell_type": "markdown",
   "metadata": {},
   "source": [
    "Удалим строки, в которых adults = 0, очевидно, такого не может быть."
   ]
  },
  {
   "cell_type": "code",
   "execution_count": 14,
   "metadata": {},
   "outputs": [
    {
     "name": "stdout",
     "output_type": "stream",
     "text": [
      "166\n",
      "69\n"
     ]
    }
   ],
   "source": [
    "print(len(df_train[(df_train['adults'] == 0)]))\n",
    "print(len(df_test[(df_test['adults'] == 0)]))\n",
    "df_train = df_train[(df_train['adults'] != 0)]\n",
    "df_test = df_test[(df_test['adults'] != 0)]"
   ]
  },
  {
   "cell_type": "markdown",
   "metadata": {},
   "source": [
    "Удалим столбец arrival_date_year, так как анализировать его с помощью машинного обучения некорректно : количество отказов от брони зависит не от года бронирования , а от каких-то экономических изменений , с которыми этот год связан, но такой анализ неподвластен модели. В любом случае, нам нужно создать модель для предсказания поведения клиента, а клиенты не будут вести, себя так , как вели бы себя в 2015 году."
   ]
  },
  {
   "cell_type": "code",
   "execution_count": 15,
   "metadata": {},
   "outputs": [],
   "source": [
    "df_train = df_train.drop('arrival_date_year',axis = 1)\n",
    "df_test = df_test.drop('arrival_date_year',axis = 1)"
   ]
  },
  {
   "cell_type": "markdown",
   "metadata": {},
   "source": [
    "Функци month, которая будет переводить письменное название месяца в числовое, а также создадим столбец season, в котором находится информация о сезоне каждой операции"
   ]
  },
  {
   "cell_type": "code",
   "execution_count": 16,
   "metadata": {},
   "outputs": [],
   "source": [
    "def month(df_train):\n",
    "    for i in df_train.index:\n",
    "        if df_train['arrival_date_month'][i] == \"January\":\n",
    "            df_train['arrival_date_month'][i] = 1;\n",
    "            df_train['season'][i] = '1'\n",
    "        elif df_train['arrival_date_month'][i] == \"February\":\n",
    "            df_train['arrival_date_month'][i] = 2;\n",
    "            df_train['season'][i] = '1'\n",
    "        elif df_train['arrival_date_month'][i] == \"March\":\n",
    "            df_train['arrival_date_month'][i] = 3;\n",
    "            df_train['season'][i] = '2'\n",
    "        elif df_train['arrival_date_month'][i] == \"April\":\n",
    "            df_train['arrival_date_month'][i] = 4;\n",
    "            df_train['season'][i] = '2'\n",
    "        elif df_train['arrival_date_month'][i] == \"May\":\n",
    "            df_train['arrival_date_month'][i] = 5;\n",
    "            df_train['season'][i] = '2'\n",
    "        elif df_train['arrival_date_month'][i] == \"June\":\n",
    "            df_train['arrival_date_month'][i] = 6;\n",
    "            df_train['season'][i] = '3'\n",
    "        elif df_train['arrival_date_month'][i] == \"July\":\n",
    "            df_train['arrival_date_month'][i] = 7;\n",
    "            df_train['season'][i] = '3'\n",
    "        elif df_train['arrival_date_month'][i] == \"August\":\n",
    "            df_train['arrival_date_month'][i] = 8;\n",
    "            df_train['season'][i] = \"3\";\n",
    "        elif df_train['arrival_date_month'][i] == \"September\":\n",
    "            df_train['arrival_date_month'][i] = 9;\n",
    "            df_train['season'][i] = '2'\n",
    "        elif df_train['arrival_date_month'][i] == \"October\":\n",
    "            df_train['arrival_date_month'][i] = 10;\n",
    "            df_train['season'][i] = '2'\n",
    "        elif df_train['arrival_date_month'][i] == \"November\":\n",
    "            df_train['arrival_date_month'][i] = 11;\n",
    "            df_train['season'][i] = '2'\n",
    "        elif df_train['arrival_date_month'][i] == \"December\":\n",
    "            df_train['arrival_date_month'][i] = 12;\n",
    "            df_train['season'][i] = \"1\";\n",
    "    df_train['arrival_date_month'] = df_train['arrival_date_month'].astype('int')\n",
    "    return df_train\n"
   ]
  },
  {
   "cell_type": "markdown",
   "metadata": {},
   "source": [
    "Примени функцию month к обоим датафреймам"
   ]
  },
  {
   "cell_type": "code",
   "execution_count": 17,
   "metadata": {},
   "outputs": [],
   "source": [
    "df_test['season'] = 's'\n",
    "df_train['season'] = 's'"
   ]
  },
  {
   "cell_type": "code",
   "execution_count": 18,
   "metadata": {},
   "outputs": [],
   "source": [
    "warnings.filterwarnings('ignore')\n",
    "df_train = month(df_train)  \n",
    "df_train['season'] = df_train['season'].astype('int')"
   ]
  },
  {
   "cell_type": "code",
   "execution_count": 19,
   "metadata": {},
   "outputs": [],
   "source": [
    "warnings.filterwarnings('ignore')\n",
    "df_test = month(df_test)\n"
   ]
  },
  {
   "cell_type": "code",
   "execution_count": 20,
   "metadata": {},
   "outputs": [],
   "source": [
    "df_test['season'] = df_test['season'].astype('int')"
   ]
  },
  {
   "cell_type": "markdown",
   "metadata": {},
   "source": [
    "Функция meal переводит параметры  данные столбца meal в цифровые"
   ]
  },
  {
   "cell_type": "code",
   "execution_count": 21,
   "metadata": {},
   "outputs": [],
   "source": [
    "warnings.filterwarnings('ignore')\n",
    "def meal(df):\n",
    "    for i in df.index:\n",
    "        if df['meal'][i] == \"SC\":\n",
    "            df['meal'][i] = 0\n",
    "        elif df['meal'][i] == \"BB\":\n",
    "            df['meal'][i] = 1\n",
    "        elif df['meal'][i] == \"HB\":\n",
    "            df['meal'][i] = 2\n",
    "        elif df['meal'][i] == \"FB\":\n",
    "            df['meal'][i] = 3\n",
    "    df['meal'] = df['meal'].astype('int')\n",
    "    return df\n",
    "df_train = meal(df_train)\n",
    "df_test = meal(df_test)\n",
    "\n"
   ]
  },
  {
   "cell_type": "markdown",
   "metadata": {},
   "source": [
    "Проведем исследовательский анализ данных"
   ]
  },
  {
   "cell_type": "markdown",
   "metadata": {},
   "source": [
    "Объединим два датафрейма в один, для более достоверного составления портрета 'ненадежного' клиента."
   ]
  },
  {
   "cell_type": "code",
   "execution_count": 22,
   "metadata": {},
   "outputs": [],
   "source": [
    "df = pd.concat([df_train,df_test])"
   ]
  },
  {
   "cell_type": "markdown",
   "metadata": {},
   "source": [
    "Построим матрицу корреляций полученного датафрейма. Сильнее всего с целевым признаком коррелирует признак lead_time\n"
   ]
  },
  {
   "cell_type": "code",
   "execution_count": 23,
   "metadata": {},
   "outputs": [
    {
     "data": {
      "image/png": "[encoded data removed]",
      "text/plain": [
       "<Figure size 1440x1440 with 2 Axes>"
      ]
     },
     "metadata": {
      "needs_background": "light"
     },
     "output_type": "display_data"
    }
   ],
   "source": [
    "plt.figure(figsize = (20,20))\n",
    "sns.heatmap(df.corr(), annot = True)\n",
    "plt.title(\"Матрица корреляций \")\n",
    "plt.show()"
   ]
  },
  {
   "cell_type": "markdown",
   "metadata": {},
   "source": [
    "Больше половины клиентов приезжают в межсезонье, меньше всего отель поссещают зимой"
   ]
  },
  {
   "cell_type": "code",
   "execution_count": 24,
   "metadata": {},
   "outputs": [
    {
     "data": {
      "image/png": "[encoded data removed]",
      "text/plain": [
       "<Figure size 432x288 with 1 Axes>"
      ]
     },
     "metadata": {
      "needs_background": "light"
     },
     "output_type": "display_data"
    }
   ],
   "source": [
    "sns.countplot(data= df, x = 'season')\n",
    "plt.show()"
   ]
  },
  {
   "cell_type": "markdown",
   "metadata": {},
   "source": [
    "Около 40% всех клиентов из страны PRT, на втором месте FRA , из клиентов из этой страны около 10%"
   ]
  },
  {
   "cell_type": "code",
   "execution_count": 25,
   "metadata": {},
   "outputs": [
    {
     "data": {
      "text/plain": [
       "country\n",
       "PRT    38671\n",
       "FRA     9426\n",
       "GBR     9019\n",
       "ESP     6817\n",
       "DEU     6253\n",
       "ITA     3471\n",
       "IRL     2501\n",
       "BEL     2111\n",
       "BRA     1959\n",
       "NLD     1866\n",
       "Name: country, dtype: int64"
      ]
     },
     "execution_count": 25,
     "metadata": {},
     "output_type": "execute_result"
    }
   ],
   "source": [
    "df.groupby(by = 'country')['country'].count().sort_values(ascending = False)[:10]"
   ]
  },
  {
   "cell_type": "code",
   "execution_count": 26,
   "metadata": {},
   "outputs": [
    {
     "data": {
      "image/png": "[encoded data removed]",
      "text/plain": [
       "<Figure size 1080x864 with 1 Axes>"
      ]
     },
     "metadata": {
      "needs_background": "light"
     },
     "output_type": "display_data"
    }
   ],
   "source": [
    "plt.figure(figsize = (15,12))\n",
    "sns.histplot(data= df.groupby(by = 'country')['country'].count().sort_values(ascending = False)[:20])\n",
    "plt.show()"
   ]
  },
  {
   "cell_type": "markdown",
   "metadata": {},
   "source": [
    "Чаще всего, люди не бронируют более чем за 50 дней до даты заезда."
   ]
  },
  {
   "cell_type": "code",
   "execution_count": 27,
   "metadata": {},
   "outputs": [
    {
     "data": {
      "image/png": "[encoded data removed]",
      "text/plain": [
       "<Figure size 1080x864 with 1 Axes>"
      ]
     },
     "metadata": {
      "needs_background": "light"
     },
     "output_type": "display_data"
    }
   ],
   "source": [
    "plt.figure(figsize = (15,12))\n",
    "sns.histplot(data= df, x = 'lead_time')\n",
    "plt.show()"
   ]
  },
  {
   "cell_type": "markdown",
   "metadata": {},
   "source": [
    "Более 70% клиентов бронируют номера класса А, что хорошо для отеля, ведь прибыль с таких номеров максимальна. Реже всего бронируют номера класса C,G,B."
   ]
  },
  {
   "cell_type": "code",
   "execution_count": 28,
   "metadata": {},
   "outputs": [
    {
     "data": {
      "image/png": "[encoded data removed]",
      "text/plain": [
       "<Figure size 1080x864 with 1 Axes>"
      ]
     },
     "metadata": {
      "needs_background": "light"
     },
     "output_type": "display_data"
    }
   ],
   "source": [
    "plt.figure(figsize = (15,12))\n",
    "sns.histplot(data= df, x = 'reserved_room_type')\n",
    "plt.show()"
   ]
  },
  {
   "cell_type": "markdown",
   "metadata": {},
   "source": [
    "Более 70% клиентов опличивают завтрак, а вот оплачивают завтрак, обед и ужин единицы."
   ]
  },
  {
   "cell_type": "code",
   "execution_count": 29,
   "metadata": {},
   "outputs": [
    {
     "data": {
      "image/png": "[encoded data removed]",
      "text/plain": [
       "<Figure size 1080x864 with 1 Axes>"
      ]
     },
     "metadata": {
      "needs_background": "light"
     },
     "output_type": "display_data"
    }
   ],
   "source": [
    "plt.figure(figsize = (15,12))\n",
    "sns.histplot(data= df, x = 'meal')\n",
    "plt.show()"
   ]
  },
  {
   "cell_type": "markdown",
   "metadata": {},
   "source": [
    "Бронирование отменяют примерно в 40% случаев"
   ]
  },
  {
   "cell_type": "code",
   "execution_count": 30,
   "metadata": {},
   "outputs": [
    {
     "data": {
      "image/png": "[encoded data removed]",
      "text/plain": [
       "<Figure size 1080x864 with 1 Axes>"
      ]
     },
     "metadata": {
      "needs_background": "light"
     },
     "output_type": "display_data"
    }
   ],
   "source": [
    "plt.figure(figsize = (15,12))\n",
    "sns.histplot(data= df, x = 'is_canceled')\n",
    "plt.show()"
   ]
  },
  {
   "cell_type": "markdown",
   "metadata": {},
   "source": [
    "Люди без младенцев в два раза чаще отменяют бронь, чем люди с младенцами. Люди , которые оплатили обед, завтрак и ужин отменяют бронь в два раза чаще остальных, но делать какие-то выводы по этому факту нельзя, так как таких людей очень мало. "
   ]
  },
  {
   "cell_type": "code",
   "execution_count": 31,
   "metadata": {
    "scrolled": true
   },
   "outputs": [
    {
     "data": {
      "image/png": "[encoded data removed]",
      "text/plain": [
       "<Figure size 864x720 with 1 Axes>"
      ]
     },
     "metadata": {
      "needs_background": "light"
     },
     "output_type": "display_data"
    },
    {
     "data": {
      "image/png": "[encoded data removed]",
      "text/plain": [
       "<Figure size 864x720 with 1 Axes>"
      ]
     },
     "metadata": {
      "needs_background": "light"
     },
     "output_type": "display_data"
    },
    {
     "data": {
      "image/png": "[encoded data removed]",
      "text/plain": [
       "<Figure size 864x720 with 1 Axes>"
      ]
     },
     "metadata": {
      "needs_background": "light"
     },
     "output_type": "display_data"
    },
    {
     "data": {
      "image/png": "[encoded data removed]",
      "text/plain": [
       "<Figure size 864x720 with 1 Axes>"
      ]
     },
     "metadata": {
      "needs_background": "light"
     },
     "output_type": "display_data"
    },
    {
     "data": {
      "image/png": "[encoded data removed]",
      "text/plain": [
       "<Figure size 864x720 with 1 Axes>"
      ]
     },
     "metadata": {
      "needs_background": "light"
     },
     "output_type": "display_data"
    },
    {
     "data": {
      "image/png": "[encoded data removed]",
      "text/plain": [
       "<Figure size 864x720 with 1 Axes>"
      ]
     },
     "metadata": {
      "needs_background": "light"
     },
     "output_type": "display_data"
    },
    {
     "data": {
      "image/png": "[encoded data removed]",
      "text/plain": [
       "<Figure size 864x720 with 1 Axes>"
      ]
     },
     "metadata": {
      "needs_background": "light"
     },
     "output_type": "display_data"
    },
    {
     "data": {
      "image/png": "[encoded data removed]",
      "text/plain": [
       "<Figure size 864x720 with 1 Axes>"
      ]
     },
     "metadata": {
      "needs_background": "light"
     },
     "output_type": "display_data"
    },
    {
     "data": {
      "image/png": "[encoded data removed]",
      "text/plain": [
       "<Figure size 864x720 with 1 Axes>"
      ]
     },
     "metadata": {
      "needs_background": "light"
     },
     "output_type": "display_data"
    },
    {
     "data": {
      "image/png": "[encoded data removed]",
      "text/plain": [
       "<Figure size 864x720 with 1 Axes>"
      ]
     },
     "metadata": {
      "needs_background": "light"
     },
     "output_type": "display_data"
    },
    {
     "data": {
      "image/png": "[encoded data removed]",
      "text/plain": [
       "<Figure size 864x720 with 1 Axes>"
      ]
     },
     "metadata": {
      "needs_background": "light"
     },
     "output_type": "display_data"
    },
    {
     "data": {
      "image/png": "[encoded data removed]",
      "text/plain": [
       "<Figure size 864x720 with 1 Axes>"
      ]
     },
     "metadata": {
      "needs_background": "light"
     },
     "output_type": "display_data"
    },
    {
     "data": {
      "image/png": "[encoded data removed]",
      "text/plain": [
       "<Figure size 864x720 with 1 Axes>"
      ]
     },
     "metadata": {
      "needs_background": "light"
     },
     "output_type": "display_data"
    },
    {
     "data": {
      "image/png": "[encoded data removed]",
      "text/plain": [
       "<Figure size 864x720 with 1 Axes>"
      ]
     },
     "metadata": {
      "needs_background": "light"
     },
     "output_type": "display_data"
    },
    {
     "data": {
      "image/png": "[encoded data removed]",
      "text/plain": [
       "<Figure size 864x720 with 1 Axes>"
      ]
     },
     "metadata": {
      "needs_background": "light"
     },
     "output_type": "display_data"
    },
    {
     "data": {
      "image/png": "[encoded data removed]",
      "text/plain": [
       "<Figure size 864x720 with 1 Axes>"
      ]
     },
     "metadata": {
      "needs_background": "light"
     },
     "output_type": "display_data"
    },
    {
     "data": {
      "image/png": "[encoded data removed]",
      "text/plain": [
       "<Figure size 864x720 with 1 Axes>"
      ]
     },
     "metadata": {
      "needs_background": "light"
     },
     "output_type": "display_data"
    },
    {
     "data": {
      "image/png": "[encoded data removed]",
      "text/plain": [
       "<Figure size 864x720 with 1 Axes>"
      ]
     },
     "metadata": {
      "needs_background": "light"
     },
     "output_type": "display_data"
    },
    {
     "data": {
      "image/png": "[encoded data removed]",
      "text/plain": [
       "<Figure size 864x720 with 1 Axes>"
      ]
     },
     "metadata": {
      "needs_background": "light"
     },
     "output_type": "display_data"
    },
    {
     "data": {
      "image/png": "[encoded data removed]",
      "text/plain": [
       "<Figure size 864x720 with 1 Axes>"
      ]
     },
     "metadata": {
      "needs_background": "light"
     },
     "output_type": "display_data"
    },
    {
     "data": {
      "image/png": "[encoded data removed]",
      "text/plain": [
       "<Figure size 864x720 with 1 Axes>"
      ]
     },
     "metadata": {
      "needs_background": "light"
     },
     "output_type": "display_data"
    }
   ],
   "source": [
    "for i in df_train.columns:\n",
    "    if i !='lead_time' and i !='country' and i != 'is_canceled':\n",
    "        plt.figure(figsize = (12,10))\n",
    "        sns.barplot(data= df, y = 'is_canceled', x = i)\n",
    "        plt.show()"
   ]
  },
  {
   "cell_type": "markdown",
   "metadata": {},
   "source": [
    "Можно сделать вывод: чем меньше количество специальных отметок в заказе, тем выше вероятность его отмены"
   ]
  },
  {
   "cell_type": "code",
   "execution_count": 32,
   "metadata": {},
   "outputs": [
    {
     "name": "stdout",
     "output_type": "stream",
     "text": [
      "total_of_special_requests\n",
      "0    0.484110\n",
      "1    0.217401\n",
      "2    0.219773\n",
      "3    0.183938\n",
      "4    0.113537\n",
      "5    0.032258\n",
      "Name: is_canceled, dtype: float64\n"
     ]
    },
    {
     "data": {
      "image/png": "[encoded data removed]",
      "text/plain": [
       "<Figure size 432x288 with 1 Axes>"
      ]
     },
     "metadata": {
      "needs_background": "light"
     },
     "output_type": "display_data"
    }
   ],
   "source": [
    "print(df.groupby(by = 'total_of_special_requests')['is_canceled'].mean())\n",
    "sns.countplot(data= df, x = 'total_of_special_requests')\n",
    "plt.show()"
   ]
  },
  {
   "cell_type": "markdown",
   "metadata": {},
   "source": [
    "Самые популярные страны и страны , граждане которых чаще всего отменяют бронь, не пересекаются, следовательно , выводов об этом признаке сделать нельзя"
   ]
  },
  {
   "cell_type": "code",
   "execution_count": 33,
   "metadata": {},
   "outputs": [
    {
     "data": {
      "text/plain": [
       "country\n",
       "HND    1.0000\n",
       "KHM    1.0000\n",
       "FJI    1.0000\n",
       "GGY    1.0000\n",
       "GLP    1.0000\n",
       "BEN    1.0000\n",
       "UMI    1.0000\n",
       "IMN    1.0000\n",
       "JEY    1.0000\n",
       "VGB    1.0000\n",
       "ZMB    1.0000\n",
       "MYT    1.0000\n",
       "AND    1.0000\n",
       "NIC    1.0000\n",
       "MAC    0.9375\n",
       "Name: is_canceled, dtype: float64"
      ]
     },
     "execution_count": 33,
     "metadata": {},
     "output_type": "execute_result"
    }
   ],
   "source": [
    "df.groupby(by = 'country')['is_canceled'].mean().sort_values(ascending = False)[:15]"
   ]
  },
  {
   "cell_type": "code",
   "execution_count": 34,
   "metadata": {},
   "outputs": [
    {
     "data": {
      "text/plain": [
       "country\n",
       "PRT    38671\n",
       "FRA     9426\n",
       "GBR     9019\n",
       "ESP     6817\n",
       "DEU     6253\n",
       "ITA     3471\n",
       "IRL     2501\n",
       "BEL     2111\n",
       "BRA     1959\n",
       "NLD     1866\n",
       "USA     1774\n",
       "CHE     1465\n",
       "AUT     1150\n",
       "CN       957\n",
       "CHN      920\n",
       "Name: country, dtype: int64"
      ]
     },
     "execution_count": 34,
     "metadata": {},
     "output_type": "execute_result"
    }
   ],
   "source": [
    "df.groupby(by = 'country')['country'].count().sort_values(ascending = False)[:15]"
   ]
  },
  {
   "cell_type": "markdown",
   "metadata": {},
   "source": [
    "При увелечении lead_time увеличивается доля отказов от бронирование, но большинство людей не бронируют заказ больше чем за 30 дней, следовательно, из-за недостаточного объема данных однозначного вывода сделать нельзя"
   ]
  },
  {
   "cell_type": "code",
   "execution_count": 35,
   "metadata": {},
   "outputs": [
    {
     "data": {
      "image/png": "[encoded data removed]",
      "text/plain": [
       "<Figure size 1080x720 with 1 Axes>"
      ]
     },
     "metadata": {
      "needs_background": "light"
     },
     "output_type": "display_data"
    }
   ],
   "source": [
    "plt.figure(figsize = (15,10))\n",
    "sns.barplot(data= df, y = 'is_canceled', x = 'lead_time', n_boot = 10)\n",
    "plt.show()\n"
   ]
  },
  {
   "cell_type": "markdown",
   "metadata": {},
   "source": [
    "Чем больше ранее отмененных заказов, тем выше вероятность новой отмены, но у 90% клиентов 0 отмененных заказов, поэтому однозначных выводов сделать нельзя"
   ]
  },
  {
   "cell_type": "code",
   "execution_count": 36,
   "metadata": {},
   "outputs": [
    {
     "name": "stdout",
     "output_type": "stream",
     "text": [
      "previous_cancellations\n",
      "0     0.340026\n",
      "1     0.950633\n",
      "2     0.325301\n",
      "3     0.315789\n",
      "4     0.266667\n",
      "5     0.142857\n",
      "6     0.318182\n",
      "11    0.285714\n",
      "13    0.916667\n",
      "14    1.000000\n",
      "19    1.000000\n",
      "21    1.000000\n",
      "24    1.000000\n",
      "25    1.000000\n",
      "26    1.000000\n",
      "Name: is_canceled, dtype: float64\n"
     ]
    },
    {
     "data": {
      "image/png": "[encoded data removed]",
      "text/plain": [
       "<Figure size 432x288 with 1 Axes>"
      ]
     },
     "metadata": {
      "needs_background": "light"
     },
     "output_type": "display_data"
    }
   ],
   "source": [
    "print(df.groupby(by = 'previous_cancellations')['is_canceled'].mean())\n",
    "sns.countplot(data= df, x = 'previous_cancellations')\n",
    "plt.show()"
   ]
  },
  {
   "cell_type": "markdown",
   "metadata": {},
   "source": [
    "90% клиентов отдыхают без младенцев, следовательно выводов о более частой отмену заказов клиентов без детей сделать нельзя (слишком мало данных о клиентах с младенцами)"
   ]
  },
  {
   "cell_type": "code",
   "execution_count": 37,
   "metadata": {},
   "outputs": [
    {
     "name": "stdout",
     "output_type": "stream",
     "text": [
      "babies\n",
      "0.0    0.376648\n",
      "1.0    0.169106\n",
      "2.0    0.000000\n",
      "Name: is_canceled, dtype: float64\n"
     ]
    },
    {
     "data": {
      "image/png": "[encoded data removed]",
      "text/plain": [
       "<Figure size 432x288 with 1 Axes>"
      ]
     },
     "metadata": {
      "needs_background": "light"
     },
     "output_type": "display_data"
    }
   ],
   "source": [
    "print(df.groupby(by = 'babies')['is_canceled'].mean())\n",
    "sns.countplot(data= df, x = 'babies')\n",
    "plt.show()"
   ]
  },
  {
   "cell_type": "markdown",
   "metadata": {},
   "source": [
    "Параметр distribution_channel чаще всего равено TA/TO, при таком значение показателя вероятность отмены брони в два раза выше остальных"
   ]
  },
  {
   "cell_type": "code",
   "execution_count": 38,
   "metadata": {},
   "outputs": [
    {
     "data": {
      "text/plain": [
       "distribution_channel\n",
       "Corporate    0.228967\n",
       "Direct       0.172480\n",
       "GDS          0.179348\n",
       "TA/TO        0.411604\n",
       "Name: is_canceled, dtype: float64"
      ]
     },
     "execution_count": 38,
     "metadata": {},
     "output_type": "execute_result"
    }
   ],
   "source": [
    "df.groupby(by = 'distribution_channel')['is_canceled'].mean()"
   ]
  },
  {
   "cell_type": "code",
   "execution_count": 39,
   "metadata": {},
   "outputs": [
    {
     "data": {
      "image/png": "[encoded data removed]",
      "text/plain": [
       "<Figure size 432x288 with 1 Axes>"
      ]
     },
     "metadata": {
      "needs_background": "light"
     },
     "output_type": "display_data"
    }
   ],
   "source": [
    "sns.countplot(data= df, x = 'distribution_channel')\n",
    "plt.show()"
   ]
  },
  {
   "cell_type": "markdown",
   "metadata": {},
   "source": [
    "Чем больше раннее отмененных бронирования у клиента, тем выше вероятность отмены и в этот раз"
   ]
  },
  {
   "cell_type": "code",
   "execution_count": 40,
   "metadata": {},
   "outputs": [
    {
     "data": {
      "text/plain": [
       "previous_cancellations\n",
       "0     0.340026\n",
       "1     0.950633\n",
       "2     0.325301\n",
       "3     0.315789\n",
       "4     0.266667\n",
       "5     0.142857\n",
       "6     0.318182\n",
       "11    0.285714\n",
       "13    0.916667\n",
       "14    1.000000\n",
       "19    1.000000\n",
       "21    1.000000\n",
       "24    1.000000\n",
       "25    1.000000\n",
       "26    1.000000\n",
       "Name: is_canceled, dtype: float64"
      ]
     },
     "execution_count": 40,
     "metadata": {},
     "output_type": "execute_result"
    }
   ],
   "source": [
    "df.groupby(by = 'previous_cancellations')['is_canceled'].mean()"
   ]
  },
  {
   "cell_type": "code",
   "execution_count": 41,
   "metadata": {},
   "outputs": [
    {
     "data": {
      "image/png": "[encoded data removed]",
      "text/plain": [
       "<Figure size 432x288 with 1 Axes>"
      ]
     },
     "metadata": {
      "needs_background": "light"
     },
     "output_type": "display_data"
    }
   ],
   "source": [
    "sns.boxplot(data = df, x = 'lead_time')\n",
    "plt.show()"
   ]
  },
  {
   "cell_type": "markdown",
   "metadata": {},
   "source": [
    "Разделим датафреймы на признаки и целевой признак."
   ]
  },
  {
   "cell_type": "code",
   "execution_count": 42,
   "metadata": {},
   "outputs": [],
   "source": [
    "features_train = df_train.drop('is_canceled',axis = 1)\n",
    "\n",
    "target_train = df_train['is_canceled']"
   ]
  },
  {
   "cell_type": "code",
   "execution_count": 43,
   "metadata": {},
   "outputs": [],
   "source": [
    "features_test = df_test.drop('is_canceled',axis = 1)\n",
    "target_test = df_test['is_canceled']"
   ]
  },
  {
   "cell_type": "markdown",
   "metadata": {},
   "source": [
    "Проведем onehotcode-ирование категориальных признаков обоих наборов данных"
   ]
  },
  {
   "cell_type": "code",
   "execution_count": 44,
   "metadata": {},
   "outputs": [],
   "source": [
    "features_categirical = ['country','distribution_channel','reserved_room_type','customer_type',]\n",
    "ohe = OneHotEncoder(handle_unknown='ignore',sparse=False)\n",
    "ohe.fit(features_train[features_categirical])\n",
    "def features_ohe(ohe_variable, df_features, features_categ):\n",
    "    df_features_ohe = pd.DataFrame(\n",
    "        data=ohe_variable.transform(df_features[features_categ]), \n",
    "        columns=ohe_variable.get_feature_names()\n",
    "    )\n",
    "\n",
    "    df_features = df_features.drop(features_categ, axis=1)\n",
    "    df_features = df_features.join(df_features_ohe)\n",
    "    return df_features    \n",
    "\n"
   ]
  },
  {
   "cell_type": "code",
   "execution_count": 45,
   "metadata": {},
   "outputs": [],
   "source": [
    "features_train_enc = features_ohe(ohe, features_train, features_categirical);"
   ]
  },
  {
   "cell_type": "code",
   "execution_count": 46,
   "metadata": {},
   "outputs": [],
   "source": [
    "features_test_enc = features_ohe(ohe, features_test, features_categirical);"
   ]
  },
  {
   "cell_type": "code",
   "execution_count": 47,
   "metadata": {},
   "outputs": [],
   "source": [
    "features_train_enc = features_train_enc.fillna(0)\n",
    "features_test_enc = features_test_enc.fillna(0)\n"
   ]
  },
  {
   "cell_type": "markdown",
   "metadata": {},
   "source": [
    "Проведем порядковое кодирование категориальных признаков обоих датафреймов"
   ]
  },
  {
   "cell_type": "code",
   "execution_count": 48,
   "metadata": {},
   "outputs": [],
   "source": [
    "df_train_tree = df_train\n",
    "df_test_tree = df_test"
   ]
  },
  {
   "cell_type": "code",
   "execution_count": 49,
   "metadata": {},
   "outputs": [],
   "source": [
    "def customer_type(df):\n",
    "    for i in df.index:\n",
    "        if df['customer_type'][i] == \"Contract\":\n",
    "            df['customer_type'][i] = 0\n",
    "        elif df['customer_type'][i] == \"Group\":\n",
    "            df['customer_type'][i] = 1\n",
    "        elif df['customer_type'][i] == \"Transient\":\n",
    "            df['customer_type'][i] = 2\n",
    "        elif df['customer_type'][i] == \"Transient-Party\":\n",
    "            df['customer_type'][i] = 3\n",
    "    df['customer_type'] = df['customer_type'].astype('int')\n",
    "    return df\n",
    "df_train_tree = customer_type(df_train_tree)\n",
    "df_test_tree = customer_type(df_test_tree)"
   ]
  },
  {
   "cell_type": "code",
   "execution_count": 50,
   "metadata": {},
   "outputs": [],
   "source": [
    "def room_type(df):\n",
    "    for i in df.index:\n",
    "        if df['reserved_room_type'][i] == \"G\":\n",
    "            df['reserved_room_type'][i] = 0\n",
    "        elif df['reserved_room_type'][i] == \"F\":\n",
    "            df['reserved_room_type'][i] = 1\n",
    "        elif df['reserved_room_type'][i] == \"E\":\n",
    "            df['reserved_room_type'][i] = 2\n",
    "        elif df['reserved_room_type'][i] == \"D\":\n",
    "            df['reserved_room_type'][i] = 3\n",
    "        elif df['reserved_room_type'][i] == \"C\":\n",
    "            df['reserved_room_type'][i] = 4\n",
    "        elif df['reserved_room_type'][i] == \"B\":\n",
    "            df['reserved_room_type'][i] = 5\n",
    "        elif df['reserved_room_type'][i] == \"A\":\n",
    "            df['reserved_room_type'][i] = 6\n",
    "    df['reserved_room_type'] = df['reserved_room_type'].astype('int')\n",
    "    return df"
   ]
  },
  {
   "cell_type": "code",
   "execution_count": 51,
   "metadata": {},
   "outputs": [],
   "source": [
    "df_train_tree = room_type(df_train_tree)\n",
    "df_test_tree = room_type(df_test_tree)"
   ]
  },
  {
   "cell_type": "code",
   "execution_count": 52,
   "metadata": {},
   "outputs": [],
   "source": [
    "def distribution_channel(df):\n",
    "    for i in df.index:\n",
    "        if df['distribution_channel'][i] == 'TA/TO':\n",
    "            df['distribution_channel'][i] = 0\n",
    "        elif df['distribution_channel'][i] == 'Direct':\n",
    "            df['distribution_channel'][i] = 1\n",
    "        elif df['distribution_channel'][i] == 'Corporate':\n",
    "            df['distribution_channel'][i] = 2\n",
    "        elif df['distribution_channel'][i] == 'GDS':\n",
    "            df['distribution_channel'][i] = 3\n",
    "    df['distribution_channel'] = df['distribution_channel'].astype('int')\n",
    "    return df\n",
    "df_train_tree = distribution_channel(df_train_tree)\n",
    "df_test_tree = distribution_channel(df_test_tree)"
   ]
  },
  {
   "cell_type": "code",
   "execution_count": 53,
   "metadata": {},
   "outputs": [],
   "source": [
    "for i in df_train_tree['country'].unique():\n",
    "    a = df_train_tree[df_train_tree['country'] == i]['country'].index\n",
    "    b = df_test_tree[df_test_tree['country'] == i]['country'].index\n",
    "    s = random.randint(0,155)\n",
    "    df_train_tree['country'][a] = s\n",
    "    df_test_tree['country'][b] = s"
   ]
  },
  {
   "cell_type": "code",
   "execution_count": 54,
   "metadata": {},
   "outputs": [],
   "source": [
    "a = ['FJI','MDG','CAF','NPL','BHS','UMI','MYT','GTM','GHA','ASM','TGO','MRT','NCL','KIR', 'SDN', 'ATF','SLE','LAO', 'FRO']\n",
    "for i in a:\n",
    "    b = df_test_tree[df_test_tree['country'] == i]['country'].index\n",
    "    s = random.randint(156,200)\n",
    "    df_test_tree['country'][b] = s"
   ]
  },
  {
   "cell_type": "code",
   "execution_count": 55,
   "metadata": {},
   "outputs": [],
   "source": [
    "df_test_tree['country'] = df_test_tree['country'].astype('int')\n",
    "df_train_tree['country'] = df_train_tree['country'].astype('int')"
   ]
  },
  {
   "cell_type": "code",
   "execution_count": 56,
   "metadata": {},
   "outputs": [],
   "source": [
    "features_train_tree = df_train_tree.drop('is_canceled',axis = 1)\n",
    "\n",
    "target_train_tree = df_train_tree['is_canceled']\n",
    "features_test_tree = df_test_tree.drop('is_canceled',axis = 1)\n",
    "target_test_tree = df_test_tree['is_canceled']"
   ]
  },
  {
   "cell_type": "markdown",
   "metadata": {},
   "source": [
    "Вывод о проделанной на данном шаге работе:\n",
    "- Проведена предобработка данных\n",
    "- Проведен исследовательский анализ данных\n",
    "- Некоторые категориальные признаки переведены в числовые, при помощи соответсвующих функций\n",
    "- Проведено onehotcode-ирование категориальных признаков\n",
    "- Проведено порядковое кодирование категориальных признаков"
   ]
  },
  {
   "cell_type": "markdown",
   "metadata": {},
   "source": [
    "### Шаг 3. Формулировка ML-задачи на основе бизнес-задачи"
   ]
  },
  {
   "cell_type": "markdown",
   "metadata": {},
   "source": [
    "Функция profit считаем прибыль. С ее помощью  посчитали прибыль в тестовом датафрейме"
   ]
  },
  {
   "cell_type": "code",
   "execution_count": 57,
   "metadata": {},
   "outputs": [
    {
     "name": "stdout",
     "output_type": "stream",
     "text": [
      "Средняя прибыль отеля за год, без внедрения депозитов =  19.11 млн.руб\n"
     ]
    }
   ],
   "source": [
    "def profit(df_test):\n",
    "    dfsp = pd.DataFrame(df_test[(df_test['is_canceled'] == 0) & (df_test['season'] == 3)].groupby(by = 'reserved_room_type')['total_nights'].sum())\n",
    "    dfop = pd.DataFrame(df_test[(df_test['is_canceled'] == 0) & (df_test['season'] == 2)].groupby(by = 'reserved_room_type')['total_nights'].sum())\n",
    "    dfwp = pd.DataFrame(df_test[(df_test['is_canceled'] == 0) & (df_test['season'] == 1)].groupby(by = 'reserved_room_type')['total_nights'].sum())\n",
    "\n",
    "    dfsy = pd.DataFrame(df_test[(df_test['is_canceled'] == 1) & (df_test['season'] == 3)].groupby(by = 'reserved_room_type')['total_nights'].count())\n",
    "    dfoy = pd.DataFrame(df_test[(df_test['is_canceled'] == 1) & (df_test['season'] == 2)].groupby(by = 'reserved_room_type')['total_nights'].count())\n",
    "    dfwy = pd.DataFrame(df_test[(df_test['is_canceled'] == 1) & (df_test['season'] == 1)].groupby(by = 'reserved_room_type')['total_nights'].count())\n",
    "\n",
    "    s = 0\n",
    "\n",
    "    s += dfsp.values[0]*1000*1.4-(1+dfsp.values[0]/2)*400\n",
    "    s += dfsp.values[1]*800*1.4-(1+dfsp.values[1]/2)*350\n",
    "    s += dfsp.values[2]*600*1.4-(1+dfsp.values[2]/2)*350\n",
    "    s += dfsp.values[3]*550*1.4-(1+dfsp.values[3]/2)*150\n",
    "    s += dfsp.values[4]*500*1.4-(1+dfsp.values[4]/2)*150\n",
    "    s += dfsp.values[5]*450*1.4-(1+dfsp.values[5]/2)*150\n",
    "    s += dfsp.values[6]*350*1.4-(1+dfsp.values[6]/2)*150\n",
    "    \n",
    "    s += dfop.values[0]*1000*1.2-(1+dfop.values[0]/2)*400\n",
    "    s += dfop.values[1]*800*1.2-(1+dfop.values[1]/2)*350\n",
    "    s += dfop.values[2]*600*1.2-(1+dfop.values[2]/2)*350\n",
    "    s += dfop.values[3]*550*1.2-(1+dfop.values[3]/2)*150\n",
    "    s += dfop.values[4]*500*1.2-(1+dfop.values[4]/2)*150\n",
    "    s += dfop.values[5]*450*1.2-(1+dfop.values[5]/2)*150\n",
    "    s += dfop.values[6]*350*1.2-(1+dfop.values[6]/2)*150\n",
    "    \n",
    "    s += dfwp.values[0]*1000-(1+dfwp.values[0]/2)*400\n",
    "    s += dfwp.values[1]*800-(1+dfwp.values[1]/2)*350\n",
    "    s += dfwp.values[2]*600-(1+dfwp.values[2]/2)*350\n",
    "    s += dfwp.values[3]*550-(1+dfwp.values[3]/2)*150\n",
    "    s += dfwp.values[4]*500*1-(1+dfwp.values[4]/2)*150\n",
    "    s += dfwp.values[5]*450*1-(1+dfwp.values[5]/2)*150\n",
    "    s += dfwp.values[6]*350*1-(1+dfwp.values[6]/2)*150\n",
    "    \n",
    "    s += -(dfsy.values[0]*1000*1.4+(dfsy.values[0])*400)\n",
    "    s += -(dfsy.values[1]*800*1.4+(dfsy.values[1])*350)\n",
    "    s += -(dfsy.values[2]*600*1.4+(dfsy.values[2])*350)\n",
    "    s += -(dfsy.values[3]*550*1.4+(dfsy.values[3])*150)\n",
    "    s += -(dfsy.values[4]*500*1.4+(dfsy.values[4])*150)\n",
    "    s += -(dfsy.values[5]*450*1.4+(dfsy.values[5])*150)\n",
    "    s += -(dfsy.values[6]*350*1.4+(dfsy.values[6])*150)\n",
    "\n",
    "    s += -(dfoy.values[0]*1000*1.2+(dfoy.values[0])*400)\n",
    "    s += -(dfoy.values[1]*800*1.2+(dfoy.values[1])*350)\n",
    "    s += -(dfoy.values[2]*600*1.2+(dfoy.values[2])*350)\n",
    "    s += -(dfoy.values[3]*550*1.2+(dfoy.values[3])*150)\n",
    "    s += -(dfoy.values[4]*500*1.2+(dfoy.values[4])*150)\n",
    "    s += -(dfoy.values[5]*450*1.2+(dfoy.values[5])*150)\n",
    "    s += -(dfoy.values[6]*350*1.2+(dfoy.values[6])*150)\n",
    "    \n",
    "    s += -(dfwy.values[0]*1000*1+(dfwy.values[0])*400)\n",
    "    s += -(dfwy.values[1]*800*1+(dfwy.values[1])*350)\n",
    "    s += -(dfwy.values[2]*600*1+(dfwy.values[2])*350)\n",
    "    s += -(dfwy.values[3]*550*1+(dfwy.values[3])*150)\n",
    "    s += -(dfwy.values[4]*500*1+(dfwy.values[4])*150)\n",
    "    s += -(dfwy.values[5]*450*1+(dfwy.values[5])*150)\n",
    "    s += -(dfwy.values[6]*350*1+(dfwy.values[6])*150)\n",
    "    return s\n",
    "profit = int(profit(df_test))\n",
    "print('Средняя прибыль отеля за год, без внедрения депозитов = ', round(profit/(10**6),2), 'млн.руб')\n",
    "\n"
   ]
  },
  {
   "cell_type": "markdown",
   "metadata": {},
   "source": [
    "Следовательно, чтобы окупить затраты на разработку прогнозируемая прибыль отеля должна составить 19.6 млн.рублей."
   ]
  },
  {
   "cell_type": "markdown",
   "metadata": {},
   "source": [
    "Итог проделанной на данном шаге работе:\n",
    "1) посчитана прибыль отеля за 2017 год\n",
    "2) оценена прибыль, необходимая для безубыточного ввода системы депозитов"
   ]
  },
  {
   "cell_type": "markdown",
   "metadata": {},
   "source": [
    "### Шаг 4. Разработка модели ML"
   ]
  },
  {
   "cell_type": "markdown",
   "metadata": {},
   "source": [
    "Для оценки качества моделей выберем меру точности (precision). Наша цель сделать так, чтобы машина верно предсказывала случаи, когда в действительности клиента отменил бронирование, следовательно, нужно минимизировать кол-во ложноотрицательных ответов. А Precision можно интерпретировать как долю объектов, названных классификатором положительными и при этом действительно являющимися положительными, то есть, она подходит для наших задач."
   ]
  },
  {
   "cell_type": "markdown",
   "metadata": {},
   "source": [
    "Построим модель логистической регрессии , проведем на ней кросс-валидацию.Средня оценка качества модели составила 0.731"
   ]
  },
  {
   "cell_type": "code",
   "execution_count": 58,
   "metadata": {},
   "outputs": [
    {
     "name": "stdout",
     "output_type": "stream",
     "text": [
      "Средняя оценка качества модели: 0.6185519941021163\n",
      "1\n",
      "l2\n"
     ]
    }
   ],
   "source": [
    "s = 0 \n",
    "a = ['l2', 'None']\n",
    "si = 0\n",
    "sj = 0 \n",
    "warnings.filterwarnings('ignore')\n",
    "for j in a:\n",
    "    for i in range (1, 50,10):\n",
    "        model = LogisticRegression(penalty = j, random_state=12345, max_iter = i, solver = 'sag')\n",
    "        scores = cross_val_score(model, features_train_enc, target_train, cv =5, scoring = 'precision')\n",
    "        final_score = sum(scores)/len(scores)\n",
    "        if final_score>s:\n",
    "            s = final_score\n",
    "            si = i\n",
    "            sj = j\n",
    "            \n",
    "print('Средняя оценка качества модели:', s)\n",
    "print(si)\n",
    "print(sj)\n",
    "    "
   ]
  },
  {
   "cell_type": "markdown",
   "metadata": {},
   "source": [
    "Построим модель дерева решений , проведем на ней кросс-валидацию.Средня оценка качества модели составила 0.56"
   ]
  },
  {
   "cell_type": "code",
   "execution_count": 59,
   "metadata": {},
   "outputs": [
    {
     "name": "stdout",
     "output_type": "stream",
     "text": [
      "0.5346395192584191 11 auto\n"
     ]
    }
   ],
   "source": [
    "warnings.filterwarnings('ignore')\n",
    "si = 0\n",
    "s = 0\n",
    "sj = 0\n",
    "a = ['auto', 'sqrt', 'log2', 'None']\n",
    "for i in range (1,71,10):\n",
    "    for j in a:\n",
    "        model1 = DecisionTreeClassifier(random_state=12345, max_depth = i, max_features = j)\n",
    "        scores1 = cross_val_score(model1, features_train_tree, target_train_tree, cv =5, scoring = 'precision')\n",
    "        final_score1 = sum(scores1)/len(scores1)\n",
    "        if final_score1>s:\n",
    "            s = final_score1\n",
    "            si = i\n",
    "            sj = j\n",
    "print(s,si, sj)"
   ]
  },
  {
   "cell_type": "markdown",
   "metadata": {},
   "source": [
    "Построим модель случайного , проведем на ней кросс-валидацию.Средня оценка качества модели составила 0.51"
   ]
  },
  {
   "cell_type": "code",
   "execution_count": 60,
   "metadata": {},
   "outputs": [
    {
     "name": "stdout",
     "output_type": "stream",
     "text": [
      "0.5171483663969866 45 25\n"
     ]
    }
   ],
   "source": [
    "warnings.filterwarnings('ignore')\n",
    "s = 0\n",
    "si =0\n",
    "sj = 0\n",
    "for i in range(35,46, 5):\n",
    "    for j in range (20,31,5):\n",
    "        model2 = RandomForestClassifier(random_state = 12345, n_estimators = i, max_depth = j)\n",
    "        scores2 = cross_val_score(model2, features_train_tree, target_train_tree, cv =5,scoring = 'precision')\n",
    "        final_score2 = sum(scores2)/len(scores2)\n",
    "        if final_score2 > s:\n",
    "            s = final_score2\n",
    "            si = i \n",
    "            sj = j\n",
    "print(s,si,sj)\n",
    "                               "
   ]
  },
  {
   "cell_type": "markdown",
   "metadata": {},
   "source": [
    "Вывод: наилучшая модель для этой задачи - логистическая регрессия, обучим ее тренировочным набором. Метрика на тренировочном наборе precision = 0.62"
   ]
  },
  {
   "cell_type": "code",
   "execution_count": 61,
   "metadata": {},
   "outputs": [
    {
     "data": {
      "text/plain": [
       "(65061, 189)"
      ]
     },
     "execution_count": 61,
     "metadata": {},
     "output_type": "execute_result"
    }
   ],
   "source": [
    "features_train_enc.shape"
   ]
  },
  {
   "cell_type": "code",
   "execution_count": 62,
   "metadata": {},
   "outputs": [
    {
     "name": "stdout",
     "output_type": "stream",
     "text": [
      "0.7899505766062603\n"
     ]
    }
   ],
   "source": [
    "model = LogisticRegression(penalty = 'l2',random_state=12345, max_iter = 31, solver = 'sag').fit(features_train_enc,target_train)\n",
    "predict = model.predict(features_test_enc)\n",
    "print(precision_score(target_test,predict))"
   ]
  },
  {
   "cell_type": "markdown",
   "metadata": {},
   "source": [
    "Посчитаем прибыль, которую принесет эта модель , следующим образом: оставим в тестовом наборе данных только те заказы, отмену которых предсказала наша модель правильно, после чего посмотри, какую сумму , могло бы сэкономить введение системы депозитов."
   ]
  },
  {
   "cell_type": "code",
   "execution_count": 63,
   "metadata": {},
   "outputs": [],
   "source": [
    "predict = pd.Series(predict)\n",
    "df1 = df_test"
   ]
  },
  {
   "cell_type": "code",
   "execution_count": 64,
   "metadata": {},
   "outputs": [],
   "source": [
    "target_test = pd.DataFrame(target_test)"
   ]
  },
  {
   "cell_type": "code",
   "execution_count": 65,
   "metadata": {},
   "outputs": [],
   "source": [
    "target_test = target_test['is_canceled']"
   ]
  },
  {
   "cell_type": "code",
   "execution_count": 66,
   "metadata": {},
   "outputs": [
    {
     "data": {
      "text/plain": [
       "1"
      ]
     },
     "execution_count": 66,
     "metadata": {},
     "output_type": "execute_result"
    }
   ],
   "source": [
    "target_test[1]"
   ]
  },
  {
   "cell_type": "code",
   "execution_count": 67,
   "metadata": {},
   "outputs": [],
   "source": [
    "df1 = df_test\n",
    "df1.index = predict.index"
   ]
  },
  {
   "cell_type": "code",
   "execution_count": 68,
   "metadata": {},
   "outputs": [],
   "source": [
    "target_test.index = predict.index"
   ]
  },
  {
   "cell_type": "code",
   "execution_count": 69,
   "metadata": {},
   "outputs": [],
   "source": [
    "s = 0 \n",
    "a = []\n",
    "for i in df1.index:\n",
    "    if(predict[i] == 1)and(target_test[i]==1):\n",
    "        s = s\n",
    "    else:\n",
    "        df1 = df1.drop(index = i)"
   ]
  },
  {
   "cell_type": "code",
   "execution_count": 70,
   "metadata": {},
   "outputs": [],
   "source": [
    "dfsy = pd.DataFrame(df1[(df1['season'] == 3)].groupby(by = 'reserved_room_type')['total_nights'].count())\n",
    "dfoy = pd.DataFrame(df1[(df1['season'] == 2)].groupby(by = 'reserved_room_type')['total_nights'].count())\n",
    "dfwy = pd.DataFrame(df1[(df1['season'] == 1)].groupby(by = 'reserved_room_type')['total_nights'].count())\n"
   ]
  },
  {
   "cell_type": "code",
   "execution_count": 71,
   "metadata": {},
   "outputs": [],
   "source": [
    "s = 0\n",
    "s += (dfsy.values[0]*1000*1.4+(dfsy.values[0])*400)\n",
    "s += (dfsy.values[1]*800*1.4+(dfsy.values[1])*350)\n",
    "s += (dfsy.values[2]*600*1.4+(dfsy.values[2])*350)\n",
    "s += (dfsy.values[3]*550*1.4+(dfsy.values[3])*150)\n",
    "s += (dfsy.values[4]*500*1.4+(dfsy.values[4])*150)\n",
    "s += (dfsy.values[5]*450*1.4+(dfsy.values[5])*150)\n",
    "s += (dfsy.values[6]*350*1.4+(dfsy.values[6])*150)\n",
    "\n",
    "s += (dfoy.values[0]*1000*1.2+(dfoy.values[0])*400)\n",
    "s += (dfoy.values[1]*800*1.2+(dfoy.values[1])*350)\n",
    "s += (dfoy.values[2]*600*1.2+(dfoy.values[2])*350)\n",
    "s += (dfoy.values[3]*550*1.2+(dfoy.values[3])*150)\n",
    "s += (dfoy.values[4]*500*1.2+(dfoy.values[4])*150)\n",
    "s += (dfoy.values[5]*450*1.2+(dfoy.values[5])*150)\n",
    "s += (dfoy.values[6]*350*1.2+(dfoy.values[6])*150)\n",
    "\n",
    "s += (dfwy.values[0]*1000*1+(dfwy.values[0])*400)\n",
    "s += (dfwy.values[1]*800*1+(dfwy.values[1])*350)\n",
    "s += (dfwy.values[2]*600*1+(dfwy.values[2])*350)\n",
    "s += (dfwy.values[3]*550*1+(dfwy.values[3])*150)\n",
    "s += (dfwy.values[4]*500*1+(dfwy.values[4])*150)\n",
    "s += (dfwy.values[5]*350*1+(dfwy.values[5])*150)"
   ]
  },
  {
   "cell_type": "code",
   "execution_count": 72,
   "metadata": {},
   "outputs": [
    {
     "name": "stdout",
     "output_type": "stream",
     "text": [
      "Прибыль увеличится на =  2.96 млн. рублей\n"
     ]
    }
   ],
   "source": [
    "s = int(s*0.8)\n",
    "print('Прибыль увеличится на = ', round(s/(10**6),2), 'млн. рублей')"
   ]
  },
  {
   "cell_type": "markdown",
   "metadata": {},
   "source": [
    "Итоги работы проделанной на данном этапе :\n",
    "- При помощи кросс-валидации найдена лучшая модель машинного обучения и ее гиперпараметры\n",
    "- Оценена прибыль, которую принесет внедрение системы депозитов"
   ]
  },
  {
   "cell_type": "markdown",
   "metadata": {},
   "source": [
    "### Шаг 5. Опишите портрет «ненадёжного» клиента"
   ]
  },
  {
   "cell_type": "code",
   "execution_count": 73,
   "metadata": {
    "scrolled": true
   },
   "outputs": [
    {
     "name": "stdout",
     "output_type": "stream",
     "text": [
      "Feature: 0, Score: 0.00667\n",
      "Feature: 1, Score: -0.21533\n",
      "Feature: 2, Score: 0.04696\n",
      "Feature: 3, Score: -0.01056\n",
      "Feature: 4, Score: 0.01623\n",
      "Feature: 5, Score: -0.02018\n",
      "Feature: 6, Score: -0.00485\n",
      "Feature: 7, Score: 0.14159\n",
      "Feature: 8, Score: 0.00009\n",
      "Feature: 9, Score: -0.26716\n",
      "Feature: 10, Score: -0.08689\n",
      "Feature: 11, Score: 0.98370\n",
      "Feature: 12, Score: -0.32729\n",
      "Feature: 13, Score: -0.60917\n",
      "Feature: 14, Score: -0.00344\n",
      "Feature: 15, Score: -0.61803\n",
      "Feature: 16, Score: -0.76417\n",
      "Feature: 17, Score: -0.00395\n",
      "Feature: 18, Score: -0.19374\n",
      "Feature: 19, Score: -0.00021\n",
      "Feature: 20, Score: 0.01167\n",
      "Feature: 21, Score: -0.00043\n",
      "Feature: 22, Score: -0.00035\n",
      "Feature: 23, Score: 0.01078\n",
      "Feature: 24, Score: -0.00546\n",
      "Feature: 25, Score: 0.00017\n",
      "Feature: 26, Score: -0.00022\n",
      "Feature: 27, Score: -0.00741\n",
      "Feature: 28, Score: -0.02906\n",
      "Feature: 29, Score: -0.00014\n",
      "Feature: 30, Score: -0.00023\n",
      "Feature: 31, Score: -0.07264\n",
      "Feature: 32, Score: 0.00067\n",
      "Feature: 33, Score: -0.00002\n",
      "Feature: 34, Score: 0.00238\n",
      "Feature: 35, Score: -0.00193\n",
      "Feature: 36, Score: -0.00010\n",
      "Feature: 37, Score: 0.00043\n",
      "Feature: 38, Score: -0.00040\n",
      "Feature: 39, Score: -0.00260\n",
      "Feature: 40, Score: 0.01541\n",
      "Feature: 41, Score: -0.00088\n",
      "Feature: 42, Score: -0.00007\n",
      "Feature: 43, Score: -0.03917\n",
      "Feature: 44, Score: 0.00056\n",
      "Feature: 45, Score: 0.03808\n",
      "Feature: 46, Score: -0.00026\n",
      "Feature: 47, Score: -0.00078\n",
      "Feature: 48, Score: -0.05203\n",
      "Feature: 49, Score: -0.00050\n",
      "Feature: 50, Score: 0.00121\n",
      "Feature: 51, Score: -0.00171\n",
      "Feature: 52, Score: -0.00013\n",
      "Feature: 53, Score: -0.00011\n",
      "Feature: 54, Score: -0.00266\n",
      "Feature: 55, Score: -0.00022\n",
      "Feature: 56, Score: -0.23684\n",
      "Feature: 57, Score: -0.00007\n",
      "Feature: 58, Score: -0.01098\n",
      "Feature: 59, Score: -0.00044\n",
      "Feature: 60, Score: -0.00201\n",
      "Feature: 61, Score: -0.00067\n",
      "Feature: 62, Score: -0.00045\n",
      "Feature: 63, Score: -0.07544\n",
      "Feature: 64, Score: -0.00405\n",
      "Feature: 65, Score: -0.00017\n",
      "Feature: 66, Score: -0.02250\n",
      "Feature: 67, Score: -0.28268\n",
      "Feature: 68, Score: 0.00045\n",
      "Feature: 69, Score: -0.32518\n",
      "Feature: 70, Score: 0.00228\n",
      "Feature: 71, Score: 0.00146\n",
      "Feature: 72, Score: -0.00191\n",
      "Feature: 73, Score: 0.00122\n",
      "Feature: 74, Score: -0.00112\n",
      "Feature: 75, Score: 0.00439\n",
      "Feature: 76, Score: -0.00041\n",
      "Feature: 77, Score: 0.00777\n",
      "Feature: 78, Score: -0.00027\n",
      "Feature: 79, Score: -0.00454\n",
      "Feature: 80, Score: 0.00111\n",
      "Feature: 81, Score: 0.00448\n",
      "Feature: 82, Score: 0.00020\n",
      "Feature: 83, Score: 0.00243\n",
      "Feature: 84, Score: -0.09571\n",
      "Feature: 85, Score: -0.00063\n",
      "Feature: 86, Score: 0.00144\n",
      "Feature: 87, Score: 0.00476\n",
      "Feature: 88, Score: 0.00693\n",
      "Feature: 89, Score: 0.09657\n",
      "Feature: 90, Score: -0.00043\n",
      "Feature: 91, Score: 0.00229\n",
      "Feature: 92, Score: -0.00022\n",
      "Feature: 93, Score: -0.00873\n",
      "Feature: 94, Score: -0.00105\n",
      "Feature: 95, Score: 0.00041\n",
      "Feature: 96, Score: 0.00096\n",
      "Feature: 97, Score: 0.00051\n",
      "Feature: 98, Score: 0.00461\n",
      "Feature: 99, Score: 0.00128\n",
      "Feature: 100, Score: 0.00021\n",
      "Feature: 101, Score: -0.00175\n",
      "Feature: 102, Score: -0.00034\n",
      "Feature: 103, Score: -0.00047\n",
      "Feature: 104, Score: 0.00034\n",
      "Feature: 105, Score: -0.00791\n",
      "Feature: 106, Score: 0.00702\n",
      "Feature: 107, Score: -0.00397\n",
      "Feature: 108, Score: 0.00111\n",
      "Feature: 109, Score: 0.00148\n",
      "Feature: 110, Score: 0.00016\n",
      "Feature: 111, Score: 0.00146\n",
      "Feature: 112, Score: -0.00435\n",
      "Feature: 113, Score: 0.00015\n",
      "Feature: 114, Score: -0.00012\n",
      "Feature: 115, Score: -0.00106\n",
      "Feature: 116, Score: 0.00055\n",
      "Feature: 117, Score: -0.00046\n",
      "Feature: 118, Score: -0.00219\n",
      "Feature: 119, Score: 0.00083\n",
      "Feature: 120, Score: -0.00021\n",
      "Feature: 121, Score: -0.00282\n",
      "Feature: 122, Score: -0.00016\n",
      "Feature: 123, Score: 0.00339\n",
      "Feature: 124, Score: 0.00045\n",
      "Feature: 125, Score: -0.07073\n",
      "Feature: 126, Score: -0.01361\n",
      "Feature: 127, Score: 0.00078\n",
      "Feature: 128, Score: -0.00167\n",
      "Feature: 129, Score: 0.00154\n",
      "Feature: 130, Score: -0.00004\n",
      "Feature: 131, Score: 0.00146\n",
      "Feature: 132, Score: 0.00149\n",
      "Feature: 133, Score: -0.00018\n",
      "Feature: 134, Score: -0.02942\n",
      "Feature: 135, Score: 0.00026\n",
      "Feature: 136, Score: 0.94187\n",
      "Feature: 137, Score: -0.00023\n",
      "Feature: 138, Score: -0.00041\n",
      "Feature: 139, Score: 0.00174\n",
      "Feature: 140, Score: -0.01028\n",
      "Feature: 141, Score: 0.00936\n",
      "Feature: 142, Score: -0.00015\n",
      "Feature: 143, Score: 0.00253\n",
      "Feature: 144, Score: -0.00001\n",
      "Feature: 145, Score: 0.00092\n",
      "Feature: 146, Score: -0.00013\n",
      "Feature: 147, Score: -0.00028\n",
      "Feature: 148, Score: -0.01692\n",
      "Feature: 149, Score: -0.00014\n",
      "Feature: 150, Score: -0.00060\n",
      "Feature: 151, Score: 0.00681\n",
      "Feature: 152, Score: 0.00498\n",
      "Feature: 153, Score: -0.01613\n",
      "Feature: 154, Score: -0.00022\n",
      "Feature: 155, Score: -0.00017\n",
      "Feature: 156, Score: -0.00371\n",
      "Feature: 157, Score: 0.00314\n",
      "Feature: 158, Score: -0.00010\n",
      "Feature: 159, Score: 0.00395\n",
      "Feature: 160, Score: 0.00981\n",
      "Feature: 161, Score: 0.00005\n",
      "Feature: 162, Score: 0.00022\n",
      "Feature: 163, Score: -0.00052\n",
      "Feature: 164, Score: 0.00306\n",
      "Feature: 165, Score: -0.00106\n",
      "Feature: 166, Score: -0.04838\n",
      "Feature: 167, Score: 0.00047\n",
      "Feature: 168, Score: 0.00199\n",
      "Feature: 169, Score: -0.00047\n",
      "Feature: 170, Score: 0.00021\n",
      "Feature: 171, Score: 0.00125\n",
      "Feature: 172, Score: 0.00048\n",
      "Feature: 173, Score: -0.00025\n",
      "Feature: 174, Score: -0.26658\n",
      "Feature: 175, Score: -0.39273\n",
      "Feature: 176, Score: -0.01020\n",
      "Feature: 177, Score: 0.37406\n",
      "Feature: 178, Score: -0.11448\n",
      "Feature: 179, Score: 0.03084\n",
      "Feature: 180, Score: -0.01827\n",
      "Feature: 181, Score: -0.07227\n",
      "Feature: 182, Score: -0.09486\n",
      "Feature: 183, Score: -0.02399\n",
      "Feature: 184, Score: -0.00242\n",
      "Feature: 185, Score: -0.08733\n",
      "Feature: 186, Score: -0.01993\n",
      "Feature: 187, Score: 0.23683\n",
      "Feature: 188, Score: -0.42501\n"
     ]
    },
    {
     "data": {
      "image/png": "[encoded data removed]",
      "text/plain": [
       "<Figure size 432x288 with 1 Axes>"
      ]
     },
     "metadata": {
      "needs_background": "light"
     },
     "output_type": "display_data"
    },
    {
     "data": {
      "text/plain": [
       "11     0.983703\n",
       "136    0.941866\n",
       "177    0.374059\n",
       "187    0.236834\n",
       "7      0.141592\n",
       "         ...   \n",
       "175   -0.392731\n",
       "188   -0.425014\n",
       "13    -0.609171\n",
       "15    -0.618026\n",
       "16    -0.764170\n",
       "Length: 189, dtype: float64"
      ]
     },
     "execution_count": 73,
     "metadata": {},
     "output_type": "execute_result"
    }
   ],
   "source": [
    "importance = model.coef_[0]\n",
    "# summarize feature importance\n",
    "for i,v in enumerate(importance):\n",
    "    print('Feature: %0d, Score: %.5f' % (i,v))\n",
    "# plot feature importance\n",
    "plt.bar([x for x in range(len(importance))], importance)\n",
    "plt.show()\n",
    "importance = pd.Series(importance)\n",
    "importance.sort_values(ascending  = False)"
   ]
  },
  {
   "cell_type": "code",
   "execution_count": 74,
   "metadata": {},
   "outputs": [
    {
     "name": "stdout",
     "output_type": "stream",
     "text": [
      "previous_cancellations\n"
     ]
    },
    {
     "data": {
      "text/plain": [
       "'total_of_special_requests'"
      ]
     },
     "execution_count": 74,
     "metadata": {},
     "output_type": "execute_result"
    }
   ],
   "source": [
    "print(features_train_enc.columns[11])\n",
    "features_train_enc.columns[16]\n"
   ]
  },
  {
   "cell_type": "markdown",
   "metadata": {},
   "source": [
    "Модель посчитала признака previous_cancellations и distribution_channel самыми важными для анализа. Результаты исследовательского анализа подтверждают это, но из этого списка следует удалить previous_cancellations , ввиду слишком малого кол-ва данных для анализа, а добавить в этот список следует total_of_special_requests - чем меньше специальных поправок, тем выше вероятность отмены\n"
   ]
  },
  {
   "cell_type": "markdown",
   "metadata": {},
   "source": [
    "Итог проделанной на данном шаге работы:\n",
    "составлен портрет 'ненадежного' клиента:\n",
    "- total_of_special_requests - чем меньше специальных поправок, тем выше вероятность отмены\n",
    "- distribution_channel == TA/TO\n"
   ]
  },
  {
   "cell_type": "markdown",
   "metadata": {},
   "source": [
    "### Шаг 6. Напишите общий вывод"
   ]
  },
  {
   "cell_type": "markdown",
   "metadata": {},
   "source": [
    "Общий вывод:\n",
    "1) обучена модель линейной регрессии :\n",
    "- метрика precision = 0.79\n",
    "- Сделан вывод о целесообразности внедрения системы депозитов: прогнозируется увелечение прибыль на 3 млн. рублей\n",
    "\n",
    "2) составлен портрет 'ненадежного' клиента:\n",
    "- distribution_channel == TA/TO\n",
    "- total_of_special_requests - чем меньше специальных поправок, тем выше вероятность отмены"
   ]
  }
 ],
 "metadata": {
  "ExecuteTimeLog": [
   {
    "duration": 875,
    "start_time": "2023-06-06T20:34:46.161Z"
   },
   {
    "duration": 611,
    "start_time": "2023-06-06T20:35:35.812Z"
   },
   {
    "duration": 21,
    "start_time": "2023-06-06T20:35:47.916Z"
   },
   {
    "duration": 27,
    "start_time": "2023-06-06T20:39:42.678Z"
   },
   {
    "duration": 24,
    "start_time": "2023-06-06T20:40:02.434Z"
   },
   {
    "duration": 25,
    "start_time": "2023-06-06T20:40:11.704Z"
   },
   {
    "duration": 39,
    "start_time": "2023-06-06T20:40:19.201Z"
   },
   {
    "duration": 46,
    "start_time": "2023-06-06T20:40:24.215Z"
   },
   {
    "duration": 34,
    "start_time": "2023-06-06T20:41:35.369Z"
   },
   {
    "duration": 22,
    "start_time": "2023-06-06T20:42:22.610Z"
   },
   {
    "duration": 16,
    "start_time": "2023-06-06T20:42:46.319Z"
   },
   {
    "duration": 15,
    "start_time": "2023-06-06T20:44:13.623Z"
   },
   {
    "duration": 629,
    "start_time": "2023-06-06T20:45:51.817Z"
   },
   {
    "duration": 252,
    "start_time": "2023-06-06T20:45:52.678Z"
   },
   {
    "duration": 24,
    "start_time": "2023-06-06T20:45:53.217Z"
   },
   {
    "duration": 23,
    "start_time": "2023-06-06T20:45:53.536Z"
   },
   {
    "duration": 30,
    "start_time": "2023-06-06T20:45:55.422Z"
   },
   {
    "duration": 7,
    "start_time": "2023-06-06T20:46:54.925Z"
   },
   {
    "duration": 19,
    "start_time": "2023-06-06T20:47:08.420Z"
   },
   {
    "duration": 18,
    "start_time": "2023-06-06T20:49:33.744Z"
   },
   {
    "duration": 7,
    "start_time": "2023-06-06T20:52:35.826Z"
   },
   {
    "duration": 4,
    "start_time": "2023-06-06T21:00:28.966Z"
   },
   {
    "duration": 73,
    "start_time": "2023-06-06T21:16:25.747Z"
   },
   {
    "duration": 18,
    "start_time": "2023-06-06T21:16:36.100Z"
   },
   {
    "duration": 7,
    "start_time": "2023-06-06T21:18:34.604Z"
   },
   {
    "duration": 453,
    "start_time": "2023-06-06T21:18:50.128Z"
   },
   {
    "duration": 1810,
    "start_time": "2023-06-06T21:18:54.629Z"
   },
   {
    "duration": 184,
    "start_time": "2023-06-06T21:19:12.248Z"
   },
   {
    "duration": 88,
    "start_time": "2023-06-06T21:20:54.468Z"
   },
   {
    "duration": 140,
    "start_time": "2023-06-06T21:21:00.448Z"
   },
   {
    "duration": 1698,
    "start_time": "2023-06-06T21:21:11.702Z"
   },
   {
    "duration": 13,
    "start_time": "2023-06-06T21:27:48.806Z"
   },
   {
    "duration": 1058,
    "start_time": "2023-06-06T21:28:03.406Z"
   },
   {
    "duration": 198,
    "start_time": "2023-06-06T21:28:04.466Z"
   },
   {
    "duration": 24,
    "start_time": "2023-06-06T21:28:04.665Z"
   },
   {
    "duration": 16,
    "start_time": "2023-06-06T21:28:04.691Z"
   },
   {
    "duration": 24,
    "start_time": "2023-06-06T21:28:04.709Z"
   },
   {
    "duration": 6,
    "start_time": "2023-06-06T21:28:04.735Z"
   },
   {
    "duration": 16,
    "start_time": "2023-06-06T21:28:04.743Z"
   },
   {
    "duration": 39,
    "start_time": "2023-06-06T21:28:04.761Z"
   },
   {
    "duration": 82,
    "start_time": "2023-06-06T21:28:04.802Z"
   },
   {
    "duration": 22,
    "start_time": "2023-06-06T21:28:18.228Z"
   },
   {
    "duration": 102,
    "start_time": "2023-06-06T21:30:46.728Z"
   },
   {
    "duration": 17,
    "start_time": "2023-06-06T21:31:03.116Z"
   },
   {
    "duration": 1515,
    "start_time": "2023-06-06T21:31:09.247Z"
   },
   {
    "duration": 276,
    "start_time": "2023-06-06T21:31:36.130Z"
   },
   {
    "duration": 2554,
    "start_time": "2023-06-06T21:32:39.502Z"
   },
   {
    "duration": 37955,
    "start_time": "2023-06-06T21:35:34.850Z"
   },
   {
    "duration": 18311,
    "start_time": "2023-06-06T21:38:12.006Z"
   },
   {
    "duration": 5,
    "start_time": "2023-06-06T21:38:43.348Z"
   },
   {
    "duration": 5,
    "start_time": "2023-06-06T21:38:57.411Z"
   },
   {
    "duration": 1859,
    "start_time": "2023-06-06T21:42:15.316Z"
   },
   {
    "duration": 45602,
    "start_time": "2023-06-06T21:42:59.328Z"
   },
   {
    "duration": 1462,
    "start_time": "2023-06-06T21:44:00.813Z"
   },
   {
    "duration": 5,
    "start_time": "2023-06-06T21:45:45.052Z"
   },
   {
    "duration": 9,
    "start_time": "2023-06-06T21:46:02.816Z"
   },
   {
    "duration": 1008,
    "start_time": "2023-06-06T21:46:16.259Z"
   },
   {
    "duration": 206,
    "start_time": "2023-06-06T21:46:17.269Z"
   },
   {
    "duration": 28,
    "start_time": "2023-06-06T21:46:17.476Z"
   },
   {
    "duration": 16,
    "start_time": "2023-06-06T21:46:17.506Z"
   },
   {
    "duration": 9,
    "start_time": "2023-06-06T21:46:18.209Z"
   },
   {
    "duration": 6,
    "start_time": "2023-06-06T21:46:32.305Z"
   },
   {
    "duration": 1041,
    "start_time": "2023-06-06T21:46:41.813Z"
   },
   {
    "duration": 209,
    "start_time": "2023-06-06T21:46:42.855Z"
   },
   {
    "duration": 29,
    "start_time": "2023-06-06T21:46:43.066Z"
   },
   {
    "duration": 15,
    "start_time": "2023-06-06T21:46:43.129Z"
   },
   {
    "duration": 9,
    "start_time": "2023-06-06T21:46:43.730Z"
   },
   {
    "duration": 27,
    "start_time": "2023-06-06T21:46:47.143Z"
   },
   {
    "duration": 8,
    "start_time": "2023-06-06T21:47:18.824Z"
   },
   {
    "duration": 24,
    "start_time": "2023-06-06T21:48:23.305Z"
   },
   {
    "duration": 36,
    "start_time": "2023-06-06T21:48:37.214Z"
   },
   {
    "duration": 30,
    "start_time": "2023-06-06T21:48:45.847Z"
   },
   {
    "duration": 34,
    "start_time": "2023-06-06T21:48:59.401Z"
   },
   {
    "duration": 24,
    "start_time": "2023-06-06T21:49:00.443Z"
   },
   {
    "duration": 8,
    "start_time": "2023-06-06T21:49:00.846Z"
   },
   {
    "duration": 18,
    "start_time": "2023-06-06T21:49:01.162Z"
   },
   {
    "duration": 19,
    "start_time": "2023-06-06T21:49:01.473Z"
   },
   {
    "duration": 54616,
    "start_time": "2023-06-06T21:49:01.615Z"
   },
   {
    "duration": 49832,
    "start_time": "2023-06-06T21:49:56.233Z"
   },
   {
    "duration": 123,
    "start_time": "2023-06-06T21:50:46.067Z"
   },
   {
    "duration": 0,
    "start_time": "2023-06-06T21:50:46.192Z"
   },
   {
    "duration": 6,
    "start_time": "2023-06-06T21:50:58.625Z"
   },
   {
    "duration": 22,
    "start_time": "2023-06-06T21:53:42.007Z"
   },
   {
    "duration": 16,
    "start_time": "2023-06-06T21:54:10.934Z"
   },
   {
    "duration": 13,
    "start_time": "2023-06-06T21:54:53.901Z"
   },
   {
    "duration": 7,
    "start_time": "2023-06-06T21:55:51.368Z"
   },
   {
    "duration": 1061,
    "start_time": "2023-06-06T21:57:12.753Z"
   },
   {
    "duration": 226,
    "start_time": "2023-06-06T21:57:13.815Z"
   },
   {
    "duration": 22,
    "start_time": "2023-06-06T21:57:14.043Z"
   },
   {
    "duration": 41,
    "start_time": "2023-06-06T21:57:14.067Z"
   },
   {
    "duration": 35,
    "start_time": "2023-06-06T21:57:14.110Z"
   },
   {
    "duration": 51,
    "start_time": "2023-06-06T21:57:14.146Z"
   },
   {
    "duration": 9,
    "start_time": "2023-06-06T21:57:14.202Z"
   },
   {
    "duration": 18,
    "start_time": "2023-06-06T21:57:14.213Z"
   },
   {
    "duration": 25,
    "start_time": "2023-06-06T21:57:14.232Z"
   },
   {
    "duration": 42065,
    "start_time": "2023-06-06T21:57:14.258Z"
   },
   {
    "duration": 0,
    "start_time": "2023-06-06T21:57:56.325Z"
   },
   {
    "duration": 0,
    "start_time": "2023-06-06T21:57:56.327Z"
   },
   {
    "duration": 0,
    "start_time": "2023-06-06T21:57:56.328Z"
   },
   {
    "duration": 51267,
    "start_time": "2023-06-06T21:58:12.411Z"
   },
   {
    "duration": 30,
    "start_time": "2023-06-06T21:59:03.691Z"
   },
   {
    "duration": 464,
    "start_time": "2023-06-06T22:00:34.408Z"
   },
   {
    "duration": 6,
    "start_time": "2023-06-06T22:01:43.297Z"
   },
   {
    "duration": 4,
    "start_time": "2023-06-06T22:02:08.554Z"
   },
   {
    "duration": 15776,
    "start_time": "2023-06-06T22:02:51.100Z"
   },
   {
    "duration": 8,
    "start_time": "2023-06-06T22:03:27.699Z"
   },
   {
    "duration": 36,
    "start_time": "2023-06-06T22:03:35.729Z"
   },
   {
    "duration": 7,
    "start_time": "2023-06-06T22:04:29.196Z"
   },
   {
    "duration": 10,
    "start_time": "2023-06-06T22:05:32.399Z"
   },
   {
    "duration": 13,
    "start_time": "2023-06-06T22:06:55.528Z"
   },
   {
    "duration": 12,
    "start_time": "2023-06-06T22:07:26.289Z"
   },
   {
    "duration": 47,
    "start_time": "2023-06-06T22:07:27.127Z"
   },
   {
    "duration": 7,
    "start_time": "2023-06-06T22:07:59.504Z"
   },
   {
    "duration": 8,
    "start_time": "2023-06-06T22:15:36.597Z"
   },
   {
    "duration": 486,
    "start_time": "2023-06-06T22:16:28.890Z"
   },
   {
    "duration": 27,
    "start_time": "2023-06-06T22:16:35.036Z"
   },
   {
    "duration": 28,
    "start_time": "2023-06-06T22:18:27.693Z"
   },
   {
    "duration": 13,
    "start_time": "2023-06-06T22:21:11.236Z"
   },
   {
    "duration": 10,
    "start_time": "2023-06-06T22:21:45.095Z"
   },
   {
    "duration": 1587,
    "start_time": "2023-06-07T06:55:32.913Z"
   },
   {
    "duration": 871,
    "start_time": "2023-06-07T06:55:34.502Z"
   },
   {
    "duration": 26,
    "start_time": "2023-06-07T06:55:35.375Z"
   },
   {
    "duration": 29,
    "start_time": "2023-06-07T06:55:35.451Z"
   },
   {
    "duration": 30,
    "start_time": "2023-06-07T06:55:35.908Z"
   },
   {
    "duration": 26,
    "start_time": "2023-06-07T06:55:36.388Z"
   },
   {
    "duration": 42,
    "start_time": "2023-06-07T06:55:37.153Z"
   },
   {
    "duration": 11,
    "start_time": "2023-06-07T06:55:37.931Z"
   },
   {
    "duration": 18,
    "start_time": "2023-06-07T06:55:38.597Z"
   },
   {
    "duration": 29,
    "start_time": "2023-06-07T06:55:39.047Z"
   },
   {
    "duration": 58600,
    "start_time": "2023-06-07T06:55:39.273Z"
   },
   {
    "duration": 57844,
    "start_time": "2023-06-07T06:56:37.876Z"
   },
   {
    "duration": 2115,
    "start_time": "2023-06-07T06:57:35.722Z"
   },
   {
    "duration": 29,
    "start_time": "2023-06-07T06:57:37.840Z"
   },
   {
    "duration": 14,
    "start_time": "2023-06-07T06:57:37.871Z"
   },
   {
    "duration": 8,
    "start_time": "2023-06-07T06:57:37.887Z"
   },
   {
    "duration": 128,
    "start_time": "2023-06-07T06:57:37.897Z"
   },
   {
    "duration": 4,
    "start_time": "2023-06-07T06:57:50.045Z"
   },
   {
    "duration": 19,
    "start_time": "2023-06-07T06:58:41.048Z"
   },
   {
    "duration": 12,
    "start_time": "2023-06-07T06:58:46.918Z"
   },
   {
    "duration": 29,
    "start_time": "2023-06-07T06:59:03.153Z"
   },
   {
    "duration": 13,
    "start_time": "2023-06-07T06:59:22.988Z"
   },
   {
    "duration": 804,
    "start_time": "2023-06-07T07:00:47.772Z"
   },
   {
    "duration": 6,
    "start_time": "2023-06-07T07:01:21.813Z"
   },
   {
    "duration": 919,
    "start_time": "2023-06-07T07:01:37.873Z"
   },
   {
    "duration": 15,
    "start_time": "2023-06-07T07:01:48.156Z"
   },
   {
    "duration": 16,
    "start_time": "2023-06-07T07:02:04.025Z"
   },
   {
    "duration": 19,
    "start_time": "2023-06-07T07:02:20.813Z"
   },
   {
    "duration": 803,
    "start_time": "2023-06-07T07:02:28.438Z"
   },
   {
    "duration": 134,
    "start_time": "2023-06-07T07:02:45.591Z"
   },
   {
    "duration": 5,
    "start_time": "2023-06-07T07:02:56.282Z"
   },
   {
    "duration": 10,
    "start_time": "2023-06-07T07:03:07.274Z"
   },
   {
    "duration": 25,
    "start_time": "2023-06-07T07:07:29.143Z"
   },
   {
    "duration": 26,
    "start_time": "2023-06-07T07:07:36.915Z"
   },
   {
    "duration": 25,
    "start_time": "2023-06-07T07:07:44.690Z"
   },
   {
    "duration": 24,
    "start_time": "2023-06-07T07:07:54.582Z"
   },
   {
    "duration": 23,
    "start_time": "2023-06-07T07:10:56.703Z"
   },
   {
    "duration": 12,
    "start_time": "2023-06-07T07:11:27.318Z"
   },
   {
    "duration": 295,
    "start_time": "2023-06-07T07:12:00.480Z"
   },
   {
    "duration": 78,
    "start_time": "2023-06-07T07:12:34.349Z"
   },
   {
    "duration": 1436,
    "start_time": "2023-06-07T07:12:51.295Z"
   },
   {
    "duration": 312,
    "start_time": "2023-06-07T07:12:52.733Z"
   },
   {
    "duration": 36,
    "start_time": "2023-06-07T07:12:53.047Z"
   },
   {
    "duration": 30,
    "start_time": "2023-06-07T07:12:53.085Z"
   },
   {
    "duration": 33,
    "start_time": "2023-06-07T07:12:53.117Z"
   },
   {
    "duration": 46,
    "start_time": "2023-06-07T07:12:53.161Z"
   },
   {
    "duration": 30,
    "start_time": "2023-06-07T07:12:53.209Z"
   },
   {
    "duration": 51,
    "start_time": "2023-06-07T07:12:53.241Z"
   },
   {
    "duration": 43,
    "start_time": "2023-06-07T07:12:53.294Z"
   },
   {
    "duration": 47,
    "start_time": "2023-06-07T07:12:53.339Z"
   },
   {
    "duration": 58295,
    "start_time": "2023-06-07T07:12:53.398Z"
   },
   {
    "duration": 60073,
    "start_time": "2023-06-07T07:13:51.697Z"
   },
   {
    "duration": 2568,
    "start_time": "2023-06-07T07:14:51.772Z"
   },
   {
    "duration": 53,
    "start_time": "2023-06-07T07:14:54.343Z"
   },
   {
    "duration": 17,
    "start_time": "2023-06-07T07:14:54.398Z"
   },
   {
    "duration": 10,
    "start_time": "2023-06-07T07:14:54.417Z"
   },
   {
    "duration": 37,
    "start_time": "2023-06-07T07:14:54.428Z"
   },
   {
    "duration": 391,
    "start_time": "2023-06-07T07:14:54.480Z"
   },
   {
    "duration": 0,
    "start_time": "2023-06-07T07:14:54.880Z"
   },
   {
    "duration": 33,
    "start_time": "2023-06-07T07:15:28.196Z"
   },
   {
    "duration": 5,
    "start_time": "2023-06-07T07:15:49.947Z"
   },
   {
    "duration": 19,
    "start_time": "2023-06-07T07:17:01.196Z"
   },
   {
    "duration": 19,
    "start_time": "2023-06-07T07:17:20.222Z"
   },
   {
    "duration": 18,
    "start_time": "2023-06-07T07:17:48.804Z"
   },
   {
    "duration": 25,
    "start_time": "2023-06-07T07:17:54.304Z"
   },
   {
    "duration": 195,
    "start_time": "2023-06-07T07:17:59.946Z"
   },
   {
    "duration": 17,
    "start_time": "2023-06-07T07:18:00.609Z"
   },
   {
    "duration": 88,
    "start_time": "2023-06-07T07:18:10.003Z"
   },
   {
    "duration": 32,
    "start_time": "2023-06-07T07:18:10.563Z"
   },
   {
    "duration": 19,
    "start_time": "2023-06-07T07:18:11.203Z"
   },
   {
    "duration": 1434,
    "start_time": "2023-06-07T07:18:12.699Z"
   },
   {
    "duration": 1682,
    "start_time": "2023-06-07T07:18:31.324Z"
   },
   {
    "duration": 306,
    "start_time": "2023-06-07T07:18:33.009Z"
   },
   {
    "duration": 28,
    "start_time": "2023-06-07T07:18:33.321Z"
   },
   {
    "duration": 35,
    "start_time": "2023-06-07T07:18:33.351Z"
   },
   {
    "duration": 42,
    "start_time": "2023-06-07T07:18:33.389Z"
   },
   {
    "duration": 34,
    "start_time": "2023-06-07T07:18:33.434Z"
   },
   {
    "duration": 49,
    "start_time": "2023-06-07T07:18:33.470Z"
   },
   {
    "duration": 8,
    "start_time": "2023-06-07T07:18:33.521Z"
   },
   {
    "duration": 30,
    "start_time": "2023-06-07T07:18:33.531Z"
   },
   {
    "duration": 39,
    "start_time": "2023-06-07T07:18:33.563Z"
   },
   {
    "duration": 63293,
    "start_time": "2023-06-07T07:18:33.604Z"
   },
   {
    "duration": 66158,
    "start_time": "2023-06-07T07:19:36.901Z"
   },
   {
    "duration": 2763,
    "start_time": "2023-06-07T07:20:43.062Z"
   },
   {
    "duration": 23,
    "start_time": "2023-06-07T07:20:45.828Z"
   },
   {
    "duration": 28,
    "start_time": "2023-06-07T07:20:45.867Z"
   },
   {
    "duration": 11,
    "start_time": "2023-06-07T07:20:45.898Z"
   },
   {
    "duration": 24,
    "start_time": "2023-06-07T07:20:45.912Z"
   },
   {
    "duration": 12,
    "start_time": "2023-06-07T07:20:45.938Z"
   },
   {
    "duration": 403,
    "start_time": "2023-06-07T07:20:45.952Z"
   },
   {
    "duration": 0,
    "start_time": "2023-06-07T07:20:46.366Z"
   },
   {
    "duration": 53,
    "start_time": "2023-06-07T07:21:34.154Z"
   },
   {
    "duration": 38,
    "start_time": "2023-06-07T07:21:56.746Z"
   },
   {
    "duration": 27,
    "start_time": "2023-06-07T07:22:15.627Z"
   },
   {
    "duration": 19,
    "start_time": "2023-06-07T07:22:38.185Z"
   },
   {
    "duration": 53,
    "start_time": "2023-06-07T07:23:10.643Z"
   },
   {
    "duration": 1697,
    "start_time": "2023-06-07T07:23:57.911Z"
   },
   {
    "duration": 328,
    "start_time": "2023-06-07T07:23:59.611Z"
   },
   {
    "duration": 39,
    "start_time": "2023-06-07T07:23:59.940Z"
   },
   {
    "duration": 31,
    "start_time": "2023-06-07T07:23:59.981Z"
   },
   {
    "duration": 72,
    "start_time": "2023-06-07T07:24:00.015Z"
   },
   {
    "duration": 33,
    "start_time": "2023-06-07T07:24:00.093Z"
   },
   {
    "duration": 55,
    "start_time": "2023-06-07T07:24:00.128Z"
   },
   {
    "duration": 26,
    "start_time": "2023-06-07T07:24:00.185Z"
   },
   {
    "duration": 58,
    "start_time": "2023-06-07T07:24:00.213Z"
   },
   {
    "duration": 35,
    "start_time": "2023-06-07T07:24:00.281Z"
   },
   {
    "duration": 69264,
    "start_time": "2023-06-07T07:24:00.319Z"
   },
   {
    "duration": 76829,
    "start_time": "2023-06-07T07:25:09.586Z"
   },
   {
    "duration": 2923,
    "start_time": "2023-06-07T07:26:26.416Z"
   },
   {
    "duration": 50,
    "start_time": "2023-06-07T07:26:29.341Z"
   },
   {
    "duration": 36,
    "start_time": "2023-06-07T07:26:29.394Z"
   },
   {
    "duration": 14,
    "start_time": "2023-06-07T07:26:29.440Z"
   },
   {
    "duration": 55,
    "start_time": "2023-06-07T07:26:29.462Z"
   },
   {
    "duration": 21,
    "start_time": "2023-06-07T07:26:29.525Z"
   },
   {
    "duration": 540,
    "start_time": "2023-06-07T07:26:29.551Z"
   },
   {
    "duration": 0,
    "start_time": "2023-06-07T07:26:30.098Z"
   },
   {
    "duration": 0,
    "start_time": "2023-06-07T07:26:30.105Z"
   },
   {
    "duration": 40,
    "start_time": "2023-06-07T07:27:09.675Z"
   },
   {
    "duration": 18,
    "start_time": "2023-06-07T07:28:03.686Z"
   },
   {
    "duration": 382,
    "start_time": "2023-06-07T07:28:04.445Z"
   },
   {
    "duration": 28,
    "start_time": "2023-06-07T07:28:24.597Z"
   },
   {
    "duration": 49,
    "start_time": "2023-06-07T07:28:43.747Z"
   },
   {
    "duration": 33,
    "start_time": "2023-06-07T07:29:01.487Z"
   },
   {
    "duration": 13,
    "start_time": "2023-06-07T07:29:09.825Z"
   },
   {
    "duration": 78,
    "start_time": "2023-06-07T07:29:19.947Z"
   },
   {
    "duration": 28,
    "start_time": "2023-06-07T07:29:32.502Z"
   },
   {
    "duration": 21,
    "start_time": "2023-06-07T07:29:39.284Z"
   },
   {
    "duration": 58,
    "start_time": "2023-06-07T07:30:10.047Z"
   },
   {
    "duration": 30,
    "start_time": "2023-06-07T07:31:07.479Z"
   },
   {
    "duration": 39,
    "start_time": "2023-06-07T07:31:20.248Z"
   },
   {
    "duration": 17,
    "start_time": "2023-06-07T07:32:33.112Z"
   },
   {
    "duration": 12,
    "start_time": "2023-06-07T07:33:08.793Z"
   },
   {
    "duration": 25,
    "start_time": "2023-06-07T07:33:13.956Z"
   },
   {
    "duration": 27,
    "start_time": "2023-06-07T07:33:18.880Z"
   },
   {
    "duration": 104,
    "start_time": "2023-06-07T07:33:42.107Z"
   },
   {
    "duration": 18,
    "start_time": "2023-06-07T07:33:51.242Z"
   },
   {
    "duration": 18,
    "start_time": "2023-06-07T07:34:03.209Z"
   },
   {
    "duration": 11,
    "start_time": "2023-06-07T07:34:12.237Z"
   },
   {
    "duration": 80,
    "start_time": "2023-06-07T07:34:17.340Z"
   },
   {
    "duration": 27,
    "start_time": "2023-06-07T07:34:35.207Z"
   },
   {
    "duration": 12,
    "start_time": "2023-06-07T07:35:25.798Z"
   },
   {
    "duration": 28,
    "start_time": "2023-06-07T07:35:37.486Z"
   },
   {
    "duration": 353,
    "start_time": "2023-06-07T07:35:40.400Z"
   },
   {
    "duration": 6,
    "start_time": "2023-06-07T07:35:42.521Z"
   },
   {
    "duration": 117,
    "start_time": "2023-06-07T07:35:43.537Z"
   },
   {
    "duration": 51,
    "start_time": "2023-06-07T07:35:56.142Z"
   },
   {
    "duration": 9,
    "start_time": "2023-06-07T07:37:36.116Z"
   },
   {
    "duration": 14,
    "start_time": "2023-06-07T07:37:45.905Z"
   },
   {
    "duration": 9,
    "start_time": "2023-06-07T07:37:55.923Z"
   },
   {
    "duration": 33,
    "start_time": "2023-06-07T07:38:33.747Z"
   },
   {
    "duration": 65,
    "start_time": "2023-06-07T07:38:39.172Z"
   },
   {
    "duration": 25,
    "start_time": "2023-06-07T07:38:46.921Z"
   },
   {
    "duration": 20,
    "start_time": "2023-06-07T07:38:57.309Z"
   },
   {
    "duration": 19,
    "start_time": "2023-06-07T07:39:26.274Z"
   },
   {
    "duration": 28,
    "start_time": "2023-06-07T07:42:33.521Z"
   },
   {
    "duration": 40,
    "start_time": "2023-06-07T07:42:41.147Z"
   },
   {
    "duration": 24,
    "start_time": "2023-06-07T07:42:59.917Z"
   },
   {
    "duration": 46,
    "start_time": "2023-06-07T07:43:24.665Z"
   },
   {
    "duration": 2903,
    "start_time": "2023-06-07T07:43:27.854Z"
   },
   {
    "duration": 2173,
    "start_time": "2023-06-07T07:43:54.115Z"
   },
   {
    "duration": 2168,
    "start_time": "2023-06-07T07:45:41.760Z"
   },
   {
    "duration": 410,
    "start_time": "2023-06-07T07:45:43.931Z"
   },
   {
    "duration": 63,
    "start_time": "2023-06-07T07:45:44.344Z"
   },
   {
    "duration": 31,
    "start_time": "2023-06-07T07:45:44.413Z"
   },
   {
    "duration": 73,
    "start_time": "2023-06-07T07:45:44.446Z"
   },
   {
    "duration": 30,
    "start_time": "2023-06-07T07:45:44.522Z"
   },
   {
    "duration": 75,
    "start_time": "2023-06-07T07:45:44.554Z"
   },
   {
    "duration": 10,
    "start_time": "2023-06-07T07:45:44.633Z"
   },
   {
    "duration": 42,
    "start_time": "2023-06-07T07:45:44.645Z"
   },
   {
    "duration": 23,
    "start_time": "2023-06-07T07:45:44.691Z"
   },
   {
    "duration": 69688,
    "start_time": "2023-06-07T07:45:44.719Z"
   },
   {
    "duration": 73831,
    "start_time": "2023-06-07T07:46:54.410Z"
   },
   {
    "duration": 3389,
    "start_time": "2023-06-07T07:48:08.244Z"
   },
   {
    "duration": 38,
    "start_time": "2023-06-07T07:48:11.635Z"
   },
   {
    "duration": 20,
    "start_time": "2023-06-07T07:48:11.675Z"
   },
   {
    "duration": 18,
    "start_time": "2023-06-07T07:48:11.697Z"
   },
   {
    "duration": 17,
    "start_time": "2023-06-07T07:48:11.717Z"
   },
   {
    "duration": 21,
    "start_time": "2023-06-07T07:48:11.736Z"
   },
   {
    "duration": 48,
    "start_time": "2023-06-07T07:48:11.759Z"
   },
   {
    "duration": 19,
    "start_time": "2023-06-07T07:48:11.810Z"
   },
   {
    "duration": 3093,
    "start_time": "2023-06-07T07:48:11.830Z"
   },
   {
    "duration": 0,
    "start_time": "2023-06-07T07:48:14.925Z"
   },
   {
    "duration": 0,
    "start_time": "2023-06-07T07:48:14.926Z"
   },
   {
    "duration": 0,
    "start_time": "2023-06-07T07:48:14.927Z"
   },
   {
    "duration": 0,
    "start_time": "2023-06-07T07:48:14.928Z"
   },
   {
    "duration": 55,
    "start_time": "2023-06-07T07:48:27.165Z"
   },
   {
    "duration": 23,
    "start_time": "2023-06-07T07:48:37.222Z"
   },
   {
    "duration": 391,
    "start_time": "2023-06-07T07:48:40.810Z"
   },
   {
    "duration": 146,
    "start_time": "2023-06-07T07:48:43.329Z"
   },
   {
    "duration": 261,
    "start_time": "2023-06-07T07:48:43.987Z"
   },
   {
    "duration": 12,
    "start_time": "2023-06-07T07:51:46.290Z"
   },
   {
    "duration": 19,
    "start_time": "2023-06-07T07:51:59.204Z"
   },
   {
    "duration": 74,
    "start_time": "2023-06-07T07:55:10.269Z"
   },
   {
    "duration": 7,
    "start_time": "2023-06-07T08:03:39.529Z"
   },
   {
    "duration": 7,
    "start_time": "2023-06-07T08:06:46.175Z"
   },
   {
    "duration": 31,
    "start_time": "2023-06-07T08:07:01.778Z"
   },
   {
    "duration": 7,
    "start_time": "2023-06-07T08:07:12.427Z"
   },
   {
    "duration": 17,
    "start_time": "2023-06-07T08:22:34.320Z"
   },
   {
    "duration": 4,
    "start_time": "2023-06-07T08:23:12.647Z"
   },
   {
    "duration": 2707,
    "start_time": "2023-06-07T08:32:53.721Z"
   },
   {
    "duration": 384,
    "start_time": "2023-06-07T08:32:56.430Z"
   },
   {
    "duration": 26,
    "start_time": "2023-06-07T08:32:56.817Z"
   },
   {
    "duration": 36,
    "start_time": "2023-06-07T08:32:56.845Z"
   },
   {
    "duration": 42,
    "start_time": "2023-06-07T08:32:56.884Z"
   },
   {
    "duration": 51,
    "start_time": "2023-06-07T08:32:56.928Z"
   },
   {
    "duration": 43,
    "start_time": "2023-06-07T08:32:56.983Z"
   },
   {
    "duration": 9,
    "start_time": "2023-06-07T08:32:57.028Z"
   },
   {
    "duration": 33,
    "start_time": "2023-06-07T08:32:57.038Z"
   },
   {
    "duration": 27,
    "start_time": "2023-06-07T08:32:57.072Z"
   },
   {
    "duration": 63435,
    "start_time": "2023-06-07T08:32:57.105Z"
   },
   {
    "duration": 63747,
    "start_time": "2023-06-07T08:34:00.543Z"
   },
   {
    "duration": 20,
    "start_time": "2023-06-07T08:35:04.292Z"
   },
   {
    "duration": 9,
    "start_time": "2023-06-07T08:35:04.318Z"
   },
   {
    "duration": 66,
    "start_time": "2023-06-07T08:35:04.329Z"
   },
   {
    "duration": 23,
    "start_time": "2023-06-07T08:35:04.407Z"
   },
   {
    "duration": 15,
    "start_time": "2023-06-07T08:35:04.432Z"
   },
   {
    "duration": 24,
    "start_time": "2023-06-07T08:35:04.450Z"
   },
   {
    "duration": 14,
    "start_time": "2023-06-07T08:35:04.476Z"
   },
   {
    "duration": 37,
    "start_time": "2023-06-07T08:35:04.492Z"
   },
   {
    "duration": 14,
    "start_time": "2023-06-07T08:35:04.530Z"
   },
   {
    "duration": 361,
    "start_time": "2023-06-07T08:35:04.545Z"
   },
   {
    "duration": 112,
    "start_time": "2023-06-07T08:35:04.908Z"
   },
   {
    "duration": 237,
    "start_time": "2023-06-07T08:35:05.021Z"
   },
   {
    "duration": 30,
    "start_time": "2023-06-07T08:35:05.268Z"
   },
   {
    "duration": 1747,
    "start_time": "2023-06-07T08:35:05.300Z"
   },
   {
    "duration": 3,
    "start_time": "2023-06-07T08:35:43.011Z"
   },
   {
    "duration": 1694,
    "start_time": "2023-06-07T08:36:12.218Z"
   },
   {
    "duration": 16,
    "start_time": "2023-06-07T08:36:27.105Z"
   },
   {
    "duration": 15,
    "start_time": "2023-06-07T08:36:48.611Z"
   },
   {
    "duration": 10,
    "start_time": "2023-06-07T08:37:06.005Z"
   },
   {
    "duration": 18,
    "start_time": "2023-06-07T08:37:18.793Z"
   },
   {
    "duration": 9,
    "start_time": "2023-06-07T08:37:37.826Z"
   },
   {
    "duration": 6,
    "start_time": "2023-06-07T08:39:31.144Z"
   },
   {
    "duration": 17,
    "start_time": "2023-06-07T08:40:15.287Z"
   },
   {
    "duration": 0,
    "start_time": "2023-06-07T08:44:44.538Z"
   },
   {
    "duration": 0,
    "start_time": "2023-06-07T08:44:44.566Z"
   },
   {
    "duration": 0,
    "start_time": "2023-06-07T08:44:44.588Z"
   },
   {
    "duration": 0,
    "start_time": "2023-06-07T08:44:44.597Z"
   },
   {
    "duration": 0,
    "start_time": "2023-06-07T08:44:44.600Z"
   },
   {
    "duration": 0,
    "start_time": "2023-06-07T08:44:44.610Z"
   },
   {
    "duration": 0,
    "start_time": "2023-06-07T08:44:44.613Z"
   },
   {
    "duration": 0,
    "start_time": "2023-06-07T08:44:44.616Z"
   },
   {
    "duration": 0,
    "start_time": "2023-06-07T08:44:44.620Z"
   },
   {
    "duration": 0,
    "start_time": "2023-06-07T08:44:44.799Z"
   },
   {
    "duration": 42,
    "start_time": "2023-06-07T08:44:44.823Z"
   },
   {
    "duration": 0,
    "start_time": "2023-06-07T08:44:44.867Z"
   },
   {
    "duration": 0,
    "start_time": "2023-06-07T08:44:44.869Z"
   },
   {
    "duration": 0,
    "start_time": "2023-06-07T08:44:44.870Z"
   },
   {
    "duration": 0,
    "start_time": "2023-06-07T08:44:44.872Z"
   },
   {
    "duration": 0,
    "start_time": "2023-06-07T08:44:44.872Z"
   },
   {
    "duration": 0,
    "start_time": "2023-06-07T08:44:44.874Z"
   },
   {
    "duration": 0,
    "start_time": "2023-06-07T08:44:44.875Z"
   },
   {
    "duration": 0,
    "start_time": "2023-06-07T08:44:44.876Z"
   },
   {
    "duration": 0,
    "start_time": "2023-06-07T08:44:44.877Z"
   },
   {
    "duration": 0,
    "start_time": "2023-06-07T08:44:44.879Z"
   },
   {
    "duration": 0,
    "start_time": "2023-06-07T08:44:44.881Z"
   },
   {
    "duration": 0,
    "start_time": "2023-06-07T08:44:44.882Z"
   },
   {
    "duration": 0,
    "start_time": "2023-06-07T08:44:44.883Z"
   },
   {
    "duration": 2480,
    "start_time": "2023-06-07T08:45:42.946Z"
   },
   {
    "duration": 3,
    "start_time": "2023-06-07T08:45:51.143Z"
   },
   {
    "duration": 283,
    "start_time": "2023-06-07T08:45:56.041Z"
   },
   {
    "duration": 32,
    "start_time": "2023-06-07T08:45:59.013Z"
   },
   {
    "duration": 27,
    "start_time": "2023-06-07T08:45:59.796Z"
   },
   {
    "duration": 57,
    "start_time": "2023-06-07T08:46:00.447Z"
   },
   {
    "duration": 37,
    "start_time": "2023-06-07T08:46:01.438Z"
   },
   {
    "duration": 29,
    "start_time": "2023-06-07T08:46:02.996Z"
   },
   {
    "duration": 12,
    "start_time": "2023-06-07T08:46:04.178Z"
   },
   {
    "duration": 23,
    "start_time": "2023-06-07T08:46:05.406Z"
   },
   {
    "duration": 20,
    "start_time": "2023-06-07T08:46:07.084Z"
   },
   {
    "duration": 57333,
    "start_time": "2023-06-07T08:46:07.891Z"
   },
   {
    "duration": 58727,
    "start_time": "2023-06-07T08:47:20.552Z"
   },
   {
    "duration": 24,
    "start_time": "2023-06-07T08:48:27.487Z"
   },
   {
    "duration": 19,
    "start_time": "2023-06-07T08:48:31.145Z"
   },
   {
    "duration": 23,
    "start_time": "2023-06-07T08:48:31.354Z"
   },
   {
    "duration": 14,
    "start_time": "2023-06-07T08:48:31.830Z"
   },
   {
    "duration": 9,
    "start_time": "2023-06-07T08:48:32.382Z"
   },
   {
    "duration": 27,
    "start_time": "2023-06-07T08:48:39.992Z"
   },
   {
    "duration": 14,
    "start_time": "2023-06-07T08:48:40.600Z"
   },
   {
    "duration": 308,
    "start_time": "2023-06-07T08:48:41.122Z"
   },
   {
    "duration": 101,
    "start_time": "2023-06-07T08:48:41.580Z"
   },
   {
    "duration": 197,
    "start_time": "2023-06-07T08:48:42.410Z"
   },
   {
    "duration": 17,
    "start_time": "2023-06-07T08:48:44.925Z"
   },
   {
    "duration": 41,
    "start_time": "2023-06-07T08:48:45.738Z"
   },
   {
    "duration": 562,
    "start_time": "2023-06-07T08:50:17.703Z"
   },
   {
    "duration": 37,
    "start_time": "2023-06-07T08:50:23.690Z"
   },
   {
    "duration": 9,
    "start_time": "2023-06-07T08:50:59.376Z"
   },
   {
    "duration": 11,
    "start_time": "2023-06-07T08:52:36.362Z"
   },
   {
    "duration": 703,
    "start_time": "2023-06-07T08:54:31.124Z"
   },
   {
    "duration": 6,
    "start_time": "2023-06-07T08:55:04.795Z"
   },
   {
    "duration": 141,
    "start_time": "2023-06-07T08:55:23.802Z"
   },
   {
    "duration": 34,
    "start_time": "2023-06-07T08:55:30.774Z"
   },
   {
    "duration": 10,
    "start_time": "2023-06-07T08:58:09.777Z"
   },
   {
    "duration": 1000,
    "start_time": "2023-06-07T09:01:04.635Z"
   },
   {
    "duration": 12,
    "start_time": "2023-06-07T09:01:21.751Z"
   },
   {
    "duration": 10,
    "start_time": "2023-06-07T09:03:47.803Z"
   },
   {
    "duration": 28,
    "start_time": "2023-06-07T09:06:21.040Z"
   },
   {
    "duration": 27,
    "start_time": "2023-06-07T09:06:32.610Z"
   },
   {
    "duration": 8,
    "start_time": "2023-06-07T09:06:40.612Z"
   },
   {
    "duration": 37,
    "start_time": "2023-06-07T09:06:42.158Z"
   },
   {
    "duration": 4,
    "start_time": "2023-06-07T09:08:53.622Z"
   },
   {
    "duration": 28,
    "start_time": "2023-06-07T09:08:54.133Z"
   },
   {
    "duration": 5,
    "start_time": "2023-06-07T09:09:33.236Z"
   },
   {
    "duration": 39,
    "start_time": "2023-06-07T09:09:34.418Z"
   },
   {
    "duration": 4,
    "start_time": "2023-06-07T09:09:58.282Z"
   },
   {
    "duration": 28,
    "start_time": "2023-06-07T09:09:58.759Z"
   },
   {
    "duration": 56,
    "start_time": "2023-06-07T09:19:56.830Z"
   },
   {
    "duration": 12,
    "start_time": "2023-06-07T09:21:16.527Z"
   },
   {
    "duration": 20,
    "start_time": "2023-06-07T09:21:30.979Z"
   },
   {
    "duration": 76,
    "start_time": "2023-06-07T09:21:35.870Z"
   },
   {
    "duration": 34,
    "start_time": "2023-06-07T09:23:56.274Z"
   },
   {
    "duration": 130,
    "start_time": "2023-06-07T09:27:52.594Z"
   },
   {
    "duration": 187,
    "start_time": "2023-06-07T09:27:54.950Z"
   },
   {
    "duration": 306,
    "start_time": "2023-06-07T09:44:38.975Z"
   },
   {
    "duration": 84,
    "start_time": "2023-06-07T09:47:18.714Z"
   },
   {
    "duration": 427,
    "start_time": "2023-06-07T09:47:20.588Z"
   },
   {
    "duration": 15,
    "start_time": "2023-06-07T09:47:40.010Z"
   },
   {
    "duration": 23,
    "start_time": "2023-06-07T09:47:49.455Z"
   },
   {
    "duration": 68,
    "start_time": "2023-06-07T09:48:19.561Z"
   },
   {
    "duration": 17,
    "start_time": "2023-06-07T09:48:24.001Z"
   },
   {
    "duration": 28,
    "start_time": "2023-06-07T09:48:32.514Z"
   },
   {
    "duration": 24,
    "start_time": "2023-06-07T09:49:07.339Z"
   },
   {
    "duration": 24,
    "start_time": "2023-06-07T09:49:23.106Z"
   },
   {
    "duration": 23,
    "start_time": "2023-06-07T09:49:27.839Z"
   },
   {
    "duration": 11,
    "start_time": "2023-06-07T09:50:18.139Z"
   },
   {
    "duration": 26,
    "start_time": "2023-06-07T09:50:24.961Z"
   },
   {
    "duration": 26,
    "start_time": "2023-06-07T09:50:38.985Z"
   },
   {
    "duration": 34,
    "start_time": "2023-06-07T09:50:51.889Z"
   },
   {
    "duration": 59797,
    "start_time": "2023-06-07T09:51:18.548Z"
   },
   {
    "duration": 23,
    "start_time": "2023-06-07T09:52:34.650Z"
   },
   {
    "duration": 40,
    "start_time": "2023-06-07T09:52:50.691Z"
   },
   {
    "duration": 166,
    "start_time": "2023-06-07T09:52:51.889Z"
   },
   {
    "duration": 17,
    "start_time": "2023-06-07T09:52:56.228Z"
   },
   {
    "duration": 43,
    "start_time": "2023-06-07T09:53:09.331Z"
   },
   {
    "duration": 17,
    "start_time": "2023-06-07T09:53:14.913Z"
   },
   {
    "duration": 72,
    "start_time": "2023-06-07T09:53:20.839Z"
   },
   {
    "duration": 15,
    "start_time": "2023-06-07T09:53:30.715Z"
   },
   {
    "duration": 17,
    "start_time": "2023-06-07T09:53:45.746Z"
   },
   {
    "duration": 16,
    "start_time": "2023-06-07T09:54:36.924Z"
   },
   {
    "duration": 12,
    "start_time": "2023-06-07T09:54:51.669Z"
   },
   {
    "duration": 17,
    "start_time": "2023-06-07T09:55:26.769Z"
   },
   {
    "duration": 15,
    "start_time": "2023-06-07T09:57:08.524Z"
   },
   {
    "duration": 54,
    "start_time": "2023-06-07T09:58:43.962Z"
   },
   {
    "duration": 57,
    "start_time": "2023-06-07T09:59:20.477Z"
   },
   {
    "duration": 41,
    "start_time": "2023-06-07T09:59:28.503Z"
   },
   {
    "duration": 46,
    "start_time": "2023-06-07T10:00:09.841Z"
   },
   {
    "duration": 14,
    "start_time": "2023-06-07T10:00:43.040Z"
   },
   {
    "duration": 17,
    "start_time": "2023-06-07T10:00:53.133Z"
   },
   {
    "duration": 9,
    "start_time": "2023-06-07T10:01:10.180Z"
   },
   {
    "duration": 10,
    "start_time": "2023-06-07T10:01:17.600Z"
   },
   {
    "duration": 15,
    "start_time": "2023-06-07T10:01:51.084Z"
   },
   {
    "duration": 13,
    "start_time": "2023-06-07T10:02:13.345Z"
   },
   {
    "duration": 19,
    "start_time": "2023-06-07T10:02:19.542Z"
   },
   {
    "duration": 16,
    "start_time": "2023-06-07T10:02:42.619Z"
   },
   {
    "duration": 252,
    "start_time": "2023-06-07T10:03:11.720Z"
   },
   {
    "duration": 18,
    "start_time": "2023-06-07T10:03:31.217Z"
   },
   {
    "duration": 20,
    "start_time": "2023-06-07T10:03:35.443Z"
   },
   {
    "duration": 24,
    "start_time": "2023-06-07T10:03:44.609Z"
   },
   {
    "duration": 16,
    "start_time": "2023-06-07T10:03:52.380Z"
   },
   {
    "duration": 12,
    "start_time": "2023-06-07T10:03:57.173Z"
   },
   {
    "duration": 951,
    "start_time": "2023-06-07T10:04:20.083Z"
   },
   {
    "duration": 18,
    "start_time": "2023-06-07T10:04:26.060Z"
   },
   {
    "duration": 12,
    "start_time": "2023-06-07T10:04:58.425Z"
   },
   {
    "duration": 16,
    "start_time": "2023-06-07T10:05:02.286Z"
   },
   {
    "duration": 16,
    "start_time": "2023-06-07T10:05:26.799Z"
   },
   {
    "duration": 13,
    "start_time": "2023-06-07T10:05:31.541Z"
   },
   {
    "duration": 17,
    "start_time": "2023-06-07T10:05:55.769Z"
   },
   {
    "duration": 17,
    "start_time": "2023-06-07T10:05:59.874Z"
   },
   {
    "duration": 24,
    "start_time": "2023-06-07T10:06:47.527Z"
   },
   {
    "duration": 20,
    "start_time": "2023-06-07T10:07:13.205Z"
   },
   {
    "duration": 9,
    "start_time": "2023-06-07T10:12:15.032Z"
   },
   {
    "duration": 6450,
    "start_time": "2023-06-07T10:12:19.179Z"
   },
   {
    "duration": 18,
    "start_time": "2023-06-07T10:12:36.672Z"
   },
   {
    "duration": 808,
    "start_time": "2023-06-07T10:12:48.319Z"
   },
   {
    "duration": 5,
    "start_time": "2023-06-07T10:13:37.112Z"
   },
   {
    "duration": 6705,
    "start_time": "2023-06-07T10:13:37.783Z"
   },
   {
    "duration": 7,
    "start_time": "2023-06-07T10:13:51.774Z"
   },
   {
    "duration": 8,
    "start_time": "2023-06-07T10:14:45.418Z"
   },
   {
    "duration": 5,
    "start_time": "2023-06-07T10:14:46.049Z"
   },
   {
    "duration": 6759,
    "start_time": "2023-06-07T10:14:46.678Z"
   },
   {
    "duration": 6,
    "start_time": "2023-06-07T10:15:00.580Z"
   },
   {
    "duration": 2193,
    "start_time": "2023-06-07T10:15:43.652Z"
   },
   {
    "duration": 6,
    "start_time": "2023-06-07T10:15:51.724Z"
   },
   {
    "duration": 7,
    "start_time": "2023-06-07T10:16:19.994Z"
   },
   {
    "duration": 10,
    "start_time": "2023-06-07T10:16:56.107Z"
   },
   {
    "duration": 2255,
    "start_time": "2023-06-07T10:16:58.745Z"
   },
   {
    "duration": 7,
    "start_time": "2023-06-07T10:17:01.003Z"
   },
   {
    "duration": 6,
    "start_time": "2023-06-07T10:17:07.739Z"
   },
   {
    "duration": 8,
    "start_time": "2023-06-07T10:17:30.708Z"
   },
   {
    "duration": 4,
    "start_time": "2023-06-07T10:17:31.542Z"
   },
   {
    "duration": 2164,
    "start_time": "2023-06-07T10:17:36.034Z"
   },
   {
    "duration": 7,
    "start_time": "2023-06-07T10:17:39.469Z"
   },
   {
    "duration": 8,
    "start_time": "2023-06-07T10:17:43.279Z"
   },
   {
    "duration": 1539,
    "start_time": "2023-06-07T10:18:43.057Z"
   },
   {
    "duration": 267,
    "start_time": "2023-06-07T10:18:44.598Z"
   },
   {
    "duration": 27,
    "start_time": "2023-06-07T10:18:44.867Z"
   },
   {
    "duration": 18,
    "start_time": "2023-06-07T10:18:44.897Z"
   },
   {
    "duration": 55,
    "start_time": "2023-06-07T10:18:44.916Z"
   },
   {
    "duration": 24,
    "start_time": "2023-06-07T10:18:44.972Z"
   },
   {
    "duration": 31,
    "start_time": "2023-06-07T10:18:44.998Z"
   },
   {
    "duration": 49,
    "start_time": "2023-06-07T10:18:45.031Z"
   },
   {
    "duration": 51,
    "start_time": "2023-06-07T10:18:45.081Z"
   },
   {
    "duration": 46,
    "start_time": "2023-06-07T10:18:45.135Z"
   },
   {
    "duration": 38,
    "start_time": "2023-06-07T10:18:45.182Z"
   },
   {
    "duration": 21,
    "start_time": "2023-06-07T10:18:45.221Z"
   },
   {
    "duration": 81424,
    "start_time": "2023-06-07T10:18:45.244Z"
   },
   {
    "duration": 32917,
    "start_time": "2023-06-07T10:20:06.670Z"
   },
   {
    "duration": 8,
    "start_time": "2023-06-07T10:20:39.589Z"
   },
   {
    "duration": 61377,
    "start_time": "2023-06-07T10:20:39.600Z"
   },
   {
    "duration": 24,
    "start_time": "2023-06-07T10:21:40.980Z"
   },
   {
    "duration": 20,
    "start_time": "2023-06-07T10:21:41.005Z"
   },
   {
    "duration": 36,
    "start_time": "2023-06-07T10:21:41.027Z"
   },
   {
    "duration": 26,
    "start_time": "2023-06-07T10:21:41.065Z"
   },
   {
    "duration": 26,
    "start_time": "2023-06-07T10:21:41.093Z"
   },
   {
    "duration": 15,
    "start_time": "2023-06-07T10:21:41.121Z"
   },
   {
    "duration": 296,
    "start_time": "2023-06-07T10:21:41.138Z"
   },
   {
    "duration": 101,
    "start_time": "2023-06-07T10:21:41.436Z"
   },
   {
    "duration": 188,
    "start_time": "2023-06-07T10:21:41.539Z"
   },
   {
    "duration": 6,
    "start_time": "2023-06-07T10:21:41.729Z"
   },
   {
    "duration": 43,
    "start_time": "2023-06-07T10:21:41.736Z"
   },
   {
    "duration": 112,
    "start_time": "2023-06-07T10:22:38.192Z"
   },
   {
    "duration": 10,
    "start_time": "2023-06-07T10:22:57.171Z"
   },
   {
    "duration": 16,
    "start_time": "2023-06-07T10:23:37.991Z"
   },
   {
    "duration": 27,
    "start_time": "2023-06-07T10:24:43.255Z"
   },
   {
    "duration": 45,
    "start_time": "2023-06-07T10:27:38.687Z"
   },
   {
    "duration": 45,
    "start_time": "2023-06-07T10:30:23.670Z"
   },
   {
    "duration": 56,
    "start_time": "2023-06-07T10:30:30.081Z"
   },
   {
    "duration": 43,
    "start_time": "2023-06-07T10:30:34.041Z"
   },
   {
    "duration": 42,
    "start_time": "2023-06-07T10:30:55.588Z"
   },
   {
    "duration": 60,
    "start_time": "2023-06-07T10:31:13.060Z"
   },
   {
    "duration": 40,
    "start_time": "2023-06-07T10:31:28.220Z"
   },
   {
    "duration": 40,
    "start_time": "2023-06-07T10:31:32.089Z"
   },
   {
    "duration": 38,
    "start_time": "2023-06-07T10:31:50.901Z"
   },
   {
    "duration": 68,
    "start_time": "2023-06-07T10:35:39.940Z"
   },
   {
    "duration": 47,
    "start_time": "2023-06-07T10:38:47.859Z"
   },
   {
    "duration": 43,
    "start_time": "2023-06-07T10:38:55.699Z"
   },
   {
    "duration": 64,
    "start_time": "2023-06-07T10:39:16.319Z"
   },
   {
    "duration": 59,
    "start_time": "2023-06-07T10:41:40.638Z"
   },
   {
    "duration": 76,
    "start_time": "2023-06-07T10:42:20.352Z"
   },
   {
    "duration": 60,
    "start_time": "2023-06-07T10:42:44.874Z"
   },
   {
    "duration": 69,
    "start_time": "2023-06-07T10:42:56.643Z"
   },
   {
    "duration": 51,
    "start_time": "2023-06-07T10:43:01.142Z"
   },
   {
    "duration": 62,
    "start_time": "2023-06-07T10:43:09.939Z"
   },
   {
    "duration": 47,
    "start_time": "2023-06-07T10:43:16.346Z"
   },
   {
    "duration": 48,
    "start_time": "2023-06-07T10:43:26.020Z"
   },
   {
    "duration": 45,
    "start_time": "2023-06-07T10:44:13.869Z"
   },
   {
    "duration": 208,
    "start_time": "2023-06-07T12:00:26.389Z"
   },
   {
    "duration": 4,
    "start_time": "2023-06-07T12:15:12.928Z"
   },
   {
    "duration": 5,
    "start_time": "2023-06-07T12:15:36.173Z"
   },
   {
    "duration": 5,
    "start_time": "2023-06-07T12:15:45.211Z"
   },
   {
    "duration": 12,
    "start_time": "2023-06-07T12:16:22.245Z"
   },
   {
    "duration": 48,
    "start_time": "2023-06-07T12:16:29.845Z"
   },
   {
    "duration": 30,
    "start_time": "2023-06-07T12:16:35.382Z"
   },
   {
    "duration": 4,
    "start_time": "2023-06-07T12:17:02.638Z"
   },
   {
    "duration": 4,
    "start_time": "2023-06-07T12:17:15.628Z"
   },
   {
    "duration": 8,
    "start_time": "2023-06-07T12:17:41.546Z"
   },
   {
    "duration": 5,
    "start_time": "2023-06-07T12:17:45.706Z"
   },
   {
    "duration": 743,
    "start_time": "2023-06-07T12:17:48.915Z"
   },
   {
    "duration": 1365,
    "start_time": "2023-06-07T12:18:10.247Z"
   },
   {
    "duration": 3,
    "start_time": "2023-06-07T12:19:41.854Z"
   },
   {
    "duration": 1768,
    "start_time": "2023-06-07T12:20:09.815Z"
   },
   {
    "duration": 13,
    "start_time": "2023-06-07T12:21:29.786Z"
   },
   {
    "duration": 5,
    "start_time": "2023-06-07T12:21:41.999Z"
   },
   {
    "duration": 40,
    "start_time": "2023-06-07T12:21:58.426Z"
   },
   {
    "duration": 116,
    "start_time": "2023-06-07T12:22:26.780Z"
   },
   {
    "duration": 110,
    "start_time": "2023-06-07T12:22:41.881Z"
   },
   {
    "duration": 10495,
    "start_time": "2023-06-07T12:26:11.163Z"
   },
   {
    "duration": 270,
    "start_time": "2023-06-07T12:29:45.903Z"
   },
   {
    "duration": 271,
    "start_time": "2023-06-07T12:29:54.662Z"
   },
   {
    "duration": 36505,
    "start_time": "2023-06-07T12:30:11.150Z"
   },
   {
    "duration": 33541,
    "start_time": "2023-06-07T12:31:02.815Z"
   },
   {
    "duration": 69,
    "start_time": "2023-06-07T12:34:46.356Z"
   },
   {
    "duration": 1652,
    "start_time": "2023-06-07T12:42:25.273Z"
   },
   {
    "duration": 356,
    "start_time": "2023-06-07T12:42:26.927Z"
   },
   {
    "duration": 44,
    "start_time": "2023-06-07T12:42:27.285Z"
   },
   {
    "duration": 54,
    "start_time": "2023-06-07T12:42:27.332Z"
   },
   {
    "duration": 54,
    "start_time": "2023-06-07T12:42:27.391Z"
   },
   {
    "duration": 54,
    "start_time": "2023-06-07T12:42:27.447Z"
   },
   {
    "duration": 32,
    "start_time": "2023-06-07T12:42:27.504Z"
   },
   {
    "duration": 33,
    "start_time": "2023-06-07T12:42:27.538Z"
   },
   {
    "duration": 23,
    "start_time": "2023-06-07T12:42:27.574Z"
   },
   {
    "duration": 41,
    "start_time": "2023-06-07T12:42:27.599Z"
   },
   {
    "duration": 24,
    "start_time": "2023-06-07T12:42:27.643Z"
   },
   {
    "duration": 27,
    "start_time": "2023-06-07T12:42:27.669Z"
   },
   {
    "duration": 82899,
    "start_time": "2023-06-07T12:42:27.698Z"
   },
   {
    "duration": 33668,
    "start_time": "2023-06-07T12:43:50.601Z"
   },
   {
    "duration": 8,
    "start_time": "2023-06-07T12:44:24.271Z"
   },
   {
    "duration": 62314,
    "start_time": "2023-06-07T12:44:24.281Z"
   },
   {
    "duration": 33,
    "start_time": "2023-06-07T12:45:26.597Z"
   },
   {
    "duration": 40,
    "start_time": "2023-06-07T12:45:26.635Z"
   },
   {
    "duration": 20,
    "start_time": "2023-06-07T12:45:26.677Z"
   },
   {
    "duration": 141,
    "start_time": "2023-06-07T12:45:26.700Z"
   },
   {
    "duration": 0,
    "start_time": "2023-06-07T12:45:26.843Z"
   },
   {
    "duration": 0,
    "start_time": "2023-06-07T12:45:26.844Z"
   },
   {
    "duration": 0,
    "start_time": "2023-06-07T12:45:26.846Z"
   },
   {
    "duration": 0,
    "start_time": "2023-06-07T12:45:26.848Z"
   },
   {
    "duration": 0,
    "start_time": "2023-06-07T12:45:26.848Z"
   },
   {
    "duration": 0,
    "start_time": "2023-06-07T12:45:26.849Z"
   },
   {
    "duration": 21,
    "start_time": "2023-06-07T12:50:27.021Z"
   },
   {
    "duration": 18,
    "start_time": "2023-06-07T12:50:31.708Z"
   },
   {
    "duration": 466,
    "start_time": "2023-06-07T12:50:33.241Z"
   },
   {
    "duration": 238,
    "start_time": "2023-06-07T12:50:35.540Z"
   },
   {
    "duration": 60,
    "start_time": "2023-06-07T12:50:41.428Z"
   },
   {
    "duration": 209,
    "start_time": "2023-06-07T12:50:46.820Z"
   },
   {
    "duration": 85986,
    "start_time": "2023-06-07T12:50:49.985Z"
   },
   {
    "duration": 77,
    "start_time": "2023-06-07T12:53:18.880Z"
   },
   {
    "duration": 94,
    "start_time": "2023-06-07T12:53:25.947Z"
   },
   {
    "duration": 16916,
    "start_time": "2023-06-07T12:54:15.978Z"
   },
   {
    "duration": 16573,
    "start_time": "2023-06-07T12:55:18.941Z"
   },
   {
    "duration": 16430,
    "start_time": "2023-06-07T12:55:46.376Z"
   },
   {
    "duration": 16631,
    "start_time": "2023-06-07T12:56:25.190Z"
   },
   {
    "duration": 1046,
    "start_time": "2023-06-07T12:57:33.599Z"
   },
   {
    "duration": 82978,
    "start_time": "2023-06-07T12:58:33.281Z"
   },
   {
    "duration": 1045,
    "start_time": "2023-06-07T13:00:02.480Z"
   },
   {
    "duration": 1093,
    "start_time": "2023-06-07T13:00:14.845Z"
   },
   {
    "duration": 999,
    "start_time": "2023-06-07T13:00:44.940Z"
   },
   {
    "duration": 1016,
    "start_time": "2023-06-07T13:00:59.160Z"
   },
   {
    "duration": 16051,
    "start_time": "2023-06-07T13:01:08.316Z"
   },
   {
    "duration": 24298,
    "start_time": "2023-06-07T13:02:34.540Z"
   },
   {
    "duration": 24302,
    "start_time": "2023-06-07T13:04:49.478Z"
   },
   {
    "duration": 5,
    "start_time": "2023-06-07T13:05:55.621Z"
   },
   {
    "duration": 13,
    "start_time": "2023-06-07T13:06:02.619Z"
   },
   {
    "duration": 16,
    "start_time": "2023-06-07T13:06:41.019Z"
   },
   {
    "duration": 1671,
    "start_time": "2023-06-07T13:18:02.115Z"
   },
   {
    "duration": 379,
    "start_time": "2023-06-07T13:18:03.794Z"
   },
   {
    "duration": 44,
    "start_time": "2023-06-07T13:18:04.175Z"
   },
   {
    "duration": 22,
    "start_time": "2023-06-07T13:18:04.221Z"
   },
   {
    "duration": 72,
    "start_time": "2023-06-07T13:18:04.246Z"
   },
   {
    "duration": 50,
    "start_time": "2023-06-07T13:18:04.320Z"
   },
   {
    "duration": 52,
    "start_time": "2023-06-07T13:18:04.377Z"
   },
   {
    "duration": 13,
    "start_time": "2023-06-07T13:18:04.432Z"
   },
   {
    "duration": 43,
    "start_time": "2023-06-07T13:18:04.447Z"
   },
   {
    "duration": 19,
    "start_time": "2023-06-07T13:18:04.492Z"
   },
   {
    "duration": 10,
    "start_time": "2023-06-07T13:18:04.513Z"
   },
   {
    "duration": 17,
    "start_time": "2023-06-07T13:18:04.525Z"
   },
   {
    "duration": 83463,
    "start_time": "2023-06-07T13:18:04.544Z"
   },
   {
    "duration": 32141,
    "start_time": "2023-06-07T13:19:28.010Z"
   },
   {
    "duration": 9,
    "start_time": "2023-06-07T13:20:00.156Z"
   },
   {
    "duration": 58909,
    "start_time": "2023-06-07T13:20:00.167Z"
   },
   {
    "duration": 37,
    "start_time": "2023-06-07T13:20:59.080Z"
   },
   {
    "duration": 24,
    "start_time": "2023-06-07T13:20:59.120Z"
   },
   {
    "duration": 33,
    "start_time": "2023-06-07T13:20:59.146Z"
   },
   {
    "duration": 21,
    "start_time": "2023-06-07T13:20:59.184Z"
   },
   {
    "duration": 472,
    "start_time": "2023-06-07T13:20:59.207Z"
   },
   {
    "duration": 252,
    "start_time": "2023-06-07T13:20:59.682Z"
   },
   {
    "duration": 63,
    "start_time": "2023-06-07T13:20:59.936Z"
   },
   {
    "duration": 220,
    "start_time": "2023-06-07T13:21:00.002Z"
   },
   {
    "duration": 78646,
    "start_time": "2023-06-07T13:21:00.224Z"
   },
   {
    "duration": 22978,
    "start_time": "2023-06-07T13:22:18.872Z"
   },
   {
    "duration": 46353,
    "start_time": "2023-06-07T13:22:41.856Z"
   },
   {
    "duration": 152986,
    "start_time": "2023-06-07T13:26:59.672Z"
   },
   {
    "duration": 3,
    "start_time": "2023-06-07T13:37:11.481Z"
   },
   {
    "duration": 5594,
    "start_time": "2023-06-07T13:38:53.985Z"
   },
   {
    "duration": 5350,
    "start_time": "2023-06-07T13:39:38.820Z"
   },
   {
    "duration": 5776,
    "start_time": "2023-06-07T13:39:56.579Z"
   },
   {
    "duration": 5650,
    "start_time": "2023-06-07T13:40:55.212Z"
   },
   {
    "duration": 4,
    "start_time": "2023-06-07T13:41:44.680Z"
   },
   {
    "duration": 7,
    "start_time": "2023-06-07T13:41:58.760Z"
   },
   {
    "duration": 3,
    "start_time": "2023-06-07T13:42:08.229Z"
   },
   {
    "duration": 4,
    "start_time": "2023-06-07T13:42:10.875Z"
   },
   {
    "duration": 3,
    "start_time": "2023-06-07T13:42:35.732Z"
   },
   {
    "duration": 17,
    "start_time": "2023-06-07T13:42:42.853Z"
   },
   {
    "duration": 9,
    "start_time": "2023-06-07T13:42:52.463Z"
   },
   {
    "duration": 5,
    "start_time": "2023-06-07T13:43:15.579Z"
   },
   {
    "duration": 4,
    "start_time": "2023-06-07T13:49:06.651Z"
   },
   {
    "duration": 38,
    "start_time": "2023-06-07T13:50:20.400Z"
   },
   {
    "duration": 55,
    "start_time": "2023-06-07T13:51:33.128Z"
   },
   {
    "duration": 44,
    "start_time": "2023-06-07T13:51:39.699Z"
   },
   {
    "duration": 36,
    "start_time": "2023-06-07T13:52:07.751Z"
   },
   {
    "duration": 52,
    "start_time": "2023-06-07T13:52:57.293Z"
   },
   {
    "duration": 37,
    "start_time": "2023-06-07T13:53:07.725Z"
   },
   {
    "duration": 3,
    "start_time": "2023-06-07T14:12:03.239Z"
   },
   {
    "duration": 65,
    "start_time": "2023-06-07T14:12:47.772Z"
   },
   {
    "duration": 810,
    "start_time": "2023-06-07T14:13:04.153Z"
   },
   {
    "duration": 5,
    "start_time": "2023-06-07T14:13:25.499Z"
   },
   {
    "duration": 5,
    "start_time": "2023-06-07T14:13:32.529Z"
   },
   {
    "duration": 841,
    "start_time": "2023-06-07T14:13:50.794Z"
   },
   {
    "duration": 803,
    "start_time": "2023-06-07T14:13:56.490Z"
   },
   {
    "duration": 6,
    "start_time": "2023-06-07T14:14:02.964Z"
   },
   {
    "duration": 19,
    "start_time": "2023-06-07T14:14:17.703Z"
   },
   {
    "duration": 17,
    "start_time": "2023-06-07T14:20:08.218Z"
   },
   {
    "duration": 7,
    "start_time": "2023-06-07T14:23:23.542Z"
   },
   {
    "duration": 6,
    "start_time": "2023-06-07T14:23:32.884Z"
   },
   {
    "duration": 43376,
    "start_time": "2023-06-07T14:23:46.689Z"
   },
   {
    "duration": 35,
    "start_time": "2023-06-07T14:24:46.100Z"
   },
   {
    "duration": 10,
    "start_time": "2023-06-07T14:25:07.697Z"
   },
   {
    "duration": 13,
    "start_time": "2023-06-07T14:25:30.387Z"
   },
   {
    "duration": 14,
    "start_time": "2023-06-07T14:25:51.352Z"
   },
   {
    "duration": 9,
    "start_time": "2023-06-07T14:26:51.812Z"
   },
   {
    "duration": 45,
    "start_time": "2023-06-07T14:27:00.833Z"
   },
   {
    "duration": 13,
    "start_time": "2023-06-07T14:27:16.547Z"
   },
   {
    "duration": 43,
    "start_time": "2023-06-07T14:27:32.649Z"
   },
   {
    "duration": 18,
    "start_time": "2023-06-07T14:27:48.753Z"
   },
   {
    "duration": 5,
    "start_time": "2023-06-07T14:28:07.882Z"
   },
   {
    "duration": 10,
    "start_time": "2023-06-07T14:28:10.538Z"
   },
   {
    "duration": 10,
    "start_time": "2023-06-07T14:28:28.771Z"
   },
   {
    "duration": 9,
    "start_time": "2023-06-07T14:28:41.270Z"
   },
   {
    "duration": 13,
    "start_time": "2023-06-07T14:28:47.577Z"
   },
   {
    "duration": 10,
    "start_time": "2023-06-07T14:29:03.982Z"
   },
   {
    "duration": 37,
    "start_time": "2023-06-07T14:29:55.192Z"
   },
   {
    "duration": 10,
    "start_time": "2023-06-07T14:30:10.643Z"
   },
   {
    "duration": 47,
    "start_time": "2023-06-07T14:30:26.430Z"
   },
   {
    "duration": 51,
    "start_time": "2023-06-07T14:30:48.740Z"
   },
   {
    "duration": 40,
    "start_time": "2023-06-07T14:30:56.774Z"
   },
   {
    "duration": 2386,
    "start_time": "2023-06-07T14:31:04.102Z"
   },
   {
    "duration": 265,
    "start_time": "2023-06-07T14:31:06.490Z"
   },
   {
    "duration": 44,
    "start_time": "2023-06-07T14:31:06.765Z"
   },
   {
    "duration": 20,
    "start_time": "2023-06-07T14:31:06.811Z"
   },
   {
    "duration": 59,
    "start_time": "2023-06-07T14:31:06.833Z"
   },
   {
    "duration": 27,
    "start_time": "2023-06-07T14:31:06.896Z"
   },
   {
    "duration": 42,
    "start_time": "2023-06-07T14:31:06.925Z"
   },
   {
    "duration": 10,
    "start_time": "2023-06-07T14:31:06.969Z"
   },
   {
    "duration": 16,
    "start_time": "2023-06-07T14:31:06.981Z"
   },
   {
    "duration": 21,
    "start_time": "2023-06-07T14:31:06.999Z"
   },
   {
    "duration": 45,
    "start_time": "2023-06-07T14:31:07.022Z"
   },
   {
    "duration": 12,
    "start_time": "2023-06-07T14:31:07.069Z"
   },
   {
    "duration": 81100,
    "start_time": "2023-06-07T14:31:07.083Z"
   },
   {
    "duration": 31935,
    "start_time": "2023-06-07T14:32:28.186Z"
   },
   {
    "duration": 6,
    "start_time": "2023-06-07T14:33:00.123Z"
   },
   {
    "duration": 57917,
    "start_time": "2023-06-07T14:33:00.131Z"
   },
   {
    "duration": 29,
    "start_time": "2023-06-07T14:33:58.065Z"
   },
   {
    "duration": 21,
    "start_time": "2023-06-07T14:33:58.096Z"
   },
   {
    "duration": 11,
    "start_time": "2023-06-07T14:33:58.119Z"
   },
   {
    "duration": 35,
    "start_time": "2023-06-07T14:33:58.132Z"
   },
   {
    "duration": 350,
    "start_time": "2023-06-07T14:33:58.169Z"
   },
   {
    "duration": 183,
    "start_time": "2023-06-07T14:33:58.521Z"
   },
   {
    "duration": 40,
    "start_time": "2023-06-07T14:33:58.706Z"
   },
   {
    "duration": 329,
    "start_time": "2023-06-07T14:33:58.756Z"
   },
   {
    "duration": 75986,
    "start_time": "2023-06-07T14:33:59.087Z"
   },
   {
    "duration": 22273,
    "start_time": "2023-06-07T14:35:15.078Z"
   },
   {
    "duration": 150838,
    "start_time": "2023-06-07T14:35:37.353Z"
   },
   {
    "duration": 5583,
    "start_time": "2023-06-07T14:38:08.193Z"
   },
   {
    "duration": 3,
    "start_time": "2023-06-07T14:38:13.778Z"
   },
   {
    "duration": 81,
    "start_time": "2023-06-07T14:38:13.784Z"
   },
   {
    "duration": 11,
    "start_time": "2023-06-07T14:38:13.867Z"
   },
   {
    "duration": 43598,
    "start_time": "2023-06-07T14:38:13.881Z"
   },
   {
    "duration": 4,
    "start_time": "2023-06-07T14:38:57.482Z"
   },
   {
    "duration": 137,
    "start_time": "2023-06-07T14:38:57.488Z"
   },
   {
    "duration": 0,
    "start_time": "2023-06-07T14:38:57.627Z"
   },
   {
    "duration": 12,
    "start_time": "2023-06-07T14:39:08.086Z"
   },
   {
    "duration": 11,
    "start_time": "2023-06-07T14:40:44.178Z"
   },
   {
    "duration": 11,
    "start_time": "2023-06-07T14:41:22.666Z"
   },
   {
    "duration": 50,
    "start_time": "2023-06-07T14:41:36.056Z"
   },
   {
    "duration": 50,
    "start_time": "2023-06-07T14:42:19.159Z"
   },
   {
    "duration": 13,
    "start_time": "2023-06-07T14:42:29.011Z"
   },
   {
    "duration": 38,
    "start_time": "2023-06-07T14:43:00.731Z"
   },
   {
    "duration": 764,
    "start_time": "2023-06-07T14:44:54.659Z"
   },
   {
    "duration": 882,
    "start_time": "2023-06-07T14:45:19.031Z"
   },
   {
    "duration": 8,
    "start_time": "2023-06-07T14:45:56.170Z"
   },
   {
    "duration": 42264,
    "start_time": "2023-06-07T14:46:00.059Z"
   },
   {
    "duration": 14,
    "start_time": "2023-06-07T14:47:13.911Z"
   },
   {
    "duration": 120,
    "start_time": "2023-06-07T14:47:23.351Z"
   },
   {
    "duration": 5,
    "start_time": "2023-06-07T14:47:47.379Z"
   },
   {
    "duration": 27,
    "start_time": "2023-06-07T14:48:00.850Z"
   },
   {
    "duration": 8,
    "start_time": "2023-06-07T14:48:30.811Z"
   },
   {
    "duration": 5,
    "start_time": "2023-06-07T14:48:36.005Z"
   },
   {
    "duration": 5,
    "start_time": "2023-06-07T14:49:05.747Z"
   },
   {
    "duration": 6,
    "start_time": "2023-06-07T14:49:23.503Z"
   },
   {
    "duration": 356,
    "start_time": "2023-06-07T14:50:20.892Z"
   },
   {
    "duration": 6,
    "start_time": "2023-06-07T14:50:32.618Z"
   },
   {
    "duration": 55354,
    "start_time": "2023-06-07T14:50:36.802Z"
   },
   {
    "duration": 5,
    "start_time": "2023-06-07T14:51:40.099Z"
   },
   {
    "duration": 26,
    "start_time": "2023-06-07T14:52:12.811Z"
   },
   {
    "duration": 6,
    "start_time": "2023-06-07T14:52:53.330Z"
   },
   {
    "duration": 5,
    "start_time": "2023-06-07T14:52:54.900Z"
   },
   {
    "duration": 5,
    "start_time": "2023-06-07T14:53:09.979Z"
   },
   {
    "duration": 13,
    "start_time": "2023-06-07T14:54:30.196Z"
   },
   {
    "duration": 3,
    "start_time": "2023-06-07T14:54:56.464Z"
   },
   {
    "duration": 26,
    "start_time": "2023-06-07T14:58:19.011Z"
   },
   {
    "duration": 5,
    "start_time": "2023-06-07T14:58:44.446Z"
   },
   {
    "duration": 5,
    "start_time": "2023-06-07T14:58:51.002Z"
   },
   {
    "duration": 886,
    "start_time": "2023-06-07T14:59:51.200Z"
   },
   {
    "duration": 35,
    "start_time": "2023-06-07T15:00:07.282Z"
   },
   {
    "duration": 37,
    "start_time": "2023-06-07T15:00:35.456Z"
   },
   {
    "duration": 11,
    "start_time": "2023-06-07T15:00:56.688Z"
   },
   {
    "duration": 13,
    "start_time": "2023-06-07T15:04:27.549Z"
   },
   {
    "duration": 13,
    "start_time": "2023-06-07T15:05:07.230Z"
   },
   {
    "duration": 13,
    "start_time": "2023-06-07T15:12:42.270Z"
   },
   {
    "duration": 13,
    "start_time": "2023-06-07T15:12:53.709Z"
   },
   {
    "duration": 13,
    "start_time": "2023-06-07T15:13:06.697Z"
   },
   {
    "duration": 12,
    "start_time": "2023-06-07T15:13:12.085Z"
   },
   {
    "duration": 13,
    "start_time": "2023-06-07T15:13:25.819Z"
   },
   {
    "duration": 29,
    "start_time": "2023-06-07T15:14:53.590Z"
   },
   {
    "duration": 17,
    "start_time": "2023-06-07T15:15:06.785Z"
   },
   {
    "duration": 12,
    "start_time": "2023-06-07T15:15:12.629Z"
   },
   {
    "duration": 11,
    "start_time": "2023-06-07T15:15:29.582Z"
   },
   {
    "duration": 18,
    "start_time": "2023-06-07T15:15:37.948Z"
   },
   {
    "duration": 32,
    "start_time": "2023-06-07T15:16:13.262Z"
   },
   {
    "duration": 43,
    "start_time": "2023-06-07T15:22:20.040Z"
   },
   {
    "duration": 98,
    "start_time": "2023-06-07T15:23:00.509Z"
   },
   {
    "duration": 11,
    "start_time": "2023-06-07T15:24:02.085Z"
   },
   {
    "duration": 9,
    "start_time": "2023-06-07T15:24:37.588Z"
   },
   {
    "duration": 1002,
    "start_time": "2023-06-07T15:25:28.627Z"
   },
   {
    "duration": 111,
    "start_time": "2023-06-07T15:26:18.888Z"
   },
   {
    "duration": 20,
    "start_time": "2023-06-07T15:31:41.083Z"
   },
   {
    "duration": 113,
    "start_time": "2023-06-07T15:31:44.689Z"
   },
   {
    "duration": 159,
    "start_time": "2023-06-07T15:32:00.483Z"
   },
   {
    "duration": 2990,
    "start_time": "2023-06-07T15:32:27.148Z"
   },
   {
    "duration": 3133,
    "start_time": "2023-06-07T15:32:58.078Z"
   },
   {
    "duration": 2797,
    "start_time": "2023-06-07T15:33:08.009Z"
   },
   {
    "duration": 8,
    "start_time": "2023-06-07T15:34:36.440Z"
   },
   {
    "duration": 12,
    "start_time": "2023-06-07T15:36:44.648Z"
   },
   {
    "duration": 13,
    "start_time": "2023-06-07T15:36:48.882Z"
   },
   {
    "duration": 9,
    "start_time": "2023-06-07T15:37:09.551Z"
   },
   {
    "duration": 11,
    "start_time": "2023-06-07T15:37:12.929Z"
   },
   {
    "duration": 13,
    "start_time": "2023-06-07T15:37:41.241Z"
   },
   {
    "duration": 10,
    "start_time": "2023-06-07T15:40:52.175Z"
   },
   {
    "duration": 15,
    "start_time": "2023-06-07T15:40:59.246Z"
   },
   {
    "duration": 8,
    "start_time": "2023-06-07T15:41:00.777Z"
   },
   {
    "duration": 9,
    "start_time": "2023-06-07T15:41:45.900Z"
   },
   {
    "duration": 10,
    "start_time": "2023-06-07T15:42:30.080Z"
   },
   {
    "duration": 749,
    "start_time": "2023-06-07T16:04:10.912Z"
   },
   {
    "duration": 4,
    "start_time": "2023-06-07T16:04:36.812Z"
   },
   {
    "duration": 4,
    "start_time": "2023-06-07T16:04:41.839Z"
   },
   {
    "duration": 6,
    "start_time": "2023-06-07T16:09:30.307Z"
   },
   {
    "duration": 5,
    "start_time": "2023-06-07T16:09:30.996Z"
   },
   {
    "duration": 406318,
    "start_time": "2023-06-07T16:10:59.186Z"
   },
   {
    "duration": 5,
    "start_time": "2023-06-07T16:17:45.506Z"
   },
   {
    "duration": 35,
    "start_time": "2023-06-07T16:17:45.513Z"
   },
   {
    "duration": 13,
    "start_time": "2023-06-07T16:17:45.550Z"
   },
   {
    "duration": 20,
    "start_time": "2023-06-07T16:17:45.565Z"
   },
   {
    "duration": 139,
    "start_time": "2023-06-07T17:41:46.942Z"
   },
   {
    "duration": 1352,
    "start_time": "2023-06-07T18:00:27.810Z"
   },
   {
    "duration": 1321,
    "start_time": "2023-06-07T18:00:57.529Z"
   },
   {
    "duration": 1763,
    "start_time": "2023-06-07T18:01:35.181Z"
   },
   {
    "duration": 392,
    "start_time": "2023-06-07T18:01:36.946Z"
   },
   {
    "duration": 58,
    "start_time": "2023-06-07T18:01:37.343Z"
   },
   {
    "duration": 31,
    "start_time": "2023-06-07T18:01:37.416Z"
   },
   {
    "duration": 64,
    "start_time": "2023-06-07T18:01:37.450Z"
   },
   {
    "duration": 46,
    "start_time": "2023-06-07T18:01:37.516Z"
   },
   {
    "duration": 43,
    "start_time": "2023-06-07T18:01:37.567Z"
   },
   {
    "duration": 10,
    "start_time": "2023-06-07T18:01:37.612Z"
   },
   {
    "duration": 31,
    "start_time": "2023-06-07T18:01:37.626Z"
   },
   {
    "duration": 31,
    "start_time": "2023-06-07T18:01:37.659Z"
   },
   {
    "duration": 11,
    "start_time": "2023-06-07T18:01:37.695Z"
   },
   {
    "duration": 5,
    "start_time": "2023-06-07T18:01:37.717Z"
   },
   {
    "duration": 88318,
    "start_time": "2023-06-07T18:01:37.737Z"
   },
   {
    "duration": 33863,
    "start_time": "2023-06-07T18:03:06.059Z"
   },
   {
    "duration": 62852,
    "start_time": "2023-06-07T18:03:39.924Z"
   },
   {
    "duration": 26,
    "start_time": "2023-06-07T18:04:42.782Z"
   },
   {
    "duration": 11,
    "start_time": "2023-06-07T18:04:42.810Z"
   },
   {
    "duration": 25,
    "start_time": "2023-06-07T18:04:42.823Z"
   },
   {
    "duration": 403,
    "start_time": "2023-06-07T18:04:42.850Z"
   },
   {
    "duration": 210,
    "start_time": "2023-06-07T18:04:43.256Z"
   },
   {
    "duration": 235,
    "start_time": "2023-06-07T18:04:43.471Z"
   },
   {
    "duration": 72,
    "start_time": "2023-06-07T18:04:43.709Z"
   },
   {
    "duration": 79892,
    "start_time": "2023-06-07T18:04:43.783Z"
   },
   {
    "duration": 24198,
    "start_time": "2023-06-07T18:06:03.685Z"
   },
   {
    "duration": 181648,
    "start_time": "2023-06-07T18:06:27.890Z"
   },
   {
    "duration": 5902,
    "start_time": "2023-06-07T18:09:29.540Z"
   },
   {
    "duration": 0,
    "start_time": "2023-06-07T18:09:35.444Z"
   },
   {
    "duration": 0,
    "start_time": "2023-06-07T18:09:35.445Z"
   },
   {
    "duration": 0,
    "start_time": "2023-06-07T18:09:35.446Z"
   },
   {
    "duration": 0,
    "start_time": "2023-06-07T18:09:35.447Z"
   },
   {
    "duration": 0,
    "start_time": "2023-06-07T18:09:35.448Z"
   },
   {
    "duration": 0,
    "start_time": "2023-06-07T18:09:35.449Z"
   },
   {
    "duration": 0,
    "start_time": "2023-06-07T18:09:35.450Z"
   },
   {
    "duration": 0,
    "start_time": "2023-06-07T18:09:35.456Z"
   },
   {
    "duration": 0,
    "start_time": "2023-06-07T18:09:35.457Z"
   },
   {
    "duration": 0,
    "start_time": "2023-06-07T18:09:35.465Z"
   },
   {
    "duration": 0,
    "start_time": "2023-06-07T18:09:35.465Z"
   },
   {
    "duration": 0,
    "start_time": "2023-06-07T18:09:35.466Z"
   },
   {
    "duration": 0,
    "start_time": "2023-06-07T18:09:35.481Z"
   },
   {
    "duration": 8,
    "start_time": "2023-06-07T18:21:01.579Z"
   },
   {
    "duration": 5,
    "start_time": "2023-06-07T18:21:32.937Z"
   },
   {
    "duration": 5,
    "start_time": "2023-06-07T18:22:09.929Z"
   },
   {
    "duration": 5,
    "start_time": "2023-06-07T18:22:23.930Z"
   },
   {
    "duration": 17,
    "start_time": "2023-06-07T18:22:29.572Z"
   },
   {
    "duration": 5,
    "start_time": "2023-06-07T18:22:56.895Z"
   },
   {
    "duration": 144,
    "start_time": "2023-06-07T18:23:17.009Z"
   },
   {
    "duration": 5,
    "start_time": "2023-06-07T18:23:17.790Z"
   },
   {
    "duration": 138,
    "start_time": "2023-06-07T18:23:23.616Z"
   },
   {
    "duration": 7,
    "start_time": "2023-06-07T18:23:28.890Z"
   },
   {
    "duration": 1633,
    "start_time": "2023-06-07T18:23:56.418Z"
   },
   {
    "duration": 342,
    "start_time": "2023-06-07T18:23:58.056Z"
   },
   {
    "duration": 33,
    "start_time": "2023-06-07T18:23:58.400Z"
   },
   {
    "duration": 29,
    "start_time": "2023-06-07T18:23:58.435Z"
   },
   {
    "duration": 63,
    "start_time": "2023-06-07T18:23:58.467Z"
   },
   {
    "duration": 57,
    "start_time": "2023-06-07T18:23:58.533Z"
   },
   {
    "duration": 29,
    "start_time": "2023-06-07T18:23:58.592Z"
   },
   {
    "duration": 13,
    "start_time": "2023-06-07T18:23:58.623Z"
   },
   {
    "duration": 32,
    "start_time": "2023-06-07T18:23:58.659Z"
   },
   {
    "duration": 23,
    "start_time": "2023-06-07T18:23:58.693Z"
   },
   {
    "duration": 12,
    "start_time": "2023-06-07T18:23:58.718Z"
   },
   {
    "duration": 23,
    "start_time": "2023-06-07T18:23:58.731Z"
   },
   {
    "duration": 80949,
    "start_time": "2023-06-07T18:23:58.756Z"
   },
   {
    "duration": 30940,
    "start_time": "2023-06-07T18:25:19.709Z"
   },
   {
    "duration": 59838,
    "start_time": "2023-06-07T18:25:50.651Z"
   },
   {
    "duration": 21,
    "start_time": "2023-06-07T18:26:50.493Z"
   },
   {
    "duration": 86,
    "start_time": "2023-06-07T18:26:50.516Z"
   },
   {
    "duration": 4,
    "start_time": "2023-06-07T18:26:50.605Z"
   },
   {
    "duration": 27,
    "start_time": "2023-06-07T18:26:50.611Z"
   },
   {
    "duration": 429,
    "start_time": "2023-06-07T18:26:50.640Z"
   },
   {
    "duration": 216,
    "start_time": "2023-06-07T18:26:51.071Z"
   },
   {
    "duration": 256,
    "start_time": "2023-06-07T18:26:51.289Z"
   },
   {
    "duration": 26,
    "start_time": "2023-06-07T18:26:51.547Z"
   },
   {
    "duration": 82,
    "start_time": "2023-06-07T18:26:51.580Z"
   },
   {
    "duration": 76896,
    "start_time": "2023-06-07T18:26:51.667Z"
   },
   {
    "duration": 22402,
    "start_time": "2023-06-07T18:28:08.565Z"
   },
   {
    "duration": 157394,
    "start_time": "2023-06-07T18:28:30.969Z"
   },
   {
    "duration": 144,
    "start_time": "2023-06-07T18:31:08.367Z"
   },
   {
    "duration": 0,
    "start_time": "2023-06-07T18:31:08.513Z"
   },
   {
    "duration": 0,
    "start_time": "2023-06-07T18:31:08.515Z"
   },
   {
    "duration": 0,
    "start_time": "2023-06-07T18:31:08.516Z"
   },
   {
    "duration": 0,
    "start_time": "2023-06-07T18:31:08.518Z"
   },
   {
    "duration": 0,
    "start_time": "2023-06-07T18:31:08.519Z"
   },
   {
    "duration": 0,
    "start_time": "2023-06-07T18:31:08.520Z"
   },
   {
    "duration": 0,
    "start_time": "2023-06-07T18:31:08.521Z"
   },
   {
    "duration": 1,
    "start_time": "2023-06-07T18:31:08.522Z"
   },
   {
    "duration": 0,
    "start_time": "2023-06-07T18:31:08.524Z"
   },
   {
    "duration": 0,
    "start_time": "2023-06-07T18:31:08.525Z"
   },
   {
    "duration": 0,
    "start_time": "2023-06-07T18:31:08.526Z"
   },
   {
    "duration": 0,
    "start_time": "2023-06-07T18:31:08.527Z"
   },
   {
    "duration": 1,
    "start_time": "2023-06-07T18:31:08.528Z"
   },
   {
    "duration": 0,
    "start_time": "2023-06-07T18:31:08.530Z"
   },
   {
    "duration": 6545,
    "start_time": "2023-06-07T18:32:35.818Z"
   },
   {
    "duration": 6,
    "start_time": "2023-06-07T18:32:46.287Z"
   },
   {
    "duration": 61495,
    "start_time": "2023-06-07T18:32:47.978Z"
   },
   {
    "duration": 17,
    "start_time": "2023-06-07T18:33:49.481Z"
   },
   {
    "duration": 17,
    "start_time": "2023-06-07T18:33:49.500Z"
   },
   {
    "duration": 18,
    "start_time": "2023-06-07T18:34:04.059Z"
   },
   {
    "duration": 26,
    "start_time": "2023-06-07T18:34:59.658Z"
   },
   {
    "duration": 2660,
    "start_time": "2023-06-07T18:35:19.360Z"
   },
   {
    "duration": 117,
    "start_time": "2023-06-07T18:38:50.117Z"
   },
   {
    "duration": 168,
    "start_time": "2023-06-07T18:39:09.718Z"
   },
   {
    "duration": 9,
    "start_time": "2023-06-07T18:41:32.734Z"
   },
   {
    "duration": 16,
    "start_time": "2023-06-07T18:41:41.675Z"
   },
   {
    "duration": 13,
    "start_time": "2023-06-07T18:43:21.572Z"
   },
   {
    "duration": 9,
    "start_time": "2023-06-07T18:43:30.807Z"
   },
   {
    "duration": 206,
    "start_time": "2023-06-07T18:43:49.072Z"
   },
   {
    "duration": 1615,
    "start_time": "2023-06-07T18:45:06.437Z"
   },
   {
    "duration": 814,
    "start_time": "2023-06-07T18:46:04.919Z"
   },
   {
    "duration": 43,
    "start_time": "2023-06-07T18:46:33.940Z"
   },
   {
    "duration": 894,
    "start_time": "2023-06-07T18:46:38.581Z"
   },
   {
    "duration": 11,
    "start_time": "2023-06-07T18:47:27.617Z"
   },
   {
    "duration": 882,
    "start_time": "2023-06-07T18:47:59.339Z"
   },
   {
    "duration": 1389,
    "start_time": "2023-06-07T18:48:58.111Z"
   },
   {
    "duration": 13917,
    "start_time": "2023-06-07T18:49:24.012Z"
   },
   {
    "duration": 197,
    "start_time": "2023-06-07T18:50:04.290Z"
   },
   {
    "duration": 184,
    "start_time": "2023-06-07T18:50:20.123Z"
   },
   {
    "duration": 14053,
    "start_time": "2023-06-07T18:50:31.287Z"
   },
   {
    "duration": 188,
    "start_time": "2023-06-07T18:50:45.342Z"
   },
   {
    "duration": 821,
    "start_time": "2023-06-07T18:50:59.545Z"
   },
   {
    "duration": 1331,
    "start_time": "2023-06-07T18:51:07.431Z"
   },
   {
    "duration": 10,
    "start_time": "2023-06-07T18:51:45.113Z"
   },
   {
    "duration": 11,
    "start_time": "2023-06-07T18:51:53.210Z"
   },
   {
    "duration": 1415,
    "start_time": "2023-06-07T18:52:23.784Z"
   },
   {
    "duration": 1327,
    "start_time": "2023-06-07T18:53:58.780Z"
   },
   {
    "duration": 1617,
    "start_time": "2023-06-07T19:00:27.200Z"
   },
   {
    "duration": 345,
    "start_time": "2023-06-07T19:00:28.821Z"
   },
   {
    "duration": 53,
    "start_time": "2023-06-07T19:00:29.172Z"
   },
   {
    "duration": 25,
    "start_time": "2023-06-07T19:00:29.227Z"
   },
   {
    "duration": 59,
    "start_time": "2023-06-07T19:00:29.256Z"
   },
   {
    "duration": 32,
    "start_time": "2023-06-07T19:00:29.320Z"
   },
   {
    "duration": 59,
    "start_time": "2023-06-07T19:00:29.354Z"
   },
   {
    "duration": 12,
    "start_time": "2023-06-07T19:00:29.415Z"
   },
   {
    "duration": 21,
    "start_time": "2023-06-07T19:00:29.430Z"
   },
   {
    "duration": 42,
    "start_time": "2023-06-07T19:00:29.453Z"
   },
   {
    "duration": 13,
    "start_time": "2023-06-07T19:00:29.500Z"
   },
   {
    "duration": 32,
    "start_time": "2023-06-07T19:00:29.514Z"
   },
   {
    "duration": 79215,
    "start_time": "2023-06-07T19:00:29.547Z"
   },
   {
    "duration": 32248,
    "start_time": "2023-06-07T19:01:48.767Z"
   },
   {
    "duration": 64714,
    "start_time": "2023-06-07T19:02:21.020Z"
   },
   {
    "duration": 29,
    "start_time": "2023-06-07T19:03:25.738Z"
   },
   {
    "duration": 11,
    "start_time": "2023-06-07T19:03:25.771Z"
   },
   {
    "duration": 25,
    "start_time": "2023-06-07T19:03:25.784Z"
   },
   {
    "duration": 400,
    "start_time": "2023-06-07T19:03:25.812Z"
   },
   {
    "duration": 207,
    "start_time": "2023-06-07T19:03:26.217Z"
   },
   {
    "duration": 261,
    "start_time": "2023-06-07T19:03:26.426Z"
   },
   {
    "duration": 60,
    "start_time": "2023-06-07T19:03:26.689Z"
   },
   {
    "duration": 84210,
    "start_time": "2023-06-07T19:03:26.751Z"
   },
   {
    "duration": 24547,
    "start_time": "2023-06-07T19:04:50.963Z"
   },
   {
    "duration": 160618,
    "start_time": "2023-06-07T19:05:15.512Z"
   },
   {
    "duration": 5650,
    "start_time": "2023-06-07T19:07:56.132Z"
   },
   {
    "duration": 22,
    "start_time": "2023-06-07T19:08:01.797Z"
   },
   {
    "duration": 57308,
    "start_time": "2023-06-07T19:08:01.864Z"
   },
   {
    "duration": 20,
    "start_time": "2023-06-07T19:08:59.175Z"
   },
   {
    "duration": 19,
    "start_time": "2023-06-07T19:08:59.202Z"
   },
   {
    "duration": 14,
    "start_time": "2023-06-07T19:08:59.224Z"
   },
   {
    "duration": 35,
    "start_time": "2023-06-07T19:08:59.240Z"
   },
   {
    "duration": 2881,
    "start_time": "2023-06-07T19:08:59.282Z"
   },
   {
    "duration": 109,
    "start_time": "2023-06-07T19:09:02.164Z"
   },
   {
    "duration": 159,
    "start_time": "2023-06-07T19:09:02.276Z"
   },
   {
    "duration": 821,
    "start_time": "2023-06-07T19:09:02.436Z"
   },
   {
    "duration": 1282,
    "start_time": "2023-06-07T19:09:03.259Z"
   },
   {
    "duration": 36,
    "start_time": "2023-06-07T19:09:04.543Z"
   },
   {
    "duration": 1242,
    "start_time": "2023-06-07T19:09:04.586Z"
   },
   {
    "duration": 1404,
    "start_time": "2023-06-08T16:47:59.955Z"
   },
   {
    "duration": 1071,
    "start_time": "2023-06-08T16:48:01.361Z"
   },
   {
    "duration": 27,
    "start_time": "2023-06-08T16:48:02.434Z"
   },
   {
    "duration": 83,
    "start_time": "2023-06-08T16:48:02.465Z"
   },
   {
    "duration": 57,
    "start_time": "2023-06-08T16:48:02.550Z"
   },
   {
    "duration": 36,
    "start_time": "2023-06-08T16:48:02.609Z"
   },
   {
    "duration": 26,
    "start_time": "2023-06-08T16:48:02.648Z"
   },
   {
    "duration": 13,
    "start_time": "2023-06-08T16:48:02.675Z"
   },
   {
    "duration": 45,
    "start_time": "2023-06-08T16:48:02.689Z"
   },
   {
    "duration": 23,
    "start_time": "2023-06-08T16:48:02.736Z"
   },
   {
    "duration": 24,
    "start_time": "2023-06-08T16:48:02.761Z"
   },
   {
    "duration": 39,
    "start_time": "2023-06-08T16:48:02.786Z"
   },
   {
    "duration": 66444,
    "start_time": "2023-06-08T16:48:02.827Z"
   },
   {
    "duration": 25815,
    "start_time": "2023-06-08T16:49:09.273Z"
   },
   {
    "duration": 47965,
    "start_time": "2023-06-08T16:49:35.089Z"
   },
   {
    "duration": 14,
    "start_time": "2023-06-08T16:50:23.056Z"
   },
   {
    "duration": 10,
    "start_time": "2023-06-08T16:50:23.072Z"
   },
   {
    "duration": 24,
    "start_time": "2023-06-08T16:50:23.083Z"
   },
   {
    "duration": 273,
    "start_time": "2023-06-08T16:50:23.108Z"
   },
   {
    "duration": 145,
    "start_time": "2023-06-08T16:50:23.383Z"
   },
   {
    "duration": 210,
    "start_time": "2023-06-08T16:50:23.529Z"
   },
   {
    "duration": 39,
    "start_time": "2023-06-08T16:50:23.740Z"
   },
   {
    "duration": 54433,
    "start_time": "2023-06-08T16:50:23.780Z"
   },
   {
    "duration": 16546,
    "start_time": "2023-06-08T16:51:18.215Z"
   },
   {
    "duration": 106145,
    "start_time": "2023-06-08T16:51:34.763Z"
   },
   {
    "duration": 4098,
    "start_time": "2023-06-08T16:53:20.909Z"
   },
   {
    "duration": 3,
    "start_time": "2023-06-08T16:53:25.008Z"
   },
   {
    "duration": 44693,
    "start_time": "2023-06-08T16:53:25.014Z"
   },
   {
    "duration": 13,
    "start_time": "2023-06-08T16:54:09.709Z"
   },
   {
    "duration": 10,
    "start_time": "2023-06-08T16:54:09.723Z"
   },
   {
    "duration": 7,
    "start_time": "2023-06-08T16:54:09.735Z"
   },
   {
    "duration": 29,
    "start_time": "2023-06-08T16:54:09.744Z"
   },
   {
    "duration": 2294,
    "start_time": "2023-06-08T16:54:09.775Z"
   },
   {
    "duration": 75,
    "start_time": "2023-06-08T16:54:12.071Z"
   },
   {
    "duration": 120,
    "start_time": "2023-06-08T16:54:12.148Z"
   },
   {
    "duration": 718,
    "start_time": "2023-06-08T16:54:12.269Z"
   },
   {
    "duration": 976,
    "start_time": "2023-06-08T16:54:12.989Z"
   },
   {
    "duration": 8,
    "start_time": "2023-06-08T16:54:13.967Z"
   },
   {
    "duration": 1023,
    "start_time": "2023-06-08T16:54:13.977Z"
   },
   {
    "duration": 119,
    "start_time": "2023-06-08T16:56:20.609Z"
   },
   {
    "duration": 33,
    "start_time": "2023-06-08T16:56:28.246Z"
   },
   {
    "duration": 52,
    "start_time": "2023-06-08T16:57:04.758Z"
   },
   {
    "duration": 48,
    "start_time": "2023-06-08T16:57:35.338Z"
   },
   {
    "duration": 2,
    "start_time": "2023-06-08T17:25:21.231Z"
   },
   {
    "duration": 24,
    "start_time": "2023-06-08T17:25:32.574Z"
   },
   {
    "duration": 7,
    "start_time": "2023-06-08T17:27:34.387Z"
   },
   {
    "duration": 4,
    "start_time": "2023-06-08T17:27:37.863Z"
   },
   {
    "duration": 3580,
    "start_time": "2023-06-08T17:27:38.542Z"
   },
   {
    "duration": 23493,
    "start_time": "2023-06-08T17:31:00.662Z"
   },
   {
    "duration": 5,
    "start_time": "2023-06-08T17:32:02.683Z"
   },
   {
    "duration": 21860,
    "start_time": "2023-06-08T17:32:16.021Z"
   },
   {
    "duration": 4,
    "start_time": "2023-06-08T17:32:41.494Z"
   },
   {
    "duration": 5,
    "start_time": "2023-06-08T17:32:47.309Z"
   },
   {
    "duration": 13,
    "start_time": "2023-06-08T17:32:54.703Z"
   },
   {
    "duration": 46,
    "start_time": "2023-06-08T17:36:45.630Z"
   },
   {
    "duration": 4,
    "start_time": "2023-06-08T17:37:00.874Z"
   },
   {
    "duration": 44664,
    "start_time": "2023-06-08T17:37:02.557Z"
   },
   {
    "duration": 4,
    "start_time": "2023-06-08T17:38:08.082Z"
   },
   {
    "duration": 4,
    "start_time": "2023-06-08T17:38:13.941Z"
   },
   {
    "duration": 12,
    "start_time": "2023-06-08T17:38:21.784Z"
   },
   {
    "duration": 5,
    "start_time": "2023-06-08T17:39:43.023Z"
   },
   {
    "duration": 6,
    "start_time": "2023-06-08T17:39:50.709Z"
   },
   {
    "duration": 44709,
    "start_time": "2023-06-08T17:41:39.439Z"
   },
   {
    "duration": 15,
    "start_time": "2023-06-08T17:42:26.310Z"
   },
   {
    "duration": 3,
    "start_time": "2023-06-08T17:49:39.604Z"
   },
   {
    "duration": 5,
    "start_time": "2023-06-08T17:50:36.722Z"
   },
   {
    "duration": 12,
    "start_time": "2023-06-08T17:52:25.342Z"
   },
   {
    "duration": 1035,
    "start_time": "2023-06-08T17:52:42.702Z"
   },
   {
    "duration": 1207,
    "start_time": "2023-06-08T17:53:07.352Z"
   },
   {
    "duration": 189,
    "start_time": "2023-06-08T17:53:09.663Z"
   },
   {
    "duration": 24,
    "start_time": "2023-06-08T17:53:10.523Z"
   },
   {
    "duration": 16,
    "start_time": "2023-06-08T17:53:10.683Z"
   },
   {
    "duration": 27,
    "start_time": "2023-06-08T17:53:11.463Z"
   },
   {
    "duration": 22,
    "start_time": "2023-06-08T17:53:11.663Z"
   },
   {
    "duration": 23,
    "start_time": "2023-06-08T17:53:12.254Z"
   },
   {
    "duration": 9,
    "start_time": "2023-06-08T17:53:12.622Z"
   },
   {
    "duration": 14,
    "start_time": "2023-06-08T17:53:13.431Z"
   },
   {
    "duration": 65,
    "start_time": "2023-06-08T17:53:13.822Z"
   },
   {
    "duration": 11,
    "start_time": "2023-06-08T17:53:14.182Z"
   },
   {
    "duration": 7,
    "start_time": "2023-06-08T17:53:14.887Z"
   },
   {
    "duration": 4,
    "start_time": "2023-06-08T17:53:17.862Z"
   },
   {
    "duration": 67729,
    "start_time": "2023-06-08T17:53:18.192Z"
   },
   {
    "duration": 26494,
    "start_time": "2023-06-08T17:54:25.923Z"
   },
   {
    "duration": 49180,
    "start_time": "2023-06-08T17:54:52.419Z"
   },
   {
    "duration": 15,
    "start_time": "2023-06-08T17:55:41.601Z"
   },
   {
    "duration": 11,
    "start_time": "2023-06-08T17:55:41.618Z"
   },
   {
    "duration": 18,
    "start_time": "2023-06-08T17:55:41.630Z"
   },
   {
    "duration": 328,
    "start_time": "2023-06-08T17:55:41.649Z"
   },
   {
    "duration": 170,
    "start_time": "2023-06-08T17:55:41.979Z"
   },
   {
    "duration": 216,
    "start_time": "2023-06-08T17:55:42.151Z"
   },
   {
    "duration": 2,
    "start_time": "2023-06-08T17:55:42.369Z"
   },
   {
    "duration": 46040,
    "start_time": "2023-06-08T17:55:42.372Z"
   },
   {
    "duration": 6,
    "start_time": "2023-06-08T17:56:28.414Z"
   },
   {
    "duration": 45630,
    "start_time": "2023-06-08T17:56:28.421Z"
   },
   {
    "duration": 46068,
    "start_time": "2023-06-08T17:57:14.053Z"
   },
   {
    "duration": 5,
    "start_time": "2023-06-08T17:58:00.123Z"
   },
   {
    "duration": 1009,
    "start_time": "2023-06-08T17:58:00.130Z"
   },
   {
    "duration": 14,
    "start_time": "2023-06-08T17:58:52.228Z"
   },
   {
    "duration": 3981,
    "start_time": "2023-06-08T17:59:42.864Z"
   },
   {
    "duration": 1913,
    "start_time": "2023-06-08T17:59:46.846Z"
   },
   {
    "duration": 2137,
    "start_time": "2023-06-08T17:59:48.761Z"
   },
   {
    "duration": 15,
    "start_time": "2023-06-08T17:59:50.900Z"
   },
   {
    "duration": 10,
    "start_time": "2023-06-08T17:59:50.916Z"
   },
   {
    "duration": 21,
    "start_time": "2023-06-08T17:59:50.928Z"
   },
   {
    "duration": 331,
    "start_time": "2023-06-08T17:59:50.950Z"
   },
   {
    "duration": 161,
    "start_time": "2023-06-08T17:59:51.282Z"
   },
   {
    "duration": 231,
    "start_time": "2023-06-08T17:59:51.444Z"
   },
   {
    "duration": 3,
    "start_time": "2023-06-08T17:59:51.677Z"
   },
   {
    "duration": 1989,
    "start_time": "2023-06-08T17:59:51.681Z"
   },
   {
    "duration": 4,
    "start_time": "2023-06-08T17:59:53.672Z"
   },
   {
    "duration": 3287,
    "start_time": "2023-06-08T17:59:53.677Z"
   },
   {
    "duration": 1858,
    "start_time": "2023-06-08T17:59:56.965Z"
   },
   {
    "duration": 6,
    "start_time": "2023-06-08T17:59:58.824Z"
   },
   {
    "duration": 953,
    "start_time": "2023-06-08T17:59:58.831Z"
   },
   {
    "duration": 12,
    "start_time": "2023-06-08T17:59:59.786Z"
   },
   {
    "duration": 279,
    "start_time": "2023-06-08T18:09:08.514Z"
   },
   {
    "duration": 11,
    "start_time": "2023-06-08T18:09:36.958Z"
   },
   {
    "duration": 34,
    "start_time": "2023-06-08T18:09:49.367Z"
   },
   {
    "duration": 29,
    "start_time": "2023-06-08T18:10:21.711Z"
   },
   {
    "duration": 10,
    "start_time": "2023-06-08T18:10:28.246Z"
   },
   {
    "duration": 206,
    "start_time": "2023-06-08T18:11:18.051Z"
   },
   {
    "duration": 785,
    "start_time": "2023-06-08T18:11:34.767Z"
   },
   {
    "duration": 10,
    "start_time": "2023-06-08T18:11:37.070Z"
   },
   {
    "duration": 193,
    "start_time": "2023-06-08T18:11:40.509Z"
   },
   {
    "duration": 9,
    "start_time": "2023-06-08T18:11:45.966Z"
   },
   {
    "duration": 781,
    "start_time": "2023-06-08T18:11:56.752Z"
   },
   {
    "duration": 9,
    "start_time": "2023-06-08T18:12:00.570Z"
   },
   {
    "duration": 178,
    "start_time": "2023-06-08T18:12:03.411Z"
   },
   {
    "duration": 6,
    "start_time": "2023-06-08T18:12:14.870Z"
   },
   {
    "duration": 28,
    "start_time": "2023-06-08T18:12:24.619Z"
   },
   {
    "duration": 15,
    "start_time": "2023-06-08T18:13:33.114Z"
   },
   {
    "duration": 8,
    "start_time": "2023-06-08T18:13:39.358Z"
   },
   {
    "duration": 11,
    "start_time": "2023-06-08T18:13:48.840Z"
   },
   {
    "duration": 8,
    "start_time": "2023-06-08T18:14:16.079Z"
   },
   {
    "duration": 9,
    "start_time": "2023-06-08T18:15:31.727Z"
   },
   {
    "duration": 18,
    "start_time": "2023-06-08T18:16:42.207Z"
   },
   {
    "duration": 1244,
    "start_time": "2023-06-08T18:16:50.307Z"
   },
   {
    "duration": 187,
    "start_time": "2023-06-08T18:16:59.378Z"
   },
   {
    "duration": 6,
    "start_time": "2023-06-08T18:17:19.278Z"
   },
   {
    "duration": 4,
    "start_time": "2023-06-08T18:17:32.138Z"
   },
   {
    "duration": 56,
    "start_time": "2023-06-08T18:20:33.199Z"
   },
   {
    "duration": 5,
    "start_time": "2023-06-08T18:20:36.647Z"
   },
   {
    "duration": 8,
    "start_time": "2023-06-08T18:20:49.286Z"
   },
   {
    "duration": 12,
    "start_time": "2023-06-08T18:20:51.652Z"
   },
   {
    "duration": 12,
    "start_time": "2023-06-08T18:20:57.218Z"
   },
   {
    "duration": 5,
    "start_time": "2023-06-08T18:21:43.227Z"
   },
   {
    "duration": 11,
    "start_time": "2023-06-08T18:21:47.939Z"
   },
   {
    "duration": 4,
    "start_time": "2023-06-08T18:24:06.179Z"
   },
   {
    "duration": 4,
    "start_time": "2023-06-08T18:24:11.811Z"
   },
   {
    "duration": 8,
    "start_time": "2023-06-08T18:25:21.515Z"
   },
   {
    "duration": 8,
    "start_time": "2023-06-08T18:25:25.082Z"
   },
   {
    "duration": 7,
    "start_time": "2023-06-08T18:26:10.884Z"
   },
   {
    "duration": 7,
    "start_time": "2023-06-08T18:26:20.556Z"
   },
   {
    "duration": 4,
    "start_time": "2023-06-08T18:27:24.199Z"
   },
   {
    "duration": 4,
    "start_time": "2023-06-08T18:28:12.515Z"
   },
   {
    "duration": 4,
    "start_time": "2023-06-08T18:28:28.115Z"
   },
   {
    "duration": 4,
    "start_time": "2023-06-08T18:28:38.459Z"
   },
   {
    "duration": 14,
    "start_time": "2023-06-08T18:29:20.860Z"
   },
   {
    "duration": 6,
    "start_time": "2023-06-08T18:29:29.145Z"
   },
   {
    "duration": 18,
    "start_time": "2023-06-08T18:30:04.064Z"
   },
   {
    "duration": 17,
    "start_time": "2023-06-08T18:30:34.781Z"
   },
   {
    "duration": 12,
    "start_time": "2023-06-08T18:32:52.080Z"
   },
   {
    "duration": 4,
    "start_time": "2023-06-08T18:33:14.314Z"
   },
   {
    "duration": 5,
    "start_time": "2023-06-08T18:33:31.006Z"
   },
   {
    "duration": 12,
    "start_time": "2023-06-08T18:35:16.820Z"
   },
   {
    "duration": 17,
    "start_time": "2023-06-08T19:09:59.505Z"
   },
   {
    "duration": 3216,
    "start_time": "2023-06-08T19:10:00.381Z"
   },
   {
    "duration": 3051,
    "start_time": "2023-06-08T19:10:15.374Z"
   },
   {
    "duration": 3531,
    "start_time": "2023-06-08T19:10:40.533Z"
   },
   {
    "duration": 6,
    "start_time": "2023-06-08T19:12:27.552Z"
   },
   {
    "duration": 8,
    "start_time": "2023-06-08T19:14:50.658Z"
   },
   {
    "duration": 5,
    "start_time": "2023-06-08T19:15:26.412Z"
   },
   {
    "duration": 1348,
    "start_time": "2023-06-08T19:16:23.225Z"
   },
   {
    "duration": 217,
    "start_time": "2023-06-08T19:16:24.575Z"
   },
   {
    "duration": 23,
    "start_time": "2023-06-08T19:16:24.793Z"
   },
   {
    "duration": 14,
    "start_time": "2023-06-08T19:16:24.819Z"
   },
   {
    "duration": 28,
    "start_time": "2023-06-08T19:16:24.835Z"
   },
   {
    "duration": 41,
    "start_time": "2023-06-08T19:16:24.865Z"
   },
   {
    "duration": 23,
    "start_time": "2023-06-08T19:16:24.908Z"
   },
   {
    "duration": 7,
    "start_time": "2023-06-08T19:16:24.932Z"
   },
   {
    "duration": 23,
    "start_time": "2023-06-08T19:16:24.940Z"
   },
   {
    "duration": 79,
    "start_time": "2023-06-08T19:16:24.965Z"
   },
   {
    "duration": 8,
    "start_time": "2023-06-08T19:16:25.046Z"
   },
   {
    "duration": 17,
    "start_time": "2023-06-08T19:16:25.056Z"
   },
   {
    "duration": 30,
    "start_time": "2023-06-08T19:16:25.074Z"
   },
   {
    "duration": 17,
    "start_time": "2023-06-08T19:16:25.105Z"
   },
   {
    "duration": 12,
    "start_time": "2023-06-08T19:16:25.123Z"
   },
   {
    "duration": 43,
    "start_time": "2023-06-08T19:16:25.137Z"
   },
   {
    "duration": 27,
    "start_time": "2023-06-08T19:16:25.182Z"
   },
   {
    "duration": 69963,
    "start_time": "2023-06-08T19:16:25.211Z"
   },
   {
    "duration": 27722,
    "start_time": "2023-06-08T19:17:35.175Z"
   },
   {
    "duration": 5,
    "start_time": "2023-06-08T19:18:02.898Z"
   },
   {
    "duration": 52540,
    "start_time": "2023-06-08T19:18:02.906Z"
   },
   {
    "duration": 14,
    "start_time": "2023-06-08T19:18:55.447Z"
   },
   {
    "duration": 33,
    "start_time": "2023-06-08T19:18:55.463Z"
   },
   {
    "duration": 34,
    "start_time": "2023-06-08T19:18:55.498Z"
   },
   {
    "duration": 310,
    "start_time": "2023-06-08T19:18:55.533Z"
   },
   {
    "duration": 162,
    "start_time": "2023-06-08T19:18:55.845Z"
   },
   {
    "duration": 219,
    "start_time": "2023-06-08T19:18:56.008Z"
   },
   {
    "duration": 2,
    "start_time": "2023-06-08T19:18:56.230Z"
   },
   {
    "duration": 45618,
    "start_time": "2023-06-08T19:18:56.233Z"
   },
   {
    "duration": 4,
    "start_time": "2023-06-08T19:19:41.853Z"
   },
   {
    "duration": 46224,
    "start_time": "2023-06-08T19:19:41.858Z"
   },
   {
    "duration": 46180,
    "start_time": "2023-06-08T19:20:28.083Z"
   },
   {
    "duration": 1020,
    "start_time": "2023-06-08T19:21:14.265Z"
   },
   {
    "duration": 52,
    "start_time": "2023-06-08T19:21:15.287Z"
   },
   {
    "duration": 15,
    "start_time": "2023-06-08T19:21:15.341Z"
   },
   {
    "duration": 100,
    "start_time": "2023-06-08T19:21:15.357Z"
   },
   {
    "duration": 7,
    "start_time": "2023-06-08T19:21:15.458Z"
   },
   {
    "duration": 3370,
    "start_time": "2023-06-08T19:21:15.467Z"
   },
   {
    "duration": 7,
    "start_time": "2023-06-08T19:21:18.839Z"
   },
   {
    "duration": 24,
    "start_time": "2023-06-08T19:21:18.848Z"
   },
   {
    "duration": 125,
    "start_time": "2023-06-08T19:21:18.875Z"
   },
   {
    "duration": 0,
    "start_time": "2023-06-08T19:21:19.002Z"
   },
   {
    "duration": 0,
    "start_time": "2023-06-08T19:21:19.006Z"
   },
   {
    "duration": 0,
    "start_time": "2023-06-08T19:21:19.008Z"
   },
   {
    "duration": 0,
    "start_time": "2023-06-08T19:21:19.009Z"
   },
   {
    "duration": 0,
    "start_time": "2023-06-08T19:21:19.011Z"
   },
   {
    "duration": 0,
    "start_time": "2023-06-08T19:21:19.012Z"
   },
   {
    "duration": 0,
    "start_time": "2023-06-08T19:21:19.013Z"
   },
   {
    "duration": 0,
    "start_time": "2023-06-08T19:21:19.014Z"
   },
   {
    "duration": 0,
    "start_time": "2023-06-08T19:21:19.015Z"
   },
   {
    "duration": 0,
    "start_time": "2023-06-08T19:21:19.017Z"
   },
   {
    "duration": 0,
    "start_time": "2023-06-08T19:21:19.019Z"
   },
   {
    "duration": 0,
    "start_time": "2023-06-08T19:21:19.020Z"
   },
   {
    "duration": 0,
    "start_time": "2023-06-08T19:21:19.021Z"
   },
   {
    "duration": 8,
    "start_time": "2023-06-08T19:21:58.029Z"
   },
   {
    "duration": 7,
    "start_time": "2023-06-08T19:22:17.041Z"
   },
   {
    "duration": 197,
    "start_time": "2023-06-08T19:25:50.547Z"
   },
   {
    "duration": 5,
    "start_time": "2023-06-08T19:25:57.646Z"
   },
   {
    "duration": 18,
    "start_time": "2023-06-08T19:26:01.373Z"
   },
   {
    "duration": 12,
    "start_time": "2023-06-08T19:26:07.846Z"
   },
   {
    "duration": 13,
    "start_time": "2023-06-08T19:26:13.385Z"
   },
   {
    "duration": 27,
    "start_time": "2023-06-08T19:26:28.240Z"
   },
   {
    "duration": 35,
    "start_time": "2023-06-08T19:26:28.387Z"
   },
   {
    "duration": 23,
    "start_time": "2023-06-08T19:26:31.548Z"
   },
   {
    "duration": 7,
    "start_time": "2023-06-08T19:26:33.039Z"
   },
   {
    "duration": 10,
    "start_time": "2023-06-08T19:26:36.462Z"
   },
   {
    "duration": 59,
    "start_time": "2023-06-08T19:26:37.907Z"
   },
   {
    "duration": 8,
    "start_time": "2023-06-08T19:26:38.526Z"
   },
   {
    "duration": 6,
    "start_time": "2023-06-08T19:26:44.552Z"
   },
   {
    "duration": 20,
    "start_time": "2023-06-08T19:26:47.299Z"
   },
   {
    "duration": 16,
    "start_time": "2023-06-08T19:26:51.288Z"
   },
   {
    "duration": 15,
    "start_time": "2023-06-08T19:26:52.246Z"
   },
   {
    "duration": 7,
    "start_time": "2023-06-08T19:26:57.569Z"
   },
   {
    "duration": 4,
    "start_time": "2023-06-08T19:27:03.065Z"
   },
   {
    "duration": 69301,
    "start_time": "2023-06-08T19:27:03.786Z"
   },
   {
    "duration": 26879,
    "start_time": "2023-06-08T19:28:13.088Z"
   },
   {
    "duration": 5,
    "start_time": "2023-06-08T19:28:39.969Z"
   },
   {
    "duration": 49142,
    "start_time": "2023-06-08T19:28:39.976Z"
   },
   {
    "duration": 12,
    "start_time": "2023-06-08T19:29:29.120Z"
   },
   {
    "duration": 8,
    "start_time": "2023-06-08T19:29:29.133Z"
   },
   {
    "duration": 12,
    "start_time": "2023-06-08T19:29:29.142Z"
   },
   {
    "duration": 322,
    "start_time": "2023-06-08T19:29:29.155Z"
   },
   {
    "duration": 171,
    "start_time": "2023-06-08T19:29:29.479Z"
   },
   {
    "duration": 208,
    "start_time": "2023-06-08T19:29:29.653Z"
   },
   {
    "duration": 4,
    "start_time": "2023-06-08T19:29:29.863Z"
   },
   {
    "duration": 3,
    "start_time": "2023-06-08T19:30:13.369Z"
   },
   {
    "duration": 45861,
    "start_time": "2023-06-08T19:30:14.311Z"
   },
   {
    "duration": 5,
    "start_time": "2023-06-08T19:31:00.173Z"
   },
   {
    "duration": 46363,
    "start_time": "2023-06-08T19:31:00.179Z"
   },
   {
    "duration": 44831,
    "start_time": "2023-06-08T19:31:46.544Z"
   },
   {
    "duration": 6,
    "start_time": "2023-06-08T19:33:11.506Z"
   },
   {
    "duration": 1029,
    "start_time": "2023-06-08T19:33:32.356Z"
   },
   {
    "duration": 5,
    "start_time": "2023-06-08T19:33:35.889Z"
   },
   {
    "duration": 1312,
    "start_time": "2023-06-08T19:36:53.875Z"
   },
   {
    "duration": 211,
    "start_time": "2023-06-08T19:36:55.189Z"
   },
   {
    "duration": 25,
    "start_time": "2023-06-08T19:36:55.402Z"
   },
   {
    "duration": 15,
    "start_time": "2023-06-08T19:36:55.428Z"
   },
   {
    "duration": 28,
    "start_time": "2023-06-08T19:36:55.444Z"
   },
   {
    "duration": 38,
    "start_time": "2023-06-08T19:36:55.473Z"
   },
   {
    "duration": 25,
    "start_time": "2023-06-08T19:36:55.513Z"
   },
   {
    "duration": 7,
    "start_time": "2023-06-08T19:36:55.539Z"
   },
   {
    "duration": 19,
    "start_time": "2023-06-08T19:36:55.547Z"
   },
   {
    "duration": 91,
    "start_time": "2023-06-08T19:36:55.568Z"
   },
   {
    "duration": 8,
    "start_time": "2023-06-08T19:36:55.661Z"
   },
   {
    "duration": 24,
    "start_time": "2023-06-08T19:36:55.672Z"
   },
   {
    "duration": 36,
    "start_time": "2023-06-08T19:36:55.698Z"
   },
   {
    "duration": 19,
    "start_time": "2023-06-08T19:36:55.736Z"
   },
   {
    "duration": 11,
    "start_time": "2023-06-08T19:36:55.757Z"
   },
   {
    "duration": 7,
    "start_time": "2023-06-08T19:36:55.770Z"
   },
   {
    "duration": 7,
    "start_time": "2023-06-08T19:36:55.779Z"
   },
   {
    "duration": 1707,
    "start_time": "2023-06-09T05:32:24.949Z"
   },
   {
    "duration": 467,
    "start_time": "2023-06-09T05:32:28.949Z"
   },
   {
    "duration": 30,
    "start_time": "2023-06-09T05:32:30.192Z"
   },
   {
    "duration": 19,
    "start_time": "2023-06-09T05:32:30.362Z"
   },
   {
    "duration": 36,
    "start_time": "2023-06-09T05:32:31.037Z"
   },
   {
    "duration": 28,
    "start_time": "2023-06-09T05:32:31.183Z"
   },
   {
    "duration": 33,
    "start_time": "2023-06-09T05:32:31.845Z"
   },
   {
    "duration": 9,
    "start_time": "2023-06-09T05:32:32.263Z"
   },
   {
    "duration": 17,
    "start_time": "2023-06-09T05:32:33.879Z"
   },
   {
    "duration": 83,
    "start_time": "2023-06-09T05:32:34.639Z"
   },
   {
    "duration": 10,
    "start_time": "2023-06-09T05:32:35.471Z"
   },
   {
    "duration": 7,
    "start_time": "2023-06-09T05:32:35.692Z"
   },
   {
    "duration": 27,
    "start_time": "2023-06-09T05:32:36.449Z"
   },
   {
    "duration": 19,
    "start_time": "2023-06-09T05:32:36.792Z"
   },
   {
    "duration": 13,
    "start_time": "2023-06-09T05:32:37.871Z"
   },
   {
    "duration": 8,
    "start_time": "2023-06-09T05:32:39.319Z"
   },
   {
    "duration": 4,
    "start_time": "2023-06-09T05:32:40.249Z"
   },
   {
    "duration": 78874,
    "start_time": "2023-06-09T05:32:40.772Z"
   },
   {
    "duration": 30225,
    "start_time": "2023-06-09T05:33:59.648Z"
   },
   {
    "duration": 6,
    "start_time": "2023-06-09T05:34:29.875Z"
   },
   {
    "duration": 55577,
    "start_time": "2023-06-09T05:34:29.883Z"
   },
   {
    "duration": 124,
    "start_time": "2023-06-09T05:35:25.462Z"
   },
   {
    "duration": 0,
    "start_time": "2023-06-09T05:35:25.588Z"
   },
   {
    "duration": 0,
    "start_time": "2023-06-09T05:35:25.589Z"
   },
   {
    "duration": 9,
    "start_time": "2023-06-09T05:37:08.083Z"
   },
   {
    "duration": 9,
    "start_time": "2023-06-09T05:38:09.241Z"
   },
   {
    "duration": 17,
    "start_time": "2023-06-09T05:39:12.985Z"
   },
   {
    "duration": 22,
    "start_time": "2023-06-09T05:39:33.595Z"
   },
   {
    "duration": 20,
    "start_time": "2023-06-09T05:39:54.840Z"
   },
   {
    "duration": 14,
    "start_time": "2023-06-09T05:41:29.562Z"
   },
   {
    "duration": 37,
    "start_time": "2023-06-09T05:42:11.201Z"
   },
   {
    "duration": 3087,
    "start_time": "2023-06-09T05:42:17.061Z"
   },
   {
    "duration": 116,
    "start_time": "2023-06-09T05:42:20.150Z"
   },
   {
    "duration": 2272,
    "start_time": "2023-06-09T05:42:28.181Z"
   },
   {
    "duration": 2524,
    "start_time": "2023-06-09T05:43:00.454Z"
   },
   {
    "duration": 2544,
    "start_time": "2023-06-09T05:43:15.435Z"
   },
   {
    "duration": 59,
    "start_time": "2023-06-09T05:44:17.351Z"
   },
   {
    "duration": 49,
    "start_time": "2023-06-09T05:44:34.047Z"
   },
   {
    "duration": 16,
    "start_time": "2023-06-09T05:44:44.600Z"
   },
   {
    "duration": 15,
    "start_time": "2023-06-09T05:44:48.193Z"
   },
   {
    "duration": 26,
    "start_time": "2023-06-09T05:45:09.324Z"
   },
   {
    "duration": 26,
    "start_time": "2023-06-09T05:45:23.521Z"
   },
   {
    "duration": 146,
    "start_time": "2023-06-09T05:45:33.982Z"
   },
   {
    "duration": 265,
    "start_time": "2023-06-09T05:45:48.047Z"
   },
   {
    "duration": 29,
    "start_time": "2023-06-09T05:46:38.136Z"
   },
   {
    "duration": 27,
    "start_time": "2023-06-09T05:47:41.652Z"
   },
   {
    "duration": 370,
    "start_time": "2023-06-09T05:47:52.165Z"
   },
   {
    "duration": 16,
    "start_time": "2023-06-09T05:48:05.405Z"
   },
   {
    "duration": 284,
    "start_time": "2023-06-09T06:01:29.828Z"
   },
   {
    "duration": 241,
    "start_time": "2023-06-09T06:04:13.405Z"
   },
   {
    "duration": 224,
    "start_time": "2023-06-09T06:08:06.265Z"
   },
   {
    "duration": 227,
    "start_time": "2023-06-09T06:10:26.123Z"
   },
   {
    "duration": 1531,
    "start_time": "2023-06-09T06:13:50.978Z"
   },
   {
    "duration": 319,
    "start_time": "2023-06-09T06:13:52.513Z"
   },
   {
    "duration": 36,
    "start_time": "2023-06-09T06:13:52.834Z"
   },
   {
    "duration": 21,
    "start_time": "2023-06-09T06:13:52.872Z"
   },
   {
    "duration": 55,
    "start_time": "2023-06-09T06:13:52.895Z"
   },
   {
    "duration": 34,
    "start_time": "2023-06-09T06:13:52.952Z"
   },
   {
    "duration": 58,
    "start_time": "2023-06-09T06:13:52.988Z"
   },
   {
    "duration": 12,
    "start_time": "2023-06-09T06:13:53.048Z"
   },
   {
    "duration": 30,
    "start_time": "2023-06-09T06:13:53.062Z"
   },
   {
    "duration": 93,
    "start_time": "2023-06-09T06:13:53.094Z"
   },
   {
    "duration": 10,
    "start_time": "2023-06-09T06:13:53.189Z"
   },
   {
    "duration": 5,
    "start_time": "2023-06-09T06:13:53.201Z"
   },
   {
    "duration": 50,
    "start_time": "2023-06-09T06:13:53.207Z"
   },
   {
    "duration": 18,
    "start_time": "2023-06-09T06:13:53.261Z"
   },
   {
    "duration": 13,
    "start_time": "2023-06-09T06:13:53.280Z"
   },
   {
    "duration": 16,
    "start_time": "2023-06-09T06:13:53.294Z"
   },
   {
    "duration": 10,
    "start_time": "2023-06-09T06:13:53.312Z"
   },
   {
    "duration": 80350,
    "start_time": "2023-06-09T06:13:53.324Z"
   },
   {
    "duration": 31870,
    "start_time": "2023-06-09T06:15:13.676Z"
   },
   {
    "duration": 6,
    "start_time": "2023-06-09T06:15:45.548Z"
   },
   {
    "duration": 57204,
    "start_time": "2023-06-09T06:15:45.556Z"
   },
   {
    "duration": 31,
    "start_time": "2023-06-09T06:16:42.762Z"
   },
   {
    "duration": 2985,
    "start_time": "2023-06-09T06:16:42.795Z"
   },
   {
    "duration": 102,
    "start_time": "2023-06-09T06:16:45.782Z"
   },
   {
    "duration": 16,
    "start_time": "2023-06-09T06:16:45.886Z"
   },
   {
    "duration": 227,
    "start_time": "2023-06-09T06:16:45.903Z"
   },
   {
    "duration": 283,
    "start_time": "2023-06-09T06:16:46.132Z"
   },
   {
    "duration": 237,
    "start_time": "2023-06-09T06:16:46.417Z"
   },
   {
    "duration": 221,
    "start_time": "2023-06-09T06:16:46.655Z"
   },
   {
    "duration": 218,
    "start_time": "2023-06-09T06:16:46.878Z"
   },
   {
    "duration": 94,
    "start_time": "2023-06-09T06:16:47.098Z"
   },
   {
    "duration": 0,
    "start_time": "2023-06-09T06:16:47.195Z"
   },
   {
    "duration": 0,
    "start_time": "2023-06-09T06:16:47.196Z"
   },
   {
    "duration": 0,
    "start_time": "2023-06-09T06:16:47.197Z"
   },
   {
    "duration": 0,
    "start_time": "2023-06-09T06:16:47.199Z"
   },
   {
    "duration": 0,
    "start_time": "2023-06-09T06:16:47.200Z"
   },
   {
    "duration": 0,
    "start_time": "2023-06-09T06:16:47.201Z"
   },
   {
    "duration": 0,
    "start_time": "2023-06-09T06:16:47.202Z"
   },
   {
    "duration": 0,
    "start_time": "2023-06-09T06:16:47.203Z"
   },
   {
    "duration": 0,
    "start_time": "2023-06-09T06:16:47.204Z"
   },
   {
    "duration": 0,
    "start_time": "2023-06-09T06:16:47.205Z"
   },
   {
    "duration": 0,
    "start_time": "2023-06-09T06:16:47.206Z"
   },
   {
    "duration": 0,
    "start_time": "2023-06-09T06:16:47.207Z"
   },
   {
    "duration": 0,
    "start_time": "2023-06-09T06:16:47.209Z"
   },
   {
    "duration": 0,
    "start_time": "2023-06-09T06:16:47.210Z"
   },
   {
    "duration": 0,
    "start_time": "2023-06-09T06:16:47.211Z"
   },
   {
    "duration": 0,
    "start_time": "2023-06-09T06:16:47.212Z"
   },
   {
    "duration": 0,
    "start_time": "2023-06-09T06:16:47.213Z"
   },
   {
    "duration": 0,
    "start_time": "2023-06-09T06:16:47.214Z"
   },
   {
    "duration": 0,
    "start_time": "2023-06-09T06:16:47.215Z"
   },
   {
    "duration": 0,
    "start_time": "2023-06-09T06:16:47.216Z"
   },
   {
    "duration": 0,
    "start_time": "2023-06-09T06:16:47.217Z"
   },
   {
    "duration": 0,
    "start_time": "2023-06-09T06:16:47.217Z"
   },
   {
    "duration": 0,
    "start_time": "2023-06-09T06:16:47.218Z"
   },
   {
    "duration": 0,
    "start_time": "2023-06-09T06:16:47.219Z"
   },
   {
    "duration": 0,
    "start_time": "2023-06-09T06:16:47.220Z"
   },
   {
    "duration": 0,
    "start_time": "2023-06-09T06:16:47.221Z"
   },
   {
    "duration": 0,
    "start_time": "2023-06-09T06:16:47.222Z"
   },
   {
    "duration": 0,
    "start_time": "2023-06-09T06:16:47.223Z"
   },
   {
    "duration": 0,
    "start_time": "2023-06-09T06:16:47.224Z"
   },
   {
    "duration": 115,
    "start_time": "2023-06-09T06:17:00.832Z"
   },
   {
    "duration": 9,
    "start_time": "2023-06-09T06:17:05.872Z"
   },
   {
    "duration": 9,
    "start_time": "2023-06-09T06:17:06.599Z"
   },
   {
    "duration": 6604,
    "start_time": "2023-06-09T06:17:08.272Z"
   },
   {
    "duration": 6292,
    "start_time": "2023-06-09T06:17:26.200Z"
   },
   {
    "duration": 44300,
    "start_time": "2023-06-09T06:17:59.422Z"
   },
   {
    "duration": 125,
    "start_time": "2023-06-09T06:30:18.577Z"
   },
   {
    "duration": 44542,
    "start_time": "2023-06-09T06:30:25.309Z"
   },
   {
    "duration": 25772,
    "start_time": "2023-06-09T06:31:47.718Z"
   },
   {
    "duration": 231,
    "start_time": "2023-06-09T06:37:51.975Z"
   },
   {
    "duration": 207,
    "start_time": "2023-06-09T06:39:59.239Z"
   },
   {
    "duration": 2052,
    "start_time": "2023-06-09T06:43:02.588Z"
   },
   {
    "duration": 2102,
    "start_time": "2023-06-09T06:43:29.120Z"
   },
   {
    "duration": 5800,
    "start_time": "2023-06-09T06:43:36.702Z"
   },
   {
    "duration": 5870,
    "start_time": "2023-06-09T06:43:50.670Z"
   },
   {
    "duration": 14,
    "start_time": "2023-06-09T06:45:20.122Z"
   },
   {
    "duration": 15,
    "start_time": "2023-06-09T06:48:27.357Z"
   },
   {
    "duration": 12937,
    "start_time": "2023-06-09T06:51:42.773Z"
   },
   {
    "duration": 214,
    "start_time": "2023-06-09T06:52:05.145Z"
   },
   {
    "duration": 13349,
    "start_time": "2023-06-09T06:52:17.106Z"
   },
   {
    "duration": 237,
    "start_time": "2023-06-09T06:54:56.297Z"
   },
   {
    "duration": 100,
    "start_time": "2023-06-09T06:55:11.592Z"
   },
   {
    "duration": 17,
    "start_time": "2023-06-09T06:55:42.672Z"
   },
   {
    "duration": 353,
    "start_time": "2023-06-09T06:55:42.879Z"
   },
   {
    "duration": 184,
    "start_time": "2023-06-09T06:55:43.234Z"
   },
   {
    "duration": 229,
    "start_time": "2023-06-09T06:55:43.420Z"
   },
   {
    "duration": 6,
    "start_time": "2023-06-09T06:55:44.129Z"
   },
   {
    "duration": 3,
    "start_time": "2023-06-09T06:55:44.344Z"
   },
   {
    "duration": 54562,
    "start_time": "2023-06-09T06:55:56.635Z"
   },
   {
    "duration": 6,
    "start_time": "2023-06-09T06:56:51.199Z"
   },
   {
    "duration": 54295,
    "start_time": "2023-06-09T06:56:51.207Z"
   },
   {
    "duration": 53644,
    "start_time": "2023-06-09T06:57:45.504Z"
   },
   {
    "duration": 1331,
    "start_time": "2023-06-09T06:58:39.150Z"
   },
   {
    "duration": 72,
    "start_time": "2023-06-09T06:58:40.484Z"
   },
   {
    "duration": 8,
    "start_time": "2023-06-09T06:58:40.558Z"
   },
   {
    "duration": 44,
    "start_time": "2023-06-09T06:58:40.568Z"
   },
   {
    "duration": 39,
    "start_time": "2023-06-09T06:59:51.253Z"
   },
   {
    "duration": 35,
    "start_time": "2023-06-09T06:59:57.821Z"
   },
   {
    "duration": 6,
    "start_time": "2023-06-09T07:22:13.799Z"
   },
   {
    "duration": 18,
    "start_time": "2023-06-09T07:28:29.851Z"
   },
   {
    "duration": 76567,
    "start_time": "2023-06-09T07:29:12.846Z"
   },
   {
    "duration": 13,
    "start_time": "2023-06-09T07:35:31.507Z"
   },
   {
    "duration": 27523,
    "start_time": "2023-06-09T07:35:52.650Z"
   },
   {
    "duration": 27245,
    "start_time": "2023-06-09T07:37:21.926Z"
   },
   {
    "duration": 14,
    "start_time": "2023-06-09T07:39:32.798Z"
   },
   {
    "duration": 7731,
    "start_time": "2023-06-09T07:39:50.262Z"
   },
   {
    "duration": 8145,
    "start_time": "2023-06-09T07:40:15.614Z"
   },
   {
    "duration": 79487,
    "start_time": "2023-06-09T07:40:57.362Z"
   },
   {
    "duration": 79242,
    "start_time": "2023-06-09T07:42:53.760Z"
   },
   {
    "duration": 11,
    "start_time": "2023-06-09T07:45:11.465Z"
   },
   {
    "duration": 10,
    "start_time": "2023-06-09T07:45:11.901Z"
   },
   {
    "duration": 4936,
    "start_time": "2023-06-09T07:45:28.517Z"
   },
   {
    "duration": 75246,
    "start_time": "2023-06-09T07:47:40.336Z"
   },
   {
    "duration": 73247,
    "start_time": "2023-06-09T07:49:08.906Z"
   },
   {
    "duration": 4632,
    "start_time": "2023-06-09T07:51:36.016Z"
   },
   {
    "duration": 108,
    "start_time": "2023-06-09T07:52:06.729Z"
   },
   {
    "duration": 5,
    "start_time": "2023-06-09T07:52:48.753Z"
   },
   {
    "duration": 499,
    "start_time": "2023-06-09T07:53:02.752Z"
   },
   {
    "duration": 436,
    "start_time": "2023-06-09T07:53:19.627Z"
   },
   {
    "duration": 366,
    "start_time": "2023-06-09T07:53:29.786Z"
   },
   {
    "duration": 485,
    "start_time": "2023-06-09T07:53:33.565Z"
   },
   {
    "duration": 4785,
    "start_time": "2023-06-09T07:55:10.167Z"
   },
   {
    "duration": 73564,
    "start_time": "2023-06-09T07:59:04.231Z"
   },
   {
    "duration": 13,
    "start_time": "2023-06-09T08:01:34.194Z"
   },
   {
    "duration": 115,
    "start_time": "2023-06-09T08:04:23.335Z"
   },
   {
    "duration": 94,
    "start_time": "2023-06-09T08:04:33.389Z"
   },
   {
    "duration": 86,
    "start_time": "2023-06-09T08:04:46.360Z"
   },
   {
    "duration": 65214,
    "start_time": "2023-06-09T08:04:58.562Z"
   },
   {
    "duration": 70133,
    "start_time": "2023-06-09T08:06:20.491Z"
   },
   {
    "duration": 4661,
    "start_time": "2023-06-09T08:09:44.292Z"
   },
   {
    "duration": 19,
    "start_time": "2023-06-09T08:10:30.428Z"
   },
   {
    "duration": 71714,
    "start_time": "2023-06-09T08:10:54.909Z"
   },
   {
    "duration": 4,
    "start_time": "2023-06-09T08:13:01.642Z"
   },
   {
    "duration": 4193,
    "start_time": "2023-06-09T08:13:03.495Z"
   },
   {
    "duration": 1,
    "start_time": "2023-06-09T08:13:07.689Z"
   },
   {
    "duration": 0,
    "start_time": "2023-06-09T08:13:07.691Z"
   },
   {
    "duration": 5,
    "start_time": "2023-06-09T08:13:08.311Z"
   },
   {
    "duration": 5,
    "start_time": "2023-06-09T08:13:56.468Z"
   },
   {
    "duration": 5,
    "start_time": "2023-06-09T08:14:03.113Z"
   },
   {
    "duration": 5,
    "start_time": "2023-06-09T08:14:16.910Z"
   },
   {
    "duration": 5,
    "start_time": "2023-06-09T08:15:16.783Z"
   },
   {
    "duration": 6,
    "start_time": "2023-06-09T08:15:28.503Z"
   },
   {
    "duration": 7,
    "start_time": "2023-06-09T08:17:33.448Z"
   },
   {
    "duration": 9,
    "start_time": "2023-06-09T08:17:40.674Z"
   },
   {
    "duration": 3,
    "start_time": "2023-06-09T08:17:51.488Z"
   },
   {
    "duration": 5,
    "start_time": "2023-06-09T08:17:52.158Z"
   },
   {
    "duration": 19172,
    "start_time": "2023-06-09T08:17:55.785Z"
   },
   {
    "duration": 4,
    "start_time": "2023-06-09T08:21:46.313Z"
   },
   {
    "duration": 5,
    "start_time": "2023-06-09T08:21:52.499Z"
   },
   {
    "duration": 6,
    "start_time": "2023-06-09T08:22:13.152Z"
   },
   {
    "duration": 5,
    "start_time": "2023-06-09T08:22:33.496Z"
   },
   {
    "duration": 2374,
    "start_time": "2023-06-09T08:22:36.920Z"
   },
   {
    "duration": 7,
    "start_time": "2023-06-09T08:24:22.829Z"
   },
   {
    "duration": 34,
    "start_time": "2023-06-09T08:24:44.357Z"
   },
   {
    "duration": 5,
    "start_time": "2023-06-09T08:25:18.371Z"
   },
   {
    "duration": 5,
    "start_time": "2023-06-09T08:25:27.144Z"
   },
   {
    "duration": 6,
    "start_time": "2023-06-09T08:25:36.312Z"
   },
   {
    "duration": 5,
    "start_time": "2023-06-09T08:25:53.253Z"
   },
   {
    "duration": 1535,
    "start_time": "2023-06-09T08:26:20.099Z"
   },
   {
    "duration": 291,
    "start_time": "2023-06-09T08:26:21.637Z"
   },
   {
    "duration": 1728,
    "start_time": "2023-06-09T08:26:40.024Z"
   },
   {
    "duration": 298,
    "start_time": "2023-06-09T08:26:41.754Z"
   },
   {
    "duration": 34,
    "start_time": "2023-06-09T08:26:42.054Z"
   },
   {
    "duration": 20,
    "start_time": "2023-06-09T08:26:42.091Z"
   },
   {
    "duration": 63,
    "start_time": "2023-06-09T08:26:42.113Z"
   },
   {
    "duration": 31,
    "start_time": "2023-06-09T08:26:42.178Z"
   },
   {
    "duration": 52,
    "start_time": "2023-06-09T08:26:42.210Z"
   },
   {
    "duration": 8,
    "start_time": "2023-06-09T08:26:42.265Z"
   },
   {
    "duration": 27,
    "start_time": "2023-06-09T08:26:42.276Z"
   },
   {
    "duration": 112,
    "start_time": "2023-06-09T08:26:42.306Z"
   },
   {
    "duration": 26,
    "start_time": "2023-06-09T08:26:42.420Z"
   },
   {
    "duration": 17,
    "start_time": "2023-06-09T08:26:42.448Z"
   },
   {
    "duration": 52,
    "start_time": "2023-06-09T08:26:42.468Z"
   },
   {
    "duration": 31,
    "start_time": "2023-06-09T08:26:42.522Z"
   },
   {
    "duration": 10,
    "start_time": "2023-06-09T08:26:42.555Z"
   },
   {
    "duration": 40,
    "start_time": "2023-06-09T08:26:42.570Z"
   },
   {
    "duration": 20,
    "start_time": "2023-06-09T08:26:42.613Z"
   },
   {
    "duration": 33,
    "start_time": "2023-06-09T08:26:42.635Z"
   },
   {
    "duration": 81130,
    "start_time": "2023-06-09T08:26:42.670Z"
   },
   {
    "duration": 32353,
    "start_time": "2023-06-09T08:28:03.802Z"
   },
   {
    "duration": 6,
    "start_time": "2023-06-09T08:28:36.157Z"
   },
   {
    "duration": 59789,
    "start_time": "2023-06-09T08:28:36.165Z"
   },
   {
    "duration": 31,
    "start_time": "2023-06-09T08:29:35.956Z"
   },
   {
    "duration": 3375,
    "start_time": "2023-06-09T08:29:35.989Z"
   },
   {
    "duration": 121,
    "start_time": "2023-06-09T08:29:39.366Z"
   },
   {
    "duration": 29,
    "start_time": "2023-06-09T08:29:39.493Z"
   },
   {
    "duration": 254,
    "start_time": "2023-06-09T08:29:39.546Z"
   },
   {
    "duration": 310,
    "start_time": "2023-06-09T08:29:39.801Z"
   },
   {
    "duration": 269,
    "start_time": "2023-06-09T08:29:40.113Z"
   },
   {
    "duration": 233,
    "start_time": "2023-06-09T08:29:40.384Z"
   },
   {
    "duration": 240,
    "start_time": "2023-06-09T08:29:40.619Z"
   },
   {
    "duration": 28092,
    "start_time": "2023-06-09T08:29:40.861Z"
   },
   {
    "duration": 22,
    "start_time": "2023-06-09T08:30:08.955Z"
   },
   {
    "duration": 13673,
    "start_time": "2023-06-09T08:30:08.979Z"
   },
   {
    "duration": 268,
    "start_time": "2023-06-09T08:30:22.654Z"
   },
   {
    "duration": 8,
    "start_time": "2023-06-09T08:30:22.923Z"
   },
   {
    "duration": 35,
    "start_time": "2023-06-09T08:30:22.933Z"
   },
   {
    "duration": 35,
    "start_time": "2023-06-09T08:30:22.970Z"
   },
   {
    "duration": 373,
    "start_time": "2023-06-09T08:30:23.007Z"
   },
   {
    "duration": 180,
    "start_time": "2023-06-09T08:30:23.382Z"
   },
   {
    "duration": 225,
    "start_time": "2023-06-09T08:30:23.564Z"
   },
   {
    "duration": 4,
    "start_time": "2023-06-09T08:30:23.791Z"
   },
   {
    "duration": 56321,
    "start_time": "2023-06-09T08:30:23.797Z"
   },
   {
    "duration": 6,
    "start_time": "2023-06-09T08:31:20.120Z"
   },
   {
    "duration": 58451,
    "start_time": "2023-06-09T08:31:20.128Z"
   },
   {
    "duration": 58137,
    "start_time": "2023-06-09T08:32:18.582Z"
   },
   {
    "duration": 1627,
    "start_time": "2023-06-09T08:33:16.721Z"
   },
   {
    "duration": 76,
    "start_time": "2023-06-09T08:33:18.353Z"
   },
   {
    "duration": 8,
    "start_time": "2023-06-09T08:33:18.431Z"
   },
   {
    "duration": 52,
    "start_time": "2023-06-09T08:33:18.446Z"
   },
   {
    "duration": 39,
    "start_time": "2023-06-09T08:33:18.500Z"
   },
   {
    "duration": 76489,
    "start_time": "2023-06-09T08:33:18.541Z"
   },
   {
    "duration": 8224,
    "start_time": "2023-06-09T08:34:35.032Z"
   },
   {
    "duration": 84222,
    "start_time": "2023-06-09T08:34:43.262Z"
   },
   {
    "duration": 5291,
    "start_time": "2023-06-09T08:36:07.486Z"
   },
   {
    "duration": 0,
    "start_time": "2023-06-09T08:36:12.780Z"
   },
   {
    "duration": 0,
    "start_time": "2023-06-09T08:36:12.782Z"
   },
   {
    "duration": 0,
    "start_time": "2023-06-09T08:36:12.784Z"
   },
   {
    "duration": 0,
    "start_time": "2023-06-09T08:36:12.785Z"
   },
   {
    "duration": 0,
    "start_time": "2023-06-09T08:36:12.787Z"
   },
   {
    "duration": 0,
    "start_time": "2023-06-09T08:36:12.788Z"
   },
   {
    "duration": 0,
    "start_time": "2023-06-09T08:36:12.789Z"
   },
   {
    "duration": 0,
    "start_time": "2023-06-09T08:36:12.791Z"
   },
   {
    "duration": 6,
    "start_time": "2023-06-09T08:40:50.380Z"
   },
   {
    "duration": 5,
    "start_time": "2023-06-09T08:40:56.928Z"
   },
   {
    "duration": 6,
    "start_time": "2023-06-09T08:41:31.198Z"
   },
   {
    "duration": 4,
    "start_time": "2023-06-09T08:41:39.031Z"
   },
   {
    "duration": 4,
    "start_time": "2023-06-09T08:42:23.809Z"
   },
   {
    "duration": 4,
    "start_time": "2023-06-09T08:42:30.828Z"
   },
   {
    "duration": 5,
    "start_time": "2023-06-09T08:42:55.917Z"
   },
   {
    "duration": 6,
    "start_time": "2023-06-09T08:43:00.879Z"
   },
   {
    "duration": 13,
    "start_time": "2023-06-09T08:45:07.779Z"
   },
   {
    "duration": 19,
    "start_time": "2023-06-09T08:45:25.240Z"
   },
   {
    "duration": 1762,
    "start_time": "2023-06-09T08:45:57.664Z"
   },
   {
    "duration": 379,
    "start_time": "2023-06-09T08:45:59.428Z"
   },
   {
    "duration": 48,
    "start_time": "2023-06-09T08:45:59.808Z"
   },
   {
    "duration": 41,
    "start_time": "2023-06-09T08:45:59.859Z"
   },
   {
    "duration": 60,
    "start_time": "2023-06-09T08:45:59.903Z"
   },
   {
    "duration": 66,
    "start_time": "2023-06-09T08:45:59.965Z"
   },
   {
    "duration": 84,
    "start_time": "2023-06-09T08:46:00.034Z"
   },
   {
    "duration": 14,
    "start_time": "2023-06-09T08:46:00.120Z"
   },
   {
    "duration": 79,
    "start_time": "2023-06-09T08:46:00.136Z"
   },
   {
    "duration": 184,
    "start_time": "2023-06-09T08:46:00.217Z"
   },
   {
    "duration": 37,
    "start_time": "2023-06-09T08:46:00.403Z"
   },
   {
    "duration": 101,
    "start_time": "2023-06-09T08:46:00.442Z"
   },
   {
    "duration": 104,
    "start_time": "2023-06-09T08:46:00.545Z"
   },
   {
    "duration": 76,
    "start_time": "2023-06-09T08:46:00.657Z"
   },
   {
    "duration": 87,
    "start_time": "2023-06-09T08:46:00.735Z"
   },
   {
    "duration": 80,
    "start_time": "2023-06-09T08:46:00.824Z"
   },
   {
    "duration": 122,
    "start_time": "2023-06-09T08:46:00.907Z"
   },
   {
    "duration": 86857,
    "start_time": "2023-06-09T08:46:01.031Z"
   },
   {
    "duration": 34054,
    "start_time": "2023-06-09T08:47:27.890Z"
   },
   {
    "duration": 20,
    "start_time": "2023-06-09T08:48:01.947Z"
   },
   {
    "duration": 62654,
    "start_time": "2023-06-09T08:48:01.969Z"
   },
   {
    "duration": 49,
    "start_time": "2023-06-09T08:49:04.624Z"
   },
   {
    "duration": 3663,
    "start_time": "2023-06-09T08:49:04.681Z"
   },
   {
    "duration": 141,
    "start_time": "2023-06-09T08:49:08.347Z"
   },
   {
    "duration": 18,
    "start_time": "2023-06-09T08:49:08.490Z"
   },
   {
    "duration": 290,
    "start_time": "2023-06-09T08:49:08.510Z"
   },
   {
    "duration": 354,
    "start_time": "2023-06-09T08:49:08.802Z"
   },
   {
    "duration": 340,
    "start_time": "2023-06-09T08:49:09.161Z"
   },
   {
    "duration": 386,
    "start_time": "2023-06-09T08:49:09.503Z"
   },
   {
    "duration": 249,
    "start_time": "2023-06-09T08:49:09.891Z"
   },
   {
    "duration": 32559,
    "start_time": "2023-06-09T08:49:10.150Z"
   },
   {
    "duration": 17,
    "start_time": "2023-06-09T08:49:42.712Z"
   },
   {
    "duration": 15731,
    "start_time": "2023-06-09T08:49:42.732Z"
   },
   {
    "duration": 125,
    "start_time": "2023-06-09T08:49:58.465Z"
   },
   {
    "duration": 7,
    "start_time": "2023-06-09T08:49:58.592Z"
   },
   {
    "duration": 41,
    "start_time": "2023-06-09T08:49:58.601Z"
   },
   {
    "duration": 57,
    "start_time": "2023-06-09T08:49:58.650Z"
   },
   {
    "duration": 60,
    "start_time": "2023-06-09T08:49:58.709Z"
   },
   {
    "duration": 387,
    "start_time": "2023-06-09T08:49:58.771Z"
   },
   {
    "duration": 194,
    "start_time": "2023-06-09T08:49:59.160Z"
   },
   {
    "duration": 216,
    "start_time": "2023-06-09T08:49:59.358Z"
   },
   {
    "duration": 10,
    "start_time": "2023-06-09T08:49:59.575Z"
   },
   {
    "duration": 57482,
    "start_time": "2023-06-09T08:49:59.588Z"
   },
   {
    "duration": 8,
    "start_time": "2023-06-09T08:50:57.071Z"
   },
   {
    "duration": 60067,
    "start_time": "2023-06-09T08:50:57.086Z"
   },
   {
    "duration": 56533,
    "start_time": "2023-06-09T08:51:57.155Z"
   },
   {
    "duration": 1617,
    "start_time": "2023-06-09T08:52:53.690Z"
   },
   {
    "duration": 90,
    "start_time": "2023-06-09T08:52:55.309Z"
   },
   {
    "duration": 8,
    "start_time": "2023-06-09T08:52:55.401Z"
   },
   {
    "duration": 29,
    "start_time": "2023-06-09T08:52:55.411Z"
   },
   {
    "duration": 204,
    "start_time": "2023-06-09T08:52:55.443Z"
   },
   {
    "duration": 81092,
    "start_time": "2023-06-09T08:52:55.649Z"
   },
   {
    "duration": 8664,
    "start_time": "2023-06-09T08:54:16.746Z"
   },
   {
    "duration": 91030,
    "start_time": "2023-06-09T08:54:25.412Z"
   },
   {
    "duration": 3,
    "start_time": "2023-06-09T08:55:56.446Z"
   },
   {
    "duration": 5799,
    "start_time": "2023-06-09T08:55:56.452Z"
   },
   {
    "duration": 11,
    "start_time": "2023-06-09T08:56:02.254Z"
   },
   {
    "duration": 128,
    "start_time": "2023-06-09T08:56:02.272Z"
   },
   {
    "duration": 2405,
    "start_time": "2023-06-09T08:56:02.403Z"
   },
   {
    "duration": 0,
    "start_time": "2023-06-09T08:56:04.811Z"
   },
   {
    "duration": 0,
    "start_time": "2023-06-09T08:56:04.819Z"
   },
   {
    "duration": 0,
    "start_time": "2023-06-09T08:56:04.821Z"
   },
   {
    "duration": 0,
    "start_time": "2023-06-09T08:56:04.822Z"
   },
   {
    "duration": 10,
    "start_time": "2023-06-09T08:56:39.043Z"
   },
   {
    "duration": 15,
    "start_time": "2023-06-09T08:56:47.713Z"
   },
   {
    "duration": 6,
    "start_time": "2023-06-09T08:56:53.124Z"
   },
   {
    "duration": 14,
    "start_time": "2023-06-09T08:57:01.328Z"
   },
   {
    "duration": 2068,
    "start_time": "2023-06-09T08:57:24.232Z"
   },
   {
    "duration": 5,
    "start_time": "2023-06-09T08:58:11.777Z"
   },
   {
    "duration": 15,
    "start_time": "2023-06-09T08:58:19.587Z"
   },
   {
    "duration": 13,
    "start_time": "2023-06-09T08:58:34.522Z"
   },
   {
    "duration": 16,
    "start_time": "2023-06-09T08:58:38.880Z"
   },
   {
    "duration": 5,
    "start_time": "2023-06-09T08:58:53.930Z"
   },
   {
    "duration": 14,
    "start_time": "2023-06-09T08:59:17.895Z"
   },
   {
    "duration": 19,
    "start_time": "2023-06-09T08:59:23.646Z"
   },
   {
    "duration": 25,
    "start_time": "2023-06-09T08:59:27.041Z"
   },
   {
    "duration": 2743,
    "start_time": "2023-06-09T08:59:34.891Z"
   },
   {
    "duration": 5,
    "start_time": "2023-06-09T08:59:56.201Z"
   },
   {
    "duration": 19,
    "start_time": "2023-06-09T08:59:56.785Z"
   },
   {
    "duration": 4,
    "start_time": "2023-06-09T09:00:10.186Z"
   },
   {
    "duration": 4286,
    "start_time": "2023-06-09T09:00:15.507Z"
   },
   {
    "duration": 5180,
    "start_time": "2023-06-09T09:00:23.586Z"
   },
   {
    "duration": 2728,
    "start_time": "2023-06-09T09:01:13.893Z"
   },
   {
    "duration": 2316,
    "start_time": "2023-06-09T09:02:46.297Z"
   },
   {
    "duration": 114,
    "start_time": "2023-06-09T09:02:58.008Z"
   },
   {
    "duration": 149,
    "start_time": "2023-06-09T09:03:05.978Z"
   },
   {
    "duration": 2847,
    "start_time": "2023-06-09T09:03:16.775Z"
   },
   {
    "duration": 5,
    "start_time": "2023-06-09T09:03:37.421Z"
   },
   {
    "duration": 2011,
    "start_time": "2023-06-09T09:03:45.300Z"
   },
   {
    "duration": 9,
    "start_time": "2023-06-09T09:04:24.675Z"
   },
   {
    "duration": 3374,
    "start_time": "2023-06-09T09:04:36.095Z"
   },
   {
    "duration": 30,
    "start_time": "2023-06-09T09:04:52.991Z"
   },
   {
    "duration": 4,
    "start_time": "2023-06-09T09:05:21.521Z"
   },
   {
    "duration": 20,
    "start_time": "2023-06-09T09:05:29.365Z"
   },
   {
    "duration": 11,
    "start_time": "2023-06-09T09:05:39.376Z"
   },
   {
    "duration": 173,
    "start_time": "2023-06-09T09:05:42.660Z"
   },
   {
    "duration": 11,
    "start_time": "2023-06-09T09:06:05.175Z"
   },
   {
    "duration": 5288,
    "start_time": "2023-06-09T09:06:13.089Z"
   },
   {
    "duration": 51426,
    "start_time": "2023-06-09T09:06:31.981Z"
   },
   {
    "duration": 4,
    "start_time": "2023-06-09T09:07:57.703Z"
   },
   {
    "duration": 48981,
    "start_time": "2023-06-09T09:08:00.496Z"
   },
   {
    "duration": 15,
    "start_time": "2023-06-09T09:08:52.698Z"
   },
   {
    "duration": 38,
    "start_time": "2023-06-09T09:08:54.318Z"
   },
   {
    "duration": 52,
    "start_time": "2023-06-09T09:09:10.722Z"
   },
   {
    "duration": 12,
    "start_time": "2023-06-09T09:09:38.521Z"
   },
   {
    "duration": 27,
    "start_time": "2023-06-09T09:09:41.592Z"
   },
   {
    "duration": 14,
    "start_time": "2023-06-09T09:10:08.875Z"
   },
   {
    "duration": 17,
    "start_time": "2023-06-09T09:10:40.665Z"
   },
   {
    "duration": 17,
    "start_time": "2023-06-09T09:11:06.790Z"
   },
   {
    "duration": 6,
    "start_time": "2023-06-09T09:11:10.520Z"
   },
   {
    "duration": 14945,
    "start_time": "2023-06-09T09:12:41.667Z"
   },
   {
    "duration": 4,
    "start_time": "2023-06-09T09:13:14.802Z"
   },
   {
    "duration": 4,
    "start_time": "2023-06-09T09:13:14.992Z"
   },
   {
    "duration": 4,
    "start_time": "2023-06-09T09:13:15.194Z"
   },
   {
    "duration": 7,
    "start_time": "2023-06-09T09:13:15.369Z"
   },
   {
    "duration": 897,
    "start_time": "2023-06-09T09:13:15.504Z"
   },
   {
    "duration": 0,
    "start_time": "2023-06-09T09:13:16.403Z"
   },
   {
    "duration": 0,
    "start_time": "2023-06-09T09:13:16.406Z"
   },
   {
    "duration": 18,
    "start_time": "2023-06-09T09:13:16.408Z"
   },
   {
    "duration": 6,
    "start_time": "2023-06-09T09:13:18.782Z"
   },
   {
    "duration": 14655,
    "start_time": "2023-06-09T09:13:24.013Z"
   },
   {
    "duration": 10,
    "start_time": "2023-06-09T09:14:53.985Z"
   },
   {
    "duration": 16,
    "start_time": "2023-06-09T09:15:02.549Z"
   },
   {
    "duration": 15,
    "start_time": "2023-06-09T09:15:03.188Z"
   },
   {
    "duration": 404,
    "start_time": "2023-06-09T09:15:41.378Z"
   },
   {
    "duration": 35,
    "start_time": "2023-06-09T09:15:48.471Z"
   },
   {
    "duration": 27,
    "start_time": "2023-06-09T09:15:59.329Z"
   },
   {
    "duration": 45,
    "start_time": "2023-06-09T09:16:01.934Z"
   },
   {
    "duration": 16508,
    "start_time": "2023-06-09T09:17:39.608Z"
   },
   {
    "duration": 16,
    "start_time": "2023-06-09T09:21:57.388Z"
   },
   {
    "duration": 23,
    "start_time": "2023-06-09T09:25:22.802Z"
   },
   {
    "duration": 11,
    "start_time": "2023-06-09T09:25:55.369Z"
   },
   {
    "duration": 228,
    "start_time": "2023-06-09T09:26:25.811Z"
   },
   {
    "duration": 29,
    "start_time": "2023-06-09T09:27:04.733Z"
   },
   {
    "duration": 21,
    "start_time": "2023-06-09T09:28:40.139Z"
   },
   {
    "duration": 33,
    "start_time": "2023-06-09T09:28:56.234Z"
   },
   {
    "duration": 25,
    "start_time": "2023-06-09T09:29:15.000Z"
   },
   {
    "duration": 27,
    "start_time": "2023-06-09T09:30:06.716Z"
   },
   {
    "duration": 19,
    "start_time": "2023-06-09T09:30:56.124Z"
   },
   {
    "duration": 12,
    "start_time": "2023-06-09T09:33:16.432Z"
   },
   {
    "duration": 14,
    "start_time": "2023-06-09T09:33:27.605Z"
   },
   {
    "duration": 151,
    "start_time": "2023-06-09T09:33:51.781Z"
   },
   {
    "duration": 472,
    "start_time": "2023-06-09T09:35:51.306Z"
   },
   {
    "duration": 432,
    "start_time": "2023-06-09T09:35:58.372Z"
   },
   {
    "duration": 652,
    "start_time": "2023-06-09T09:37:10.138Z"
   },
   {
    "duration": 500,
    "start_time": "2023-06-09T09:37:32.261Z"
   },
   {
    "duration": 414,
    "start_time": "2023-06-09T09:37:45.906Z"
   },
   {
    "duration": 5,
    "start_time": "2023-06-09T09:38:27.399Z"
   },
   {
    "duration": 5,
    "start_time": "2023-06-09T09:38:40.462Z"
   },
   {
    "duration": 5,
    "start_time": "2023-06-09T09:38:51.479Z"
   },
   {
    "duration": 5,
    "start_time": "2023-06-09T09:39:05.302Z"
   },
   {
    "duration": 5,
    "start_time": "2023-06-09T09:39:27.390Z"
   },
   {
    "duration": 11,
    "start_time": "2023-06-09T09:43:13.738Z"
   },
   {
    "duration": 5,
    "start_time": "2023-06-09T09:43:21.920Z"
   },
   {
    "duration": 13,
    "start_time": "2023-06-09T09:43:25.592Z"
   },
   {
    "duration": 310,
    "start_time": "2023-06-09T09:44:22.311Z"
   },
   {
    "duration": 9,
    "start_time": "2023-06-09T09:46:06.944Z"
   },
   {
    "duration": 202,
    "start_time": "2023-06-09T09:46:31.517Z"
   },
   {
    "duration": 1597,
    "start_time": "2023-06-09T09:51:54.074Z"
   },
   {
    "duration": 274,
    "start_time": "2023-06-09T09:51:55.674Z"
   },
   {
    "duration": 32,
    "start_time": "2023-06-09T09:51:55.950Z"
   },
   {
    "duration": 40,
    "start_time": "2023-06-09T09:51:55.986Z"
   },
   {
    "duration": 52,
    "start_time": "2023-06-09T09:51:56.028Z"
   },
   {
    "duration": 30,
    "start_time": "2023-06-09T09:51:56.082Z"
   },
   {
    "duration": 58,
    "start_time": "2023-06-09T09:51:56.114Z"
   },
   {
    "duration": 10,
    "start_time": "2023-06-09T09:51:56.174Z"
   },
   {
    "duration": 23,
    "start_time": "2023-06-09T09:51:56.186Z"
   },
   {
    "duration": 112,
    "start_time": "2023-06-09T09:51:56.213Z"
   },
   {
    "duration": 27,
    "start_time": "2023-06-09T09:51:56.327Z"
   },
   {
    "duration": 64,
    "start_time": "2023-06-09T09:51:56.356Z"
   },
   {
    "duration": 178,
    "start_time": "2023-06-09T09:51:56.422Z"
   },
   {
    "duration": 51,
    "start_time": "2023-06-09T09:51:56.603Z"
   },
   {
    "duration": 22,
    "start_time": "2023-06-09T09:51:56.657Z"
   },
   {
    "duration": 15,
    "start_time": "2023-06-09T09:51:56.682Z"
   },
   {
    "duration": 67,
    "start_time": "2023-06-09T09:51:56.699Z"
   },
   {
    "duration": 81741,
    "start_time": "2023-06-09T09:51:56.769Z"
   },
   {
    "duration": 32535,
    "start_time": "2023-06-09T09:53:18.512Z"
   },
   {
    "duration": 9,
    "start_time": "2023-06-09T09:53:51.051Z"
   },
   {
    "duration": 58358,
    "start_time": "2023-06-09T09:53:51.062Z"
   },
   {
    "duration": 53,
    "start_time": "2023-06-09T09:54:49.422Z"
   },
   {
    "duration": 3163,
    "start_time": "2023-06-09T09:54:49.477Z"
   },
   {
    "duration": 133,
    "start_time": "2023-06-09T09:54:52.642Z"
   },
   {
    "duration": 16,
    "start_time": "2023-06-09T09:54:52.777Z"
   },
   {
    "duration": 259,
    "start_time": "2023-06-09T09:54:52.795Z"
   },
   {
    "duration": 361,
    "start_time": "2023-06-09T09:54:53.056Z"
   },
   {
    "duration": 283,
    "start_time": "2023-06-09T09:54:53.422Z"
   },
   {
    "duration": 256,
    "start_time": "2023-06-09T09:54:53.707Z"
   },
   {
    "duration": 228,
    "start_time": "2023-06-09T09:54:53.965Z"
   },
   {
    "duration": 26890,
    "start_time": "2023-06-09T09:54:54.195Z"
   },
   {
    "duration": 15,
    "start_time": "2023-06-09T09:55:21.086Z"
   },
   {
    "duration": 24,
    "start_time": "2023-06-09T09:55:21.103Z"
   },
   {
    "duration": 13384,
    "start_time": "2023-06-09T09:55:21.129Z"
   },
   {
    "duration": 13,
    "start_time": "2023-06-09T09:55:34.515Z"
   },
   {
    "duration": 316,
    "start_time": "2023-06-09T09:55:34.530Z"
   },
   {
    "duration": 9,
    "start_time": "2023-06-09T09:55:34.847Z"
   },
   {
    "duration": 117,
    "start_time": "2023-06-09T09:55:34.858Z"
   },
   {
    "duration": 7,
    "start_time": "2023-06-09T09:55:34.977Z"
   },
   {
    "duration": 13,
    "start_time": "2023-06-09T09:55:34.986Z"
   },
   {
    "duration": 36,
    "start_time": "2023-06-09T09:55:35.000Z"
   },
   {
    "duration": 382,
    "start_time": "2023-06-09T09:55:35.038Z"
   },
   {
    "duration": 194,
    "start_time": "2023-06-09T09:55:35.422Z"
   },
   {
    "duration": 228,
    "start_time": "2023-06-09T09:55:35.618Z"
   },
   {
    "duration": 3,
    "start_time": "2023-06-09T09:55:35.848Z"
   },
   {
    "duration": 56372,
    "start_time": "2023-06-09T09:55:35.853Z"
   },
   {
    "duration": 6,
    "start_time": "2023-06-09T09:56:32.227Z"
   },
   {
    "duration": 57997,
    "start_time": "2023-06-09T09:56:32.236Z"
   },
   {
    "duration": 54588,
    "start_time": "2023-06-09T09:57:30.235Z"
   },
   {
    "duration": 1347,
    "start_time": "2023-06-09T09:58:24.824Z"
   },
   {
    "duration": 73,
    "start_time": "2023-06-09T09:58:26.173Z"
   },
   {
    "duration": 12,
    "start_time": "2023-06-09T09:58:26.247Z"
   },
   {
    "duration": 41,
    "start_time": "2023-06-09T09:58:26.260Z"
   },
   {
    "duration": 42,
    "start_time": "2023-06-09T09:58:26.304Z"
   },
   {
    "duration": 68273,
    "start_time": "2023-06-09T09:58:26.348Z"
   },
   {
    "duration": 7326,
    "start_time": "2023-06-09T09:59:34.623Z"
   },
   {
    "duration": 77323,
    "start_time": "2023-06-09T09:59:41.951Z"
   },
   {
    "duration": 5,
    "start_time": "2023-06-09T10:00:59.276Z"
   },
   {
    "duration": 4564,
    "start_time": "2023-06-09T10:00:59.283Z"
   },
   {
    "duration": 4,
    "start_time": "2023-06-09T10:01:03.849Z"
   },
   {
    "duration": 12,
    "start_time": "2023-06-09T10:01:03.854Z"
   },
   {
    "duration": 10,
    "start_time": "2023-06-09T10:01:03.868Z"
   },
   {
    "duration": 18,
    "start_time": "2023-06-09T10:01:03.880Z"
   },
   {
    "duration": 826,
    "start_time": "2023-06-09T10:01:03.900Z"
   },
   {
    "duration": 0,
    "start_time": "2023-06-09T10:01:04.728Z"
   },
   {
    "duration": 0,
    "start_time": "2023-06-09T10:01:04.730Z"
   },
   {
    "duration": 0,
    "start_time": "2023-06-09T10:01:04.731Z"
   },
   {
    "duration": 0,
    "start_time": "2023-06-09T10:01:04.732Z"
   },
   {
    "duration": 0,
    "start_time": "2023-06-09T10:01:04.733Z"
   },
   {
    "duration": 0,
    "start_time": "2023-06-09T10:01:04.734Z"
   },
   {
    "duration": 0,
    "start_time": "2023-06-09T10:01:04.735Z"
   },
   {
    "duration": 3,
    "start_time": "2023-06-09T10:01:21.669Z"
   },
   {
    "duration": 128605,
    "start_time": "2023-06-09T10:01:23.308Z"
   },
   {
    "duration": 0,
    "start_time": "2023-06-09T10:03:31.915Z"
   },
   {
    "duration": 0,
    "start_time": "2023-06-09T10:03:31.916Z"
   },
   {
    "duration": 0,
    "start_time": "2023-06-09T10:03:31.917Z"
   },
   {
    "duration": 2274,
    "start_time": "2023-06-09T10:03:53.779Z"
   },
   {
    "duration": 17989,
    "start_time": "2023-06-09T10:04:07.888Z"
   },
   {
    "duration": 4,
    "start_time": "2023-06-09T10:05:32.355Z"
   },
   {
    "duration": 5,
    "start_time": "2023-06-09T10:05:53.074Z"
   },
   {
    "duration": 4,
    "start_time": "2023-06-09T10:06:08.075Z"
   },
   {
    "duration": 3,
    "start_time": "2023-06-09T10:06:19.923Z"
   },
   {
    "duration": 4,
    "start_time": "2023-06-09T10:06:25.455Z"
   },
   {
    "duration": 5,
    "start_time": "2023-06-09T10:06:34.886Z"
   },
   {
    "duration": 4,
    "start_time": "2023-06-09T10:06:56.663Z"
   },
   {
    "duration": 3,
    "start_time": "2023-06-09T10:06:57.180Z"
   },
   {
    "duration": 39321,
    "start_time": "2023-06-09T10:06:59.412Z"
   },
   {
    "duration": 10,
    "start_time": "2023-06-09T10:07:48.635Z"
   },
   {
    "duration": 13,
    "start_time": "2023-06-09T10:07:49.207Z"
   },
   {
    "duration": 3,
    "start_time": "2023-06-09T10:07:50.132Z"
   },
   {
    "duration": 454,
    "start_time": "2023-06-09T10:08:17.355Z"
   },
   {
    "duration": 5,
    "start_time": "2023-06-09T10:08:17.820Z"
   },
   {
    "duration": 113,
    "start_time": "2023-06-09T10:08:18.645Z"
   },
   {
    "duration": 5,
    "start_time": "2023-06-09T10:12:22.141Z"
   },
   {
    "duration": 5,
    "start_time": "2023-06-09T10:13:36.739Z"
   },
   {
    "duration": 111,
    "start_time": "2023-06-09T10:14:04.649Z"
   },
   {
    "duration": 12893,
    "start_time": "2023-06-09T10:14:27.378Z"
   },
   {
    "duration": 7180,
    "start_time": "2023-06-09T10:15:02.486Z"
   },
   {
    "duration": 6487,
    "start_time": "2023-06-09T10:16:35.400Z"
   },
   {
    "duration": 5795,
    "start_time": "2023-06-09T10:16:51.484Z"
   },
   {
    "duration": 9,
    "start_time": "2023-06-09T10:19:05.620Z"
   },
   {
    "duration": 260,
    "start_time": "2023-06-09T10:19:15.371Z"
   },
   {
    "duration": 9,
    "start_time": "2023-06-09T10:19:32.610Z"
   },
   {
    "duration": 156,
    "start_time": "2023-06-09T10:19:48.289Z"
   },
   {
    "duration": 124,
    "start_time": "2023-06-09T10:21:33.617Z"
   },
   {
    "duration": 4,
    "start_time": "2023-06-09T10:24:06.147Z"
   },
   {
    "duration": 6,
    "start_time": "2023-06-09T10:25:44.367Z"
   },
   {
    "duration": 131,
    "start_time": "2023-06-09T10:26:26.717Z"
   },
   {
    "duration": 1799,
    "start_time": "2023-06-09T10:28:52.996Z"
   },
   {
    "duration": 257,
    "start_time": "2023-06-09T10:28:54.797Z"
   },
   {
    "duration": 31,
    "start_time": "2023-06-09T10:28:55.055Z"
   },
   {
    "duration": 19,
    "start_time": "2023-06-09T10:28:55.089Z"
   },
   {
    "duration": 56,
    "start_time": "2023-06-09T10:28:55.109Z"
   },
   {
    "duration": 31,
    "start_time": "2023-06-09T10:28:55.167Z"
   },
   {
    "duration": 65,
    "start_time": "2023-06-09T10:28:55.200Z"
   },
   {
    "duration": 31,
    "start_time": "2023-06-09T10:28:55.267Z"
   },
   {
    "duration": 43,
    "start_time": "2023-06-09T10:28:55.300Z"
   },
   {
    "duration": 111,
    "start_time": "2023-06-09T10:28:55.346Z"
   },
   {
    "duration": 9,
    "start_time": "2023-06-09T10:28:55.459Z"
   },
   {
    "duration": 41,
    "start_time": "2023-06-09T10:28:55.470Z"
   },
   {
    "duration": 61,
    "start_time": "2023-06-09T10:28:55.513Z"
   },
   {
    "duration": 21,
    "start_time": "2023-06-09T10:28:55.576Z"
   },
   {
    "duration": 50,
    "start_time": "2023-06-09T10:28:55.599Z"
   },
   {
    "duration": 17,
    "start_time": "2023-06-09T10:28:55.651Z"
   },
   {
    "duration": 24,
    "start_time": "2023-06-09T10:28:55.670Z"
   },
   {
    "duration": 80130,
    "start_time": "2023-06-09T10:28:55.696Z"
   },
   {
    "duration": 32307,
    "start_time": "2023-06-09T10:30:15.828Z"
   },
   {
    "duration": 10,
    "start_time": "2023-06-09T10:30:48.137Z"
   },
   {
    "duration": 59097,
    "start_time": "2023-06-09T10:30:48.149Z"
   },
   {
    "duration": 37,
    "start_time": "2023-06-09T10:31:47.248Z"
   },
   {
    "duration": 3089,
    "start_time": "2023-06-09T10:31:47.287Z"
   },
   {
    "duration": 126,
    "start_time": "2023-06-09T10:31:50.379Z"
   },
   {
    "duration": 17,
    "start_time": "2023-06-09T10:31:50.507Z"
   },
   {
    "duration": 249,
    "start_time": "2023-06-09T10:31:50.526Z"
   },
   {
    "duration": 298,
    "start_time": "2023-06-09T10:31:50.777Z"
   },
   {
    "duration": 266,
    "start_time": "2023-06-09T10:31:51.080Z"
   },
   {
    "duration": 233,
    "start_time": "2023-06-09T10:31:51.348Z"
   },
   {
    "duration": 228,
    "start_time": "2023-06-09T10:31:51.583Z"
   },
   {
    "duration": 26514,
    "start_time": "2023-06-09T10:31:51.813Z"
   },
   {
    "duration": 135,
    "start_time": "2023-06-09T10:32:18.329Z"
   },
   {
    "duration": 14,
    "start_time": "2023-06-09T10:32:18.466Z"
   },
   {
    "duration": 17,
    "start_time": "2023-06-09T10:32:18.481Z"
   },
   {
    "duration": 6258,
    "start_time": "2023-06-09T10:32:18.500Z"
   },
   {
    "duration": 192,
    "start_time": "2023-06-09T10:32:24.759Z"
   },
   {
    "duration": 128,
    "start_time": "2023-06-09T10:32:24.953Z"
   },
   {
    "duration": 14,
    "start_time": "2023-06-09T10:32:25.083Z"
   },
   {
    "duration": 226,
    "start_time": "2023-06-09T10:32:25.099Z"
   },
   {
    "duration": 7,
    "start_time": "2023-06-09T10:32:25.327Z"
   },
   {
    "duration": 124,
    "start_time": "2023-06-09T10:32:25.345Z"
   },
   {
    "duration": 8,
    "start_time": "2023-06-09T10:32:25.471Z"
   },
   {
    "duration": 29,
    "start_time": "2023-06-09T10:32:25.481Z"
   },
   {
    "duration": 26,
    "start_time": "2023-06-09T10:32:25.512Z"
   },
   {
    "duration": 347,
    "start_time": "2023-06-09T10:32:25.540Z"
   },
   {
    "duration": 185,
    "start_time": "2023-06-09T10:32:25.889Z"
   },
   {
    "duration": 227,
    "start_time": "2023-06-09T10:32:26.076Z"
   },
   {
    "duration": 2,
    "start_time": "2023-06-09T10:32:26.306Z"
   },
   {
    "duration": 54321,
    "start_time": "2023-06-09T10:32:26.309Z"
   },
   {
    "duration": 5,
    "start_time": "2023-06-09T10:33:20.633Z"
   },
   {
    "duration": 54545,
    "start_time": "2023-06-09T10:33:20.646Z"
   },
   {
    "duration": 54609,
    "start_time": "2023-06-09T10:34:15.192Z"
   },
   {
    "duration": 1359,
    "start_time": "2023-06-09T10:35:09.803Z"
   },
   {
    "duration": 84,
    "start_time": "2023-06-09T10:35:11.164Z"
   },
   {
    "duration": 54,
    "start_time": "2023-06-09T10:35:11.250Z"
   },
   {
    "duration": 69,
    "start_time": "2023-06-09T10:35:11.306Z"
   },
   {
    "duration": 63,
    "start_time": "2023-06-09T10:35:11.377Z"
   },
   {
    "duration": 69975,
    "start_time": "2023-06-09T10:35:11.442Z"
   },
   {
    "duration": 8032,
    "start_time": "2023-06-09T10:36:21.420Z"
   },
   {
    "duration": 80076,
    "start_time": "2023-06-09T10:36:29.454Z"
   },
   {
    "duration": 16,
    "start_time": "2023-06-09T10:37:49.532Z"
   },
   {
    "duration": 5096,
    "start_time": "2023-06-09T10:37:49.551Z"
   },
   {
    "duration": 4,
    "start_time": "2023-06-09T10:37:54.649Z"
   },
   {
    "duration": 18,
    "start_time": "2023-06-09T10:37:54.655Z"
   },
   {
    "duration": 9,
    "start_time": "2023-06-09T10:37:54.675Z"
   },
   {
    "duration": 20,
    "start_time": "2023-06-09T10:37:54.686Z"
   },
   {
    "duration": 10,
    "start_time": "2023-06-09T10:37:54.710Z"
   },
   {
    "duration": 9,
    "start_time": "2023-06-09T10:37:54.722Z"
   },
   {
    "duration": 40379,
    "start_time": "2023-06-09T10:37:54.733Z"
   },
   {
    "duration": 9,
    "start_time": "2023-06-09T10:38:35.114Z"
   },
   {
    "duration": 30,
    "start_time": "2023-06-09T10:38:35.125Z"
   },
   {
    "duration": 68,
    "start_time": "2023-06-09T10:38:35.156Z"
   },
   {
    "duration": 455,
    "start_time": "2023-06-09T10:38:35.226Z"
   },
   {
    "duration": 5,
    "start_time": "2023-06-09T10:38:35.682Z"
   }
  ],
  "kernelspec": {
   "display_name": "Python 3 (ipykernel)",
   "language": "python",
   "name": "python3"
  },
  "language_info": {
   "codemirror_mode": {
    "name": "ipython",
    "version": 3
   },
   "file_extension": ".py",
   "mimetype": "text/x-python",
   "name": "python",
   "nbconvert_exporter": "python",
   "pygments_lexer": "ipython3",
   "version": "3.9.5"
  },
  "toc": {
   "base_numbering": 1,
   "nav_menu": {},
   "number_sections": true,
   "sideBar": true,
   "skip_h1_title": true,
   "title_cell": "Table of Contents",
   "title_sidebar": "Contents",
   "toc_cell": false,
   "toc_position": {},
   "toc_section_display": true,
   "toc_window_display": false
  }
 },
 "nbformat": 4,
 "nbformat_minor": 2
}
